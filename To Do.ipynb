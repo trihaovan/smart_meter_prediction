{
 "cells": [
  {
   "cell_type": "markdown",
   "metadata": {},
   "source": [
    "# **TO DO:**"
   ]
  },
  {
   "cell_type": "markdown",
   "metadata": {},
   "source": [
    "##### FOR LR MODEL:\n",
    "- Feature extraction:\n",
    "    - Rolling variance and means\n",
    "        - 7, 14, 30 day\n",
    "- Check correlation with consumption\n",
    "    - Pearson correlation heatmap\n",
    "    - Identify whether short, medium, long range data is most relevant\n",
    "\n",
    "##### FOR ARIMA MODEL:\n",
    "- Try decomposing over different periods\n",
    "    - Use observations from LR feature extraction to decide\n",
    "    - Maybe try aggregating over months instead of years and decompose over year\n"
   ]
  }
 ],
 "metadata": {
  "kernelspec": {
   "display_name": "Python 3.9.12 ('base')",
   "language": "python",
   "name": "python3"
  },
  "language_info": {
   "name": "python",
   "version": "3.9.12"
  },
  "orig_nbformat": 4,
  "vscode": {
   "interpreter": {
    "hash": "be60cb7fb4d9d69d6e403a674e60ca79d6955998b0c6f72fcee7dc4049b98c24"
   }
  }
 },
 "nbformat": 4,
 "nbformat_minor": 2
}
