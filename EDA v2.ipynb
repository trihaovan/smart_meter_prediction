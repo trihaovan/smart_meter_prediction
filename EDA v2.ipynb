{
 "cells": [
  {
   "cell_type": "code",
   "execution_count": 2,
   "metadata": {},
   "outputs": [],
   "source": [
    "import pandas as pd\n",
    "import numpy as np\n",
    "import matplotlib.pyplot as plt\n",
    "import plotly.express as px\n",
    "from plotly.subplots import make_subplots\n",
    "import plotly.graph_objs as go\n",
    "import seaborn as sns\n",
    "from statsmodels.api import tsa "
   ]
  },
  {
   "cell_type": "code",
   "execution_count": 3,
   "metadata": {},
   "outputs": [],
   "source": [
    "# LCL_chunk = pd.read_csv('LCL_Full/CC_LCL-FullData.csv', parse_dates=[2], infer_datetime_format=True, chunksize= 1000000)\n",
    "# limit = 10\n",
    "# while limit == 10:\n",
    "#     for chunk in LCL_chunk:\n",
    "#         print(chunk.info())\n",
    "#         limit -= 1"
   ]
  },
  {
   "cell_type": "code",
   "execution_count": 4,
   "metadata": {},
   "outputs": [],
   "source": [
    "# Load the power consumption data\n",
    "LCL = pd.read_csv('data/CC_LCL-FullData.csv', parse_dates=[2], infer_datetime_format = True, nrows = 10000000) # Convert to DateTime format as data is read\n",
    "\n",
    "# Load ACORN rating data\n",
    "acorn = pd.read_csv('data/household_info.csv')"
   ]
  },
  {
   "cell_type": "code",
   "execution_count": 5,
   "metadata": {},
   "outputs": [
    {
     "data": {
      "text/html": [
       "<div>\n",
       "<style scoped>\n",
       "    .dataframe tbody tr th:only-of-type {\n",
       "        vertical-align: middle;\n",
       "    }\n",
       "\n",
       "    .dataframe tbody tr th {\n",
       "        vertical-align: top;\n",
       "    }\n",
       "\n",
       "    .dataframe thead th {\n",
       "        text-align: right;\n",
       "    }\n",
       "</style>\n",
       "<table border=\"1\" class=\"dataframe\">\n",
       "  <thead>\n",
       "    <tr style=\"text-align: right;\">\n",
       "      <th></th>\n",
       "      <th>LCLid</th>\n",
       "      <th>stdorToU</th>\n",
       "      <th>DateTime</th>\n",
       "      <th>KWH/hh (per half hour)</th>\n",
       "    </tr>\n",
       "  </thead>\n",
       "  <tbody>\n",
       "    <tr>\n",
       "      <th>0</th>\n",
       "      <td>MAC000002</td>\n",
       "      <td>Std</td>\n",
       "      <td>2012-10-12 00:30:00</td>\n",
       "      <td>0</td>\n",
       "    </tr>\n",
       "    <tr>\n",
       "      <th>1</th>\n",
       "      <td>MAC000002</td>\n",
       "      <td>Std</td>\n",
       "      <td>2012-10-12 01:00:00</td>\n",
       "      <td>0</td>\n",
       "    </tr>\n",
       "    <tr>\n",
       "      <th>2</th>\n",
       "      <td>MAC000002</td>\n",
       "      <td>Std</td>\n",
       "      <td>2012-10-12 01:30:00</td>\n",
       "      <td>0</td>\n",
       "    </tr>\n",
       "    <tr>\n",
       "      <th>3</th>\n",
       "      <td>MAC000002</td>\n",
       "      <td>Std</td>\n",
       "      <td>2012-10-12 02:00:00</td>\n",
       "      <td>0</td>\n",
       "    </tr>\n",
       "    <tr>\n",
       "      <th>4</th>\n",
       "      <td>MAC000002</td>\n",
       "      <td>Std</td>\n",
       "      <td>2012-10-12 02:30:00</td>\n",
       "      <td>0</td>\n",
       "    </tr>\n",
       "  </tbody>\n",
       "</table>\n",
       "</div>"
      ],
      "text/plain": [
       "       LCLid stdorToU            DateTime KWH/hh (per half hour) \n",
       "0  MAC000002      Std 2012-10-12 00:30:00                      0 \n",
       "1  MAC000002      Std 2012-10-12 01:00:00                      0 \n",
       "2  MAC000002      Std 2012-10-12 01:30:00                      0 \n",
       "3  MAC000002      Std 2012-10-12 02:00:00                      0 \n",
       "4  MAC000002      Std 2012-10-12 02:30:00                      0 "
      ]
     },
     "execution_count": 5,
     "metadata": {},
     "output_type": "execute_result"
    }
   ],
   "source": [
    "LCL.head()"
   ]
  },
  {
   "cell_type": "code",
   "execution_count": 6,
   "metadata": {},
   "outputs": [
    {
     "data": {
      "text/plain": [
       "Index(['id', 'tariff', 'timestamp', 'power'], dtype='object')"
      ]
     },
     "execution_count": 6,
     "metadata": {},
     "output_type": "execute_result"
    }
   ],
   "source": [
    "# Rename columns\n",
    "LCL.rename(columns = {'LCLid': 'id',\n",
    "                     'stdorToU': 'tariff',\n",
    "                     'DateTime':'timestamp',\n",
    "                     'KWH/hh (per half hour) ':'power'}, inplace = True)\n",
    "\n",
    "# Check renamed\n",
    "LCL.columns"
   ]
  },
  {
   "cell_type": "code",
   "execution_count": 7,
   "metadata": {},
   "outputs": [
    {
     "name": "stdout",
     "output_type": "stream",
     "text": [
      "<class 'pandas.core.frame.DataFrame'>\n",
      "RangeIndex: 10000000 entries, 0 to 9999999\n",
      "Data columns (total 4 columns):\n",
      " #   Column     Dtype         \n",
      "---  ------     -----         \n",
      " 0   id         object        \n",
      " 1   tariff     object        \n",
      " 2   timestamp  datetime64[ns]\n",
      " 3   power      object        \n",
      "dtypes: datetime64[ns](1), object(3)\n",
      "memory usage: 305.2+ MB\n"
     ]
    }
   ],
   "source": [
    "# Check data types\n",
    "LCL.info()"
   ]
  },
  {
   "cell_type": "code",
   "execution_count": 8,
   "metadata": {},
   "outputs": [
    {
     "name": "stdout",
     "output_type": "stream",
     "text": [
      "<class 'pandas.core.frame.DataFrame'>\n",
      "RangeIndex: 10000000 entries, 0 to 9999999\n",
      "Data columns (total 4 columns):\n",
      " #   Column     Dtype         \n",
      "---  ------     -----         \n",
      " 0   id         object        \n",
      " 1   tariff     object        \n",
      " 2   timestamp  datetime64[ns]\n",
      " 3   power      object        \n",
      "dtypes: datetime64[ns](1), object(3)\n",
      "memory usage: 305.2+ MB\n"
     ]
    },
    {
     "name": "stderr",
     "output_type": "stream",
     "text": [
      "C:\\Users\\triha\\AppData\\Local\\Temp\\ipykernel_19244\\1019508354.py:2: SettingWithCopyWarning: \n",
      "A value is trying to be set on a copy of a slice from a DataFrame\n",
      "\n",
      "See the caveats in the documentation: https://pandas.pydata.org/pandas-docs/stable/user_guide/indexing.html#returning-a-view-versus-a-copy\n",
      "  LCL['power'].loc[LCL['power'] == 'Null'] = np.nan\n"
     ]
    }
   ],
   "source": [
    "# Data contained null values but as a string. Convert these to numerical nulls.\n",
    "LCL['power'].loc[LCL['power'] == 'Null'] = np.nan\n",
    "LCL.info()"
   ]
  },
  {
   "cell_type": "code",
   "execution_count": 9,
   "id": "19988d1c",
   "metadata": {},
   "outputs": [
    {
     "data": {
      "text/html": [
       "<div>\n",
       "<style scoped>\n",
       "    .dataframe tbody tr th:only-of-type {\n",
       "        vertical-align: middle;\n",
       "    }\n",
       "\n",
       "    .dataframe tbody tr th {\n",
       "        vertical-align: top;\n",
       "    }\n",
       "\n",
       "    .dataframe thead th {\n",
       "        text-align: right;\n",
       "    }\n",
       "</style>\n",
       "<table border=\"1\" class=\"dataframe\">\n",
       "  <thead>\n",
       "    <tr style=\"text-align: right;\">\n",
       "      <th></th>\n",
       "      <th>id</th>\n",
       "      <th>tariff</th>\n",
       "      <th>timestamp</th>\n",
       "      <th>power</th>\n",
       "    </tr>\n",
       "  </thead>\n",
       "  <tbody>\n",
       "    <tr>\n",
       "      <th>1023244</th>\n",
       "      <td>MAC000037</td>\n",
       "      <td>Std</td>\n",
       "      <td>2011-12-15</td>\n",
       "      <td>0</td>\n",
       "    </tr>\n",
       "    <tr>\n",
       "      <th>5918825</th>\n",
       "      <td>MAC000197</td>\n",
       "      <td>Std</td>\n",
       "      <td>2011-12-15</td>\n",
       "      <td>0</td>\n",
       "    </tr>\n",
       "    <tr>\n",
       "      <th>601955</th>\n",
       "      <td>MAC000025</td>\n",
       "      <td>Std</td>\n",
       "      <td>2012-01-15</td>\n",
       "      <td>0</td>\n",
       "    </tr>\n",
       "    <tr>\n",
       "      <th>1024733</th>\n",
       "      <td>MAC000037</td>\n",
       "      <td>Std</td>\n",
       "      <td>2012-01-15</td>\n",
       "      <td>0</td>\n",
       "    </tr>\n",
       "    <tr>\n",
       "      <th>5920314</th>\n",
       "      <td>MAC000197</td>\n",
       "      <td>Std</td>\n",
       "      <td>2012-01-15</td>\n",
       "      <td>0</td>\n",
       "    </tr>\n",
       "    <tr>\n",
       "      <th>...</th>\n",
       "      <td>...</td>\n",
       "      <td>...</td>\n",
       "      <td>...</td>\n",
       "      <td>...</td>\n",
       "    </tr>\n",
       "    <tr>\n",
       "      <th>941822</th>\n",
       "      <td>MAC000034</td>\n",
       "      <td>Std</td>\n",
       "      <td>2013-12-28</td>\n",
       "      <td>4.7719998</td>\n",
       "    </tr>\n",
       "    <tr>\n",
       "      <th>944800</th>\n",
       "      <td>MAC000034</td>\n",
       "      <td>Std</td>\n",
       "      <td>2014-02-28</td>\n",
       "      <td>5.6900001</td>\n",
       "    </tr>\n",
       "    <tr>\n",
       "      <th>928425</th>\n",
       "      <td>MAC000034</td>\n",
       "      <td>Std</td>\n",
       "      <td>2013-03-24</td>\n",
       "      <td>5.7870002</td>\n",
       "    </tr>\n",
       "    <tr>\n",
       "      <th>926936</th>\n",
       "      <td>MAC000034</td>\n",
       "      <td>Std</td>\n",
       "      <td>2013-02-21</td>\n",
       "      <td>6.0830002</td>\n",
       "    </tr>\n",
       "    <tr>\n",
       "      <th>943311</th>\n",
       "      <td>MAC000034</td>\n",
       "      <td>Std</td>\n",
       "      <td>2014-01-28</td>\n",
       "      <td>6.5100002</td>\n",
       "    </tr>\n",
       "  </tbody>\n",
       "</table>\n",
       "<p>6856 rows × 4 columns</p>\n",
       "</div>"
      ],
      "text/plain": [
       "                id tariff  timestamp        power\n",
       "1023244  MAC000037    Std 2011-12-15           0 \n",
       "5918825  MAC000197    Std 2011-12-15           0 \n",
       "601955   MAC000025    Std 2012-01-15           0 \n",
       "1024733  MAC000037    Std 2012-01-15           0 \n",
       "5920314  MAC000197    Std 2012-01-15           0 \n",
       "...            ...    ...        ...          ...\n",
       "941822   MAC000034    Std 2013-12-28   4.7719998 \n",
       "944800   MAC000034    Std 2014-02-28   5.6900001 \n",
       "928425   MAC000034    Std 2013-03-24   5.7870002 \n",
       "926936   MAC000034    Std 2013-02-21   6.0830002 \n",
       "943311   MAC000034    Std 2014-01-28   6.5100002 \n",
       "\n",
       "[6856 rows x 4 columns]"
      ]
     },
     "execution_count": 9,
     "metadata": {},
     "output_type": "execute_result"
    }
   ],
   "source": [
    "LCL[LCL.duplicated()].sort_values(by = ['power', 'timestamp'])"
   ]
  },
  {
   "cell_type": "code",
   "execution_count": 10,
   "metadata": {},
   "outputs": [],
   "source": [
    "LCL['day'] = LCL['timestamp'].dt.date"
   ]
  },
  {
   "cell_type": "code",
   "execution_count": 11,
   "metadata": {},
   "outputs": [
    {
     "data": {
      "text/html": [
       "<div>\n",
       "<style scoped>\n",
       "    .dataframe tbody tr th:only-of-type {\n",
       "        vertical-align: middle;\n",
       "    }\n",
       "\n",
       "    .dataframe tbody tr th {\n",
       "        vertical-align: top;\n",
       "    }\n",
       "\n",
       "    .dataframe thead th {\n",
       "        text-align: right;\n",
       "    }\n",
       "</style>\n",
       "<table border=\"1\" class=\"dataframe\">\n",
       "  <thead>\n",
       "    <tr style=\"text-align: right;\">\n",
       "      <th></th>\n",
       "      <th>id</th>\n",
       "      <th>tariff</th>\n",
       "      <th>timestamp</th>\n",
       "      <th>power</th>\n",
       "      <th>day</th>\n",
       "    </tr>\n",
       "  </thead>\n",
       "  <tbody>\n",
       "    <tr>\n",
       "      <th>0</th>\n",
       "      <td>MAC000002</td>\n",
       "      <td>Std</td>\n",
       "      <td>2012-10-12 00:30:00</td>\n",
       "      <td>0</td>\n",
       "      <td>2012-10-12</td>\n",
       "    </tr>\n",
       "    <tr>\n",
       "      <th>1</th>\n",
       "      <td>MAC000002</td>\n",
       "      <td>Std</td>\n",
       "      <td>2012-10-12 01:00:00</td>\n",
       "      <td>0</td>\n",
       "      <td>2012-10-12</td>\n",
       "    </tr>\n",
       "    <tr>\n",
       "      <th>2</th>\n",
       "      <td>MAC000002</td>\n",
       "      <td>Std</td>\n",
       "      <td>2012-10-12 01:30:00</td>\n",
       "      <td>0</td>\n",
       "      <td>2012-10-12</td>\n",
       "    </tr>\n",
       "    <tr>\n",
       "      <th>3</th>\n",
       "      <td>MAC000002</td>\n",
       "      <td>Std</td>\n",
       "      <td>2012-10-12 02:00:00</td>\n",
       "      <td>0</td>\n",
       "      <td>2012-10-12</td>\n",
       "    </tr>\n",
       "    <tr>\n",
       "      <th>4</th>\n",
       "      <td>MAC000002</td>\n",
       "      <td>Std</td>\n",
       "      <td>2012-10-12 02:30:00</td>\n",
       "      <td>0</td>\n",
       "      <td>2012-10-12</td>\n",
       "    </tr>\n",
       "  </tbody>\n",
       "</table>\n",
       "</div>"
      ],
      "text/plain": [
       "          id tariff           timestamp power         day\n",
       "0  MAC000002    Std 2012-10-12 00:30:00    0   2012-10-12\n",
       "1  MAC000002    Std 2012-10-12 01:00:00    0   2012-10-12\n",
       "2  MAC000002    Std 2012-10-12 01:30:00    0   2012-10-12\n",
       "3  MAC000002    Std 2012-10-12 02:00:00    0   2012-10-12\n",
       "4  MAC000002    Std 2012-10-12 02:30:00    0   2012-10-12"
      ]
     },
     "execution_count": 11,
     "metadata": {},
     "output_type": "execute_result"
    }
   ],
   "source": [
    "LCL.head()"
   ]
  },
  {
   "cell_type": "code",
   "execution_count": 12,
   "id": "1272f0bf",
   "metadata": {},
   "outputs": [],
   "source": [
    "LCL.drop_duplicates(inplace = True)\n",
    "LCL.reset_index(inplace = True, drop = True)"
   ]
  },
  {
   "cell_type": "code",
   "execution_count": 13,
   "metadata": {},
   "outputs": [],
   "source": [
    "LCL.power = 0.5*LCL.power.astype('float') # Convert to float, then convert units to KW instead of KWh/hh"
   ]
  },
  {
   "cell_type": "code",
   "execution_count": 14,
   "metadata": {},
   "outputs": [],
   "source": [
    "LCL = LCL.join(acorn[['LCLid', 'Acorn_grouped']].set_index('LCLid'), on = 'id') # Join Acorn affluence data"
   ]
  },
  {
   "cell_type": "code",
   "execution_count": 15,
   "metadata": {},
   "outputs": [
    {
     "data": {
      "text/html": [
       "<div>\n",
       "<style scoped>\n",
       "    .dataframe tbody tr th:only-of-type {\n",
       "        vertical-align: middle;\n",
       "    }\n",
       "\n",
       "    .dataframe tbody tr th {\n",
       "        vertical-align: top;\n",
       "    }\n",
       "\n",
       "    .dataframe thead th {\n",
       "        text-align: right;\n",
       "    }\n",
       "</style>\n",
       "<table border=\"1\" class=\"dataframe\">\n",
       "  <thead>\n",
       "    <tr style=\"text-align: right;\">\n",
       "      <th></th>\n",
       "      <th>id</th>\n",
       "      <th>tariff</th>\n",
       "      <th>timestamp</th>\n",
       "      <th>power</th>\n",
       "      <th>day</th>\n",
       "      <th>Acorn_grouped</th>\n",
       "    </tr>\n",
       "  </thead>\n",
       "  <tbody>\n",
       "    <tr>\n",
       "      <th>0</th>\n",
       "      <td>MAC000002</td>\n",
       "      <td>Std</td>\n",
       "      <td>2012-10-12 00:30:00</td>\n",
       "      <td>0.0</td>\n",
       "      <td>2012-10-12</td>\n",
       "      <td>Affluent</td>\n",
       "    </tr>\n",
       "    <tr>\n",
       "      <th>1</th>\n",
       "      <td>MAC000002</td>\n",
       "      <td>Std</td>\n",
       "      <td>2012-10-12 01:00:00</td>\n",
       "      <td>0.0</td>\n",
       "      <td>2012-10-12</td>\n",
       "      <td>Affluent</td>\n",
       "    </tr>\n",
       "    <tr>\n",
       "      <th>2</th>\n",
       "      <td>MAC000002</td>\n",
       "      <td>Std</td>\n",
       "      <td>2012-10-12 01:30:00</td>\n",
       "      <td>0.0</td>\n",
       "      <td>2012-10-12</td>\n",
       "      <td>Affluent</td>\n",
       "    </tr>\n",
       "    <tr>\n",
       "      <th>3</th>\n",
       "      <td>MAC000002</td>\n",
       "      <td>Std</td>\n",
       "      <td>2012-10-12 02:00:00</td>\n",
       "      <td>0.0</td>\n",
       "      <td>2012-10-12</td>\n",
       "      <td>Affluent</td>\n",
       "    </tr>\n",
       "    <tr>\n",
       "      <th>4</th>\n",
       "      <td>MAC000002</td>\n",
       "      <td>Std</td>\n",
       "      <td>2012-10-12 02:30:00</td>\n",
       "      <td>0.0</td>\n",
       "      <td>2012-10-12</td>\n",
       "      <td>Affluent</td>\n",
       "    </tr>\n",
       "  </tbody>\n",
       "</table>\n",
       "</div>"
      ],
      "text/plain": [
       "          id tariff           timestamp  power         day Acorn_grouped\n",
       "0  MAC000002    Std 2012-10-12 00:30:00    0.0  2012-10-12      Affluent\n",
       "1  MAC000002    Std 2012-10-12 01:00:00    0.0  2012-10-12      Affluent\n",
       "2  MAC000002    Std 2012-10-12 01:30:00    0.0  2012-10-12      Affluent\n",
       "3  MAC000002    Std 2012-10-12 02:00:00    0.0  2012-10-12      Affluent\n",
       "4  MAC000002    Std 2012-10-12 02:30:00    0.0  2012-10-12      Affluent"
      ]
     },
     "execution_count": 15,
     "metadata": {},
     "output_type": "execute_result"
    }
   ],
   "source": [
    "LCL.head()"
   ]
  },
  {
   "cell_type": "code",
   "execution_count": 16,
   "metadata": {},
   "outputs": [
    {
     "name": "stdout",
     "output_type": "stream",
     "text": [
      "<class 'pandas.core.frame.DataFrame'>\n",
      "RangeIndex: 9993144 entries, 0 to 9993143\n",
      "Data columns (total 5 columns):\n",
      " #   Column     Dtype         \n",
      "---  ------     -----         \n",
      " 0   tariff     object        \n",
      " 1   timestamp  datetime64[ns]\n",
      " 2   KW         float64       \n",
      " 3   day        object        \n",
      " 4   acorn      object        \n",
      "dtypes: datetime64[ns](1), float64(1), object(3)\n",
      "memory usage: 381.2+ MB\n"
     ]
    }
   ],
   "source": [
    "LCL.rename(columns = {\"power\":\"KW\", \"Acorn_grouped\": \"acorn\"}, inplace=True) # Rename columns.\n",
    "LCL.drop(columns = ['id'], inplace=True) # Model will predict based on Acorn affluence, so household identifier is irrelevant once Acorn data has been joined.\n",
    "LCL.info()"
   ]
  },
  {
   "cell_type": "code",
   "execution_count": 17,
   "metadata": {},
   "outputs": [
    {
     "data": {
      "text/plain": [
       "Affluent       4123247\n",
       "Comfortable    3013899\n",
       "Adversity      2778151\n",
       "ACORN-U          77847\n",
       "Name: acorn, dtype: int64"
      ]
     },
     "execution_count": 17,
     "metadata": {},
     "output_type": "execute_result"
    }
   ],
   "source": [
    "LCL.acorn.value_counts()"
   ]
  },
  {
   "cell_type": "code",
   "execution_count": 18,
   "metadata": {},
   "outputs": [],
   "source": [
    "# Drop rows where acorn value is not either 'Affluent', 'Comfortable', or 'Adversity'\n",
    "to_keep = LCL.acorn.isin(['Affluent', 'Comfortable', 'Adversity'])\n",
    "LCL = LCL[to_keep]"
   ]
  },
  {
   "cell_type": "code",
   "execution_count": 19,
   "id": "7723ffc9",
   "metadata": {},
   "outputs": [],
   "source": [
    "# Average energy over week for each household\n",
    "# ac_grouped = (LCL[['tariff', 'day', 'KW', 'acorn']].groupby(['tariff', 'acorn', 'day']).mean()).sort_values(by = ['acorn', 'day'])\n",
    "tariff_grouped = (LCL[['tariff', 'day', 'KW', 'acorn']].groupby(['tariff', 'day']).mean()).sort_values(by = ['tariff', 'day'])"
   ]
  },
  {
   "cell_type": "code",
   "execution_count": 20,
   "metadata": {},
   "outputs": [
    {
     "data": {
      "text/html": [
       "<div>\n",
       "<style scoped>\n",
       "    .dataframe tbody tr th:only-of-type {\n",
       "        vertical-align: middle;\n",
       "    }\n",
       "\n",
       "    .dataframe tbody tr th {\n",
       "        vertical-align: top;\n",
       "    }\n",
       "\n",
       "    .dataframe thead th {\n",
       "        text-align: right;\n",
       "    }\n",
       "</style>\n",
       "<table border=\"1\" class=\"dataframe\">\n",
       "  <thead>\n",
       "    <tr style=\"text-align: right;\">\n",
       "      <th></th>\n",
       "      <th></th>\n",
       "      <th>KW</th>\n",
       "    </tr>\n",
       "    <tr>\n",
       "      <th>tariff</th>\n",
       "      <th>day</th>\n",
       "      <th></th>\n",
       "    </tr>\n",
       "  </thead>\n",
       "  <tbody>\n",
       "    <tr>\n",
       "      <th rowspan=\"5\" valign=\"top\">Std</th>\n",
       "      <th>2011-11-23</th>\n",
       "      <td>0.148062</td>\n",
       "    </tr>\n",
       "    <tr>\n",
       "      <th>2011-11-24</th>\n",
       "      <td>0.122387</td>\n",
       "    </tr>\n",
       "    <tr>\n",
       "      <th>2011-11-25</th>\n",
       "      <td>0.115716</td>\n",
       "    </tr>\n",
       "    <tr>\n",
       "      <th>2011-11-26</th>\n",
       "      <td>0.126168</td>\n",
       "    </tr>\n",
       "    <tr>\n",
       "      <th>2011-11-27</th>\n",
       "      <td>0.118453</td>\n",
       "    </tr>\n",
       "  </tbody>\n",
       "</table>\n",
       "</div>"
      ],
      "text/plain": [
       "                         KW\n",
       "tariff day                 \n",
       "Std    2011-11-23  0.148062\n",
       "       2011-11-24  0.122387\n",
       "       2011-11-25  0.115716\n",
       "       2011-11-26  0.126168\n",
       "       2011-11-27  0.118453"
      ]
     },
     "execution_count": 20,
     "metadata": {},
     "output_type": "execute_result"
    }
   ],
   "source": [
    "# ac_grouped.head()\n",
    "tariff_grouped.head()"
   ]
  },
  {
   "cell_type": "code",
   "execution_count": 21,
   "metadata": {},
   "outputs": [
    {
     "data": {
      "text/html": [
       "<div>\n",
       "<style scoped>\n",
       "    .dataframe tbody tr th:only-of-type {\n",
       "        vertical-align: middle;\n",
       "    }\n",
       "\n",
       "    .dataframe tbody tr th {\n",
       "        vertical-align: top;\n",
       "    }\n",
       "\n",
       "    .dataframe thead th {\n",
       "        text-align: right;\n",
       "    }\n",
       "</style>\n",
       "<table border=\"1\" class=\"dataframe\">\n",
       "  <thead>\n",
       "    <tr style=\"text-align: right;\">\n",
       "      <th></th>\n",
       "      <th>tariff</th>\n",
       "      <th>Std</th>\n",
       "    </tr>\n",
       "    <tr>\n",
       "      <th></th>\n",
       "      <th>day</th>\n",
       "      <th></th>\n",
       "    </tr>\n",
       "  </thead>\n",
       "  <tbody>\n",
       "    <tr>\n",
       "      <th rowspan=\"5\" valign=\"top\">KW</th>\n",
       "      <th>2011-11-23</th>\n",
       "      <td>0.148062</td>\n",
       "    </tr>\n",
       "    <tr>\n",
       "      <th>2011-11-24</th>\n",
       "      <td>0.122387</td>\n",
       "    </tr>\n",
       "    <tr>\n",
       "      <th>2011-11-25</th>\n",
       "      <td>0.115716</td>\n",
       "    </tr>\n",
       "    <tr>\n",
       "      <th>2011-11-26</th>\n",
       "      <td>0.126168</td>\n",
       "    </tr>\n",
       "    <tr>\n",
       "      <th>2011-11-27</th>\n",
       "      <td>0.118453</td>\n",
       "    </tr>\n",
       "  </tbody>\n",
       "</table>\n",
       "</div>"
      ],
      "text/plain": [
       "tariff              Std\n",
       "   day                 \n",
       "KW 2011-11-23  0.148062\n",
       "   2011-11-24  0.122387\n",
       "   2011-11-25  0.115716\n",
       "   2011-11-26  0.126168\n",
       "   2011-11-27  0.118453"
      ]
     },
     "execution_count": 21,
     "metadata": {},
     "output_type": "execute_result"
    }
   ],
   "source": [
    "tariff_dt = tariff_grouped.unstack().T\n",
    "tariff_dt.head()\n",
    "\n"
   ]
  },
  {
   "cell_type": "code",
   "execution_count": 22,
   "metadata": {},
   "outputs": [],
   "source": [
    "# https://stackoverflow.com/questions/28140771/select-only-one-index-of-multiindex-dataframe\n",
    "\n",
    "tariff_dt.set_index(tariff_dt.index.get_level_values(1), inplace = True)\n",
    "# backup = tariff_dt.copy()\n",
    "# tariff_dt.columns = [f'{i}_{j}' for i,j in tariff_dt.columns] # https://stackoverflow.com/questions/24290297/pandas-dataframe-with-multiindex-column-merge-levels"
   ]
  },
  {
   "cell_type": "code",
   "execution_count": 23,
   "metadata": {},
   "outputs": [
    {
     "data": {
      "application/vnd.plotly.v1+json": {
       "config": {
        "plotlyServerURL": "https://plot.ly"
       },
       "data": [
        {
         "hovertemplate": "tariff=Std<br>day=%{x}<br>value=%{y}<extra></extra>",
         "legendgroup": "Std",
         "line": {
          "color": "#636efa",
          "dash": "solid"
         },
         "marker": {
          "symbol": "circle"
         },
         "mode": "lines",
         "name": "Std",
         "orientation": "v",
         "showlegend": true,
         "type": "scatter",
         "x": [
          "2011-11-23",
          "2011-11-24",
          "2011-11-25",
          "2011-11-26",
          "2011-11-27",
          "2011-11-28",
          "2011-11-29",
          "2011-11-30",
          "2011-12-01",
          "2011-12-02",
          "2011-12-03",
          "2011-12-04",
          "2011-12-05",
          "2011-12-06",
          "2011-12-07",
          "2011-12-08",
          "2011-12-09",
          "2011-12-10",
          "2011-12-11",
          "2011-12-12",
          "2011-12-13",
          "2011-12-14",
          "2011-12-15",
          "2011-12-16",
          "2011-12-17",
          "2011-12-18",
          "2011-12-19",
          "2011-12-20",
          "2011-12-21",
          "2011-12-22",
          "2011-12-23",
          "2011-12-24",
          "2011-12-25",
          "2011-12-26",
          "2011-12-27",
          "2011-12-28",
          "2011-12-29",
          "2011-12-30",
          "2011-12-31",
          "2012-01-01",
          "2012-01-02",
          "2012-01-03",
          "2012-01-04",
          "2012-01-05",
          "2012-01-06",
          "2012-01-07",
          "2012-01-08",
          "2012-01-09",
          "2012-01-10",
          "2012-01-11",
          "2012-01-12",
          "2012-01-13",
          "2012-01-14",
          "2012-01-15",
          "2012-01-16",
          "2012-01-17",
          "2012-01-18",
          "2012-01-19",
          "2012-01-20",
          "2012-01-21",
          "2012-01-22",
          "2012-01-23",
          "2012-01-24",
          "2012-01-25",
          "2012-01-26",
          "2012-01-27",
          "2012-01-28",
          "2012-01-29",
          "2012-01-30",
          "2012-01-31",
          "2012-02-01",
          "2012-02-02",
          "2012-02-03",
          "2012-02-04",
          "2012-02-05",
          "2012-02-06",
          "2012-02-07",
          "2012-02-08",
          "2012-02-09",
          "2012-02-10",
          "2012-02-11",
          "2012-02-12",
          "2012-02-13",
          "2012-02-14",
          "2012-02-15",
          "2012-02-16",
          "2012-02-17",
          "2012-02-18",
          "2012-02-19",
          "2012-02-20",
          "2012-02-21",
          "2012-02-22",
          "2012-02-23",
          "2012-02-24",
          "2012-02-25",
          "2012-02-26",
          "2012-02-27",
          "2012-02-28",
          "2012-02-29",
          "2012-03-01",
          "2012-03-02",
          "2012-03-03",
          "2012-03-04",
          "2012-03-05",
          "2012-03-06",
          "2012-03-07",
          "2012-03-08",
          "2012-03-09",
          "2012-03-10",
          "2012-03-11",
          "2012-03-12",
          "2012-03-13",
          "2012-03-14",
          "2012-03-15",
          "2012-03-16",
          "2012-03-17",
          "2012-03-18",
          "2012-03-19",
          "2012-03-20",
          "2012-03-21",
          "2012-03-22",
          "2012-03-23",
          "2012-03-24",
          "2012-03-25",
          "2012-03-26",
          "2012-03-27",
          "2012-03-28",
          "2012-03-29",
          "2012-03-30",
          "2012-03-31",
          "2012-04-01",
          "2012-04-02",
          "2012-04-03",
          "2012-04-04",
          "2012-04-05",
          "2012-04-06",
          "2012-04-07",
          "2012-04-08",
          "2012-04-09",
          "2012-04-10",
          "2012-04-11",
          "2012-04-12",
          "2012-04-13",
          "2012-04-14",
          "2012-04-15",
          "2012-04-16",
          "2012-04-17",
          "2012-04-18",
          "2012-04-19",
          "2012-04-20",
          "2012-04-21",
          "2012-04-22",
          "2012-04-23",
          "2012-04-24",
          "2012-04-25",
          "2012-04-26",
          "2012-04-27",
          "2012-04-28",
          "2012-04-29",
          "2012-04-30",
          "2012-05-01",
          "2012-05-02",
          "2012-05-03",
          "2012-05-04",
          "2012-05-05",
          "2012-05-06",
          "2012-05-07",
          "2012-05-08",
          "2012-05-09",
          "2012-05-10",
          "2012-05-11",
          "2012-05-12",
          "2012-05-13",
          "2012-05-14",
          "2012-05-15",
          "2012-05-16",
          "2012-05-17",
          "2012-05-18",
          "2012-05-19",
          "2012-05-20",
          "2012-05-21",
          "2012-05-22",
          "2012-05-23",
          "2012-05-24",
          "2012-05-25",
          "2012-05-26",
          "2012-05-27",
          "2012-05-28",
          "2012-05-29",
          "2012-05-30",
          "2012-05-31",
          "2012-06-01",
          "2012-06-02",
          "2012-06-03",
          "2012-06-04",
          "2012-06-05",
          "2012-06-06",
          "2012-06-07",
          "2012-06-08",
          "2012-06-09",
          "2012-06-10",
          "2012-06-11",
          "2012-06-12",
          "2012-06-13",
          "2012-06-14",
          "2012-06-15",
          "2012-06-16",
          "2012-06-17",
          "2012-06-18",
          "2012-06-19",
          "2012-06-20",
          "2012-06-21",
          "2012-06-22",
          "2012-06-23",
          "2012-06-24",
          "2012-06-25",
          "2012-06-26",
          "2012-06-27",
          "2012-06-28",
          "2012-06-29",
          "2012-06-30",
          "2012-07-01",
          "2012-07-02",
          "2012-07-03",
          "2012-07-04",
          "2012-07-05",
          "2012-07-06",
          "2012-07-07",
          "2012-07-08",
          "2012-07-09",
          "2012-07-10",
          "2012-07-11",
          "2012-07-12",
          "2012-07-13",
          "2012-07-14",
          "2012-07-15",
          "2012-07-16",
          "2012-07-17",
          "2012-07-18",
          "2012-07-19",
          "2012-07-20",
          "2012-07-21",
          "2012-07-22",
          "2012-07-23",
          "2012-07-24",
          "2012-07-25",
          "2012-07-26",
          "2012-07-27",
          "2012-07-28",
          "2012-07-29",
          "2012-07-30",
          "2012-07-31",
          "2012-08-01",
          "2012-08-02",
          "2012-08-03",
          "2012-08-04",
          "2012-08-05",
          "2012-08-06",
          "2012-08-07",
          "2012-08-08",
          "2012-08-09",
          "2012-08-10",
          "2012-08-11",
          "2012-08-12",
          "2012-08-13",
          "2012-08-14",
          "2012-08-15",
          "2012-08-16",
          "2012-08-17",
          "2012-08-18",
          "2012-08-19",
          "2012-08-20",
          "2012-08-21",
          "2012-08-22",
          "2012-08-23",
          "2012-08-24",
          "2012-08-25",
          "2012-08-26",
          "2012-08-27",
          "2012-08-28",
          "2012-08-29",
          "2012-08-30",
          "2012-08-31",
          "2012-09-01",
          "2012-09-02",
          "2012-09-03",
          "2012-09-04",
          "2012-09-05",
          "2012-09-06",
          "2012-09-07",
          "2012-09-08",
          "2012-09-09",
          "2012-09-10",
          "2012-09-11",
          "2012-09-12",
          "2012-09-13",
          "2012-09-14",
          "2012-09-15",
          "2012-09-16",
          "2012-09-17",
          "2012-09-18",
          "2012-09-19",
          "2012-09-20",
          "2012-09-21",
          "2012-09-22",
          "2012-09-23",
          "2012-09-24",
          "2012-09-25",
          "2012-09-26",
          "2012-09-27",
          "2012-09-28",
          "2012-09-29",
          "2012-09-30",
          "2012-10-01",
          "2012-10-02",
          "2012-10-03",
          "2012-10-04",
          "2012-10-05",
          "2012-10-06",
          "2012-10-07",
          "2012-10-08",
          "2012-10-09",
          "2012-10-10",
          "2012-10-11",
          "2012-10-12",
          "2012-10-13",
          "2012-10-14",
          "2012-10-15",
          "2012-10-16",
          "2012-10-17",
          "2012-10-18",
          "2012-10-19",
          "2012-10-20",
          "2012-10-21",
          "2012-10-22",
          "2012-10-23",
          "2012-10-24",
          "2012-10-25",
          "2012-10-26",
          "2012-10-27",
          "2012-10-28",
          "2012-10-29",
          "2012-10-30",
          "2012-10-31",
          "2012-11-01",
          "2012-11-02",
          "2012-11-03",
          "2012-11-04",
          "2012-11-05",
          "2012-11-06",
          "2012-11-07",
          "2012-11-08",
          "2012-11-09",
          "2012-11-10",
          "2012-11-11",
          "2012-11-12",
          "2012-11-13",
          "2012-11-14",
          "2012-11-15",
          "2012-11-16",
          "2012-11-17",
          "2012-11-18",
          "2012-11-19",
          "2012-11-20",
          "2012-11-21",
          "2012-11-22",
          "2012-11-23",
          "2012-11-24",
          "2012-11-25",
          "2012-11-26",
          "2012-11-27",
          "2012-11-28",
          "2012-11-29",
          "2012-11-30",
          "2012-12-01",
          "2012-12-02",
          "2012-12-03",
          "2012-12-04",
          "2012-12-05",
          "2012-12-06",
          "2012-12-07",
          "2012-12-08",
          "2012-12-09",
          "2012-12-10",
          "2012-12-11",
          "2012-12-12",
          "2012-12-13",
          "2012-12-14",
          "2012-12-15",
          "2012-12-16",
          "2012-12-17",
          "2012-12-18",
          "2012-12-19",
          "2012-12-20",
          "2012-12-21",
          "2012-12-22",
          "2012-12-23",
          "2012-12-24",
          "2012-12-25",
          "2012-12-26",
          "2012-12-27",
          "2012-12-28",
          "2012-12-29",
          "2012-12-30",
          "2012-12-31",
          "2013-01-01",
          "2013-01-02",
          "2013-01-03",
          "2013-01-04",
          "2013-01-05",
          "2013-01-06",
          "2013-01-07",
          "2013-01-08",
          "2013-01-09",
          "2013-01-10",
          "2013-01-11",
          "2013-01-12",
          "2013-01-13",
          "2013-01-14",
          "2013-01-15",
          "2013-01-16",
          "2013-01-17",
          "2013-01-18",
          "2013-01-19",
          "2013-01-20",
          "2013-01-21",
          "2013-01-22",
          "2013-01-23",
          "2013-01-24",
          "2013-01-25",
          "2013-01-26",
          "2013-01-27",
          "2013-01-28",
          "2013-01-29",
          "2013-01-30",
          "2013-01-31",
          "2013-02-01",
          "2013-02-02",
          "2013-02-03",
          "2013-02-04",
          "2013-02-05",
          "2013-02-06",
          "2013-02-07",
          "2013-02-08",
          "2013-02-09",
          "2013-02-10",
          "2013-02-11",
          "2013-02-12",
          "2013-02-13",
          "2013-02-14",
          "2013-02-15",
          "2013-02-16",
          "2013-02-17",
          "2013-02-18",
          "2013-02-19",
          "2013-02-20",
          "2013-02-21",
          "2013-02-22",
          "2013-02-23",
          "2013-02-24",
          "2013-02-25",
          "2013-02-26",
          "2013-02-27",
          "2013-02-28",
          "2013-03-01",
          "2013-03-02",
          "2013-03-03",
          "2013-03-04",
          "2013-03-05",
          "2013-03-06",
          "2013-03-07",
          "2013-03-08",
          "2013-03-09",
          "2013-03-10",
          "2013-03-11",
          "2013-03-12",
          "2013-03-13",
          "2013-03-14",
          "2013-03-15",
          "2013-03-16",
          "2013-03-17",
          "2013-03-18",
          "2013-03-19",
          "2013-03-20",
          "2013-03-21",
          "2013-03-22",
          "2013-03-23",
          "2013-03-24",
          "2013-03-25",
          "2013-03-26",
          "2013-03-27",
          "2013-03-28",
          "2013-03-29",
          "2013-03-30",
          "2013-03-31",
          "2013-04-01",
          "2013-04-02",
          "2013-04-03",
          "2013-04-04",
          "2013-04-05",
          "2013-04-06",
          "2013-04-07",
          "2013-04-08",
          "2013-04-09",
          "2013-04-10",
          "2013-04-11",
          "2013-04-12",
          "2013-04-13",
          "2013-04-14",
          "2013-04-15",
          "2013-04-16",
          "2013-04-17",
          "2013-04-18",
          "2013-04-19",
          "2013-04-20",
          "2013-04-21",
          "2013-04-22",
          "2013-04-23",
          "2013-04-24",
          "2013-04-25",
          "2013-04-26",
          "2013-04-27",
          "2013-04-28",
          "2013-04-29",
          "2013-04-30",
          "2013-05-01",
          "2013-05-02",
          "2013-05-03",
          "2013-05-04",
          "2013-05-05",
          "2013-05-06",
          "2013-05-07",
          "2013-05-08",
          "2013-05-09",
          "2013-05-10",
          "2013-05-11",
          "2013-05-12",
          "2013-05-13",
          "2013-05-14",
          "2013-05-15",
          "2013-05-16",
          "2013-05-17",
          "2013-05-18",
          "2013-05-19",
          "2013-05-20",
          "2013-05-21",
          "2013-05-22",
          "2013-05-23",
          "2013-05-24",
          "2013-05-25",
          "2013-05-26",
          "2013-05-27",
          "2013-05-28",
          "2013-05-29",
          "2013-05-30",
          "2013-05-31",
          "2013-06-01",
          "2013-06-02",
          "2013-06-03",
          "2013-06-04",
          "2013-06-05",
          "2013-06-06",
          "2013-06-07",
          "2013-06-08",
          "2013-06-09",
          "2013-06-10",
          "2013-06-11",
          "2013-06-12",
          "2013-06-13",
          "2013-06-14",
          "2013-06-15",
          "2013-06-16",
          "2013-06-17",
          "2013-06-18",
          "2013-06-19",
          "2013-06-20",
          "2013-06-21",
          "2013-06-22",
          "2013-06-23",
          "2013-06-24",
          "2013-06-25",
          "2013-06-26",
          "2013-06-27",
          "2013-06-28",
          "2013-06-29",
          "2013-06-30",
          "2013-07-01",
          "2013-07-02",
          "2013-07-03",
          "2013-07-04",
          "2013-07-05",
          "2013-07-06",
          "2013-07-07",
          "2013-07-08",
          "2013-07-09",
          "2013-07-10",
          "2013-07-11",
          "2013-07-12",
          "2013-07-13",
          "2013-07-14",
          "2013-07-15",
          "2013-07-16",
          "2013-07-17",
          "2013-07-18",
          "2013-07-19",
          "2013-07-20",
          "2013-07-21",
          "2013-07-22",
          "2013-07-23",
          "2013-07-24",
          "2013-07-25",
          "2013-07-26",
          "2013-07-27",
          "2013-07-28",
          "2013-07-29",
          "2013-07-30",
          "2013-07-31",
          "2013-08-01",
          "2013-08-02",
          "2013-08-03",
          "2013-08-04",
          "2013-08-05",
          "2013-08-06",
          "2013-08-07",
          "2013-08-08",
          "2013-08-09",
          "2013-08-10",
          "2013-08-11",
          "2013-08-12",
          "2013-08-13",
          "2013-08-14",
          "2013-08-15",
          "2013-08-16",
          "2013-08-17",
          "2013-08-18",
          "2013-08-19",
          "2013-08-20",
          "2013-08-21",
          "2013-08-22",
          "2013-08-23",
          "2013-08-24",
          "2013-08-25",
          "2013-08-26",
          "2013-08-27",
          "2013-08-28",
          "2013-08-29",
          "2013-08-30",
          "2013-08-31",
          "2013-09-01",
          "2013-09-02",
          "2013-09-03",
          "2013-09-04",
          "2013-09-05",
          "2013-09-06",
          "2013-09-07",
          "2013-09-08",
          "2013-09-09",
          "2013-09-10",
          "2013-09-11",
          "2013-09-12",
          "2013-09-13",
          "2013-09-14",
          "2013-09-15",
          "2013-09-16",
          "2013-09-17",
          "2013-09-18",
          "2013-09-19",
          "2013-09-20",
          "2013-09-21",
          "2013-09-22",
          "2013-09-23",
          "2013-09-24",
          "2013-09-25",
          "2013-09-26",
          "2013-09-27",
          "2013-09-28",
          "2013-09-29",
          "2013-09-30",
          "2013-10-01",
          "2013-10-02",
          "2013-10-03",
          "2013-10-04",
          "2013-10-05",
          "2013-10-06",
          "2013-10-07",
          "2013-10-08",
          "2013-10-09",
          "2013-10-10",
          "2013-10-11",
          "2013-10-12",
          "2013-10-13",
          "2013-10-14",
          "2013-10-15",
          "2013-10-16",
          "2013-10-17",
          "2013-10-18",
          "2013-10-19",
          "2013-10-20",
          "2013-10-21",
          "2013-10-22",
          "2013-10-23",
          "2013-10-24",
          "2013-10-25",
          "2013-10-26",
          "2013-10-27",
          "2013-10-28",
          "2013-10-29",
          "2013-10-30",
          "2013-10-31",
          "2013-11-01",
          "2013-11-02",
          "2013-11-03",
          "2013-11-04",
          "2013-11-05",
          "2013-11-06",
          "2013-11-07",
          "2013-11-08",
          "2013-11-09",
          "2013-11-10",
          "2013-11-11",
          "2013-11-12",
          "2013-11-13",
          "2013-11-14",
          "2013-11-15",
          "2013-11-16",
          "2013-11-17",
          "2013-11-18",
          "2013-11-19",
          "2013-11-20",
          "2013-11-21",
          "2013-11-22",
          "2013-11-23",
          "2013-11-24",
          "2013-11-25",
          "2013-11-26",
          "2013-11-27",
          "2013-11-28",
          "2013-11-29",
          "2013-11-30",
          "2013-12-01",
          "2013-12-02",
          "2013-12-03",
          "2013-12-04",
          "2013-12-05",
          "2013-12-06",
          "2013-12-07",
          "2013-12-08",
          "2013-12-09",
          "2013-12-10",
          "2013-12-11",
          "2013-12-12",
          "2013-12-13",
          "2013-12-14",
          "2013-12-15",
          "2013-12-16",
          "2013-12-17",
          "2013-12-18",
          "2013-12-19",
          "2013-12-20",
          "2013-12-21",
          "2013-12-22",
          "2013-12-23",
          "2013-12-24",
          "2013-12-25",
          "2013-12-26",
          "2013-12-27",
          "2013-12-28",
          "2013-12-29",
          "2013-12-30",
          "2013-12-31",
          "2014-01-01",
          "2014-01-02",
          "2014-01-03",
          "2014-01-04",
          "2014-01-05",
          "2014-01-06",
          "2014-01-07",
          "2014-01-08",
          "2014-01-09",
          "2014-01-10",
          "2014-01-11",
          "2014-01-12",
          "2014-01-13",
          "2014-01-14",
          "2014-01-15",
          "2014-01-16",
          "2014-01-17",
          "2014-01-18",
          "2014-01-19",
          "2014-01-20",
          "2014-01-21",
          "2014-01-22",
          "2014-01-23",
          "2014-01-24",
          "2014-01-25",
          "2014-01-26",
          "2014-01-27",
          "2014-01-28",
          "2014-01-29",
          "2014-01-30",
          "2014-01-31",
          "2014-02-01",
          "2014-02-02",
          "2014-02-03",
          "2014-02-04",
          "2014-02-05",
          "2014-02-06",
          "2014-02-07",
          "2014-02-08",
          "2014-02-09",
          "2014-02-10",
          "2014-02-11",
          "2014-02-12",
          "2014-02-13",
          "2014-02-14",
          "2014-02-15",
          "2014-02-16",
          "2014-02-17",
          "2014-02-18",
          "2014-02-19",
          "2014-02-20",
          "2014-02-21",
          "2014-02-22",
          "2014-02-23",
          "2014-02-24",
          "2014-02-25",
          "2014-02-26",
          "2014-02-27",
          "2014-02-28"
         ],
         "xaxis": "x",
         "y": [
          0.14806159438405797,
          0.12238665796632126,
          0.11571585898678413,
          0.12616801336700337,
          0.11845297636904761,
          0.1113533474229543,
          0.10373438201151972,
          0.1043586996004359,
          0.10826420628295255,
          0.11441527572078908,
          0.121016040375802,
          0.13105285091008773,
          0.11848685846440397,
          0.12280994995188606,
          0.12176457208121827,
          0.12389649780331456,
          0.12652778170679585,
          0.1370071055606258,
          0.14129284379786566,
          0.12902184671092334,
          0.12724160222209396,
          0.13361483787205686,
          0.13498854261457474,
          0.1415815264544295,
          0.14403787360042838,
          0.1513552643956365,
          0.14621836064057633,
          0.13735849872955608,
          0.1327088632312659,
          0.1265929405355404,
          0.1328317182091288,
          0.13536599782882622,
          0.13549561953178232,
          0.11731868397616048,
          0.12284486431201551,
          0.12678774221899225,
          0.13504682173172394,
          0.137069531945925,
          0.138114534874031,
          0.1369960755523256,
          0.1370796181139756,
          0.1382748180397865,
          0.13711885838744065,
          0.1381362441394081,
          0.1363843804973822,
          0.1378147878407321,
          0.14471633721643462,
          0.1309200911223105,
          0.13006172467054264,
          0.13003095934108527,
          0.1296933623885659,
          0.1351518410755814,
          0.1448284551318085,
          0.14487980768745143,
          0.14210051602901091,
          0.13945181075739874,
          0.1344227511730919,
          0.1309011683982473,
          0.1355345112344237,
          0.13756517095164258,
          0.1458411821608527,
          0.1364081395251938,
          0.13604521557480775,
          0.13407617019090998,
          0.13042232063662026,
          0.13457287518170363,
          0.14033745162790698,
          0.14983682165697676,
          0.13962808124214596,
          0.13928139470003859,
          0.13950212437717263,
          0.1467765238570602,
          0.14709895836709105,
          0.15573810889049686,
          0.16252098810672586,
          0.14402560763406635,
          0.14212229941647378,
          0.15493422064525464,
          0.14427071873130728,
          0.14580563890611375,
          0.14849575588405517,
          0.15701157635056917,
          0.1412122395640432,
          0.13564298795331792,
          0.13019294944058643,
          0.1272224633728781,
          0.12652372671305692,
          0.1347605613425926,
          0.14164877503858025,
          0.136116143583943,
          0.1263029575667371,
          0.12765542425771118,
          0.11943601191916282,
          0.11751473843494958,
          0.1247110617513743,
          0.13077244358137302,
          0.12390456985887097,
          0.1163560387624808,
          0.11771763255240443,
          0.11285586958529602,
          0.12081632657536698,
          0.12159094906414764,
          0.13441087857142855,
          0.12337909906368656,
          0.12812418570957368,
          0.128195044740634,
          0.12160330837839987,
          0.12239365258908687,
          0.12517212729622265,
          0.12440748251033715,
          0.11313545643686387,
          0.11348858846520875,
          0.11418652086282306,
          0.1167214933086832,
          0.11827337785066794,
          0.12420910618482846,
          0.12771703386414432,
          0.11523658863817256,
          0.11091507630407126,
          0.10999248565919212,
          0.10760499521555839,
          0.10687396627703562,
          0.10506770835321247,
          0.11317550700994035,
          0.10485334026259079,
          0.09946854615874025,
          0.10202665819299227,
          0.09917655274628771,
          0.09830536487306402,
          0.11168316441286821,
          0.11327229181368244,
          0.1057078759514462,
          0.1101904287339347,
          0.1113166321063558,
          0.11625351942321616,
          0.11221731353189121,
          0.10928089077266923,
          0.11203429208396763,
          0.1145376786780554,
          0.10589972166998013,
          0.10976729986032405,
          0.10918112124660598,
          0.11299425241478407,
          0.11614024588122605,
          0.12876660277777777,
          0.11638799135365273,
          0.1200333227352542,
          0.12087841519910263,
          0.1216163087371278,
          0.11460440610632185,
          0.11416710773981392,
          0.11969975956330127,
          0.1147529336473218,
          0.11307966054769181,
          0.11541275738796931,
          0.11380721024033856,
          0.11004781247788323,
          0.1215379665460103,
          0.1306419047900367,
          0.10701233239942529,
          0.10656130754769697,
          0.10574946118384289,
          0.11529901014926565,
          0.11373010971476645,
          0.11790985110695229,
          0.1278680820729962,
          0.12277286098918574,
          0.10805937444435626,
          0.10661356423814809,
          0.10633679231472647,
          0.1001980756917939,
          0.10552396794628002,
          0.11015854722354246,
          0.10507778829610266,
          0.10630769842532209,
          0.10113589380566157,
          0.10041898424055146,
          0.107876614636659,
          0.1052083663246712,
          0.11758662636956349,
          0.10434730208333334,
          0.09355807781475318,
          0.09184873181203784,
          0.09006733736829596,
          0.09072010374152373,
          0.09213459245725646,
          0.09785027037213741,
          0.09470738885309792,
          0.091009998402645,
          0.09031830471135496,
          0.09114485980909019,
          0.09211032328870226,
          0.09601160852349527,
          0.10741867371256536,
          0.10059328031809145,
          0.1036334574869276,
          0.09556515884100453,
          0.09767965332352707,
          0.10023293967266386,
          0.09901042409036862,
          0.10625312071241154,
          0.1071678464092572,
          0.10294922777866687,
          0.09522957450669627,
          0.09580138348970343,
          0.09716392331424936,
          0.10049804452869343,
          0.10143175853813728,
          0.09529166669052162,
          0.08992203957069901,
          0.08799001818109799,
          0.0936087042216776,
          0.09394258207322873,
          0.0988260989503591,
          0.10240142062352013,
          0.090455452963226,
          0.0927026515112058,
          0.09371500160984848,
          0.09058061197121847,
          0.08853870739030935,
          0.09161232174326465,
          0.09895880862246514,
          0.09364359563175756,
          0.09344214681136544,
          0.0919402375920792,
          0.08920823138268488,
          0.09234406563289141,
          0.09668229539091704,
          0.10286141084351691,
          0.09605757694159432,
          0.09219463165490446,
          0.0916386401418496,
          0.09486017656883798,
          0.0948661965816367,
          0.0978797948026835,
          0.09737585821166443,
          0.0947878788470644,
          0.08746768964248992,
          0.08803941758996213,
          0.0908156129252506,
          0.09060535038667929,
          0.09023567708333333,
          0.09337945864109849,
          0.09205887464288534,
          0.09004787656694031,
          0.09081874554467179,
          0.08957233672115612,
          0.0919230921355852,
          0.09339301842063556,
          0.09686778524279512,
          0.0927121941712707,
          0.09257737532354798,
          0.09013143149857954,
          0.08986545136916035,
          0.08754383684106691,
          0.08932765153488004,
          0.09502582183762376,
          0.08847980035250318,
          0.08858100291927433,
          0.08971572883355694,
          0.09129723009785354,
          0.08865728435018476,
          0.09108699595202398,
          0.09365630158817517,
          0.08854768079402517,
          0.0866547844113944,
          0.0899666219521818,
          0.08911624343501848,
          0.08626624557046979,
          0.08612331943942134,
          0.09465564588100686,
          0.0922805792416351,
          0.08981248523075715,
          0.08707594341981133,
          0.09000212412084022,
          0.0885300268426452,
          0.09183660828203914,
          0.09521908167701863,
          0.09338022795597485,
          0.08949076256289308,
          0.09287500000394198,
          0.09269486389806512,
          0.09035262080833598,
          0.0934620556621579,
          0.10079720662431942,
          0.09365720576303169,
          0.09358748031889765,
          0.09120491353380504,
          0.0890160770518868,
          0.08623431608490566,
          0.09084496857704402,
          0.0966679377624027,
          0.09416155660770441,
          0.09036784589622643,
          0.09402209291610976,
          0.09242613992531447,
          0.0915616352240566,
          0.09478714623034591,
          0.10184862416273585,
          0.09476097078531966,
          0.09732152688104412,
          0.09397344122336226,
          0.09645813640516698,
          0.09594911867998432,
          0.09829679270890654,
          0.11273956294352629,
          0.10317167383144753,
          0.09979133957863641,
          0.09880727217150438,
          0.10163667576667967,
          0.10110639046878644,
          0.10111124066775498,
          0.10994938971079841,
          0.10493310792910447,
          0.10321038548049329,
          0.09872097439392766,
          0.10139571716620198,
          0.10432907374922554,
          0.10732276178361215,
          0.11420403495972738,
          0.11065020908844485,
          0.1059045471278663,
          0.10395642880130597,
          0.11097908761521184,
          0.10804989192776662,
          0.11245314806783861,
          0.12062809790504957,
          0.1139930549772359,
          0.1082752491886253,
          0.10880760588645341,
          0.10476291421736425,
          0.10782880627749054,
          0.11039781618136761,
          0.12275310598425804,
          0.11423409827891576,
          0.1116043588407134,
          0.10674110798935267,
          0.110689427124183,
          0.11750445878690037,
          0.12238345636915744,
          0.12804662254192953,
          0.12110890288690705,
          0.11869943825227028,
          0.11690886649818658,
          0.11765317542634462,
          0.11738324719885794,
          0.12243733176086122,
          0.13715517371617467,
          0.1234766298162669,
          0.12760897146371464,
          0.12363883758840713,
          0.122547893900156,
          0.11683698681642138,
          0.127939835433646,
          0.13753892446184707,
          0.12794799378858024,
          0.1177589959095802,
          0.11729555431466215,
          0.12316789677121771,
          0.12385514382208211,
          0.12610143753075032,
          0.13655173211171975,
          0.1281062888636888,
          0.12158397441529466,
          0.12456020298708288,
          0.12052374181930121,
          0.12137952696871628,
          0.13705057490162795,
          0.13539457907727798,
          0.12889521833102707,
          0.12768589399259203,
          0.13321749833551166,
          0.13738633916436038,
          0.13852580818223903,
          0.14384873527715844,
          0.15122493850322877,
          0.1350158003229279,
          0.1315639274074074,
          0.1398019603573358,
          0.14446901676020604,
          0.13737688345249077,
          0.14080558331536389,
          0.14741915886061352,
          0.13411804272755226,
          0.13756417248154415,
          0.1447523659421405,
          0.1428377440320963,
          0.13812129628472222,
          0.13741407143021914,
          0.14442969585198334,
          0.134898745841348,
          0.13483274388021835,
          0.1393489274083186,
          0.1420264452144834,
          0.13331351043879908,
          0.14022351629766297,
          0.13557507504036287,
          0.1381819160638707,
          0.14331046271525216,
          0.13242245888051668,
          0.13232470487230924,
          0.13518974402629355,
          0.13356019688822215,
          0.1349968854890803,
          0.13440679740374972,
          0.1347510261170913,
          0.1368819391473166,
          0.13374012140605782,
          0.13034692854232338,
          0.13396271242792343,
          0.14643076804413008,
          0.1389643160134249,
          0.13162820024986546,
          0.1268605324189815,
          0.1422036210848005,
          0.14317727793925414,
          0.1529466097094096,
          0.157232741224631,
          0.15109941530266902,
          0.14604899695987655,
          0.14909424601177107,
          0.14811771988460348,
          0.15563355551895203,
          0.15962228939745973,
          0.16472092654695275,
          0.15077240338083805,
          0.15069375106100796,
          0.15142447713400464,
          0.15179537506024096,
          0.14918433894353653,
          0.14449918371424128,
          0.14870072023855627,
          0.1362559859899264,
          0.12775166507899627,
          0.12395032647310324,
          0.12899821210354478,
          0.1317678793687811,
          0.14002020751735975,
          0.15484969257024986,
          0.1323009172846704,
          0.13492919554107827,
          0.13512243382639919,
          0.13606889822487517,
          0.13574219725733458,
          0.14009327922488485,
          0.14921968871245306,
          0.14359731332396125,
          0.14210542335934453,
          0.14148927121176652,
          0.13513225655820849,
          0.12995415895365167,
          0.1323454935700351,
          0.13460592884946743,
          0.12766764935927674,
          0.12740865649040345,
          0.12956619146169512,
          0.13466234020435539,
          0.1426213698626894,
          0.14336651678898357,
          0.15340593428424873,
          0.14879459894360603,
          0.14194102026459637,
          0.13636248419280736,
          0.13544097606956107,
          0.13402645754119138,
          0.13558131337927756,
          0.14182974161781017,
          0.12970654666719506,
          0.12022556867718158,
          0.11683151133159062,
          0.12382187280757348,
          0.12370290717680608,
          0.12494150033666032,
          0.1416735978493346,
          0.14420569825249643,
          0.14110392911517744,
          0.1334240676910233,
          0.13106309637404578,
          0.12806647301296842,
          0.13380868317430025,
          0.14038144077608142,
          0.13385766541030533,
          0.12794918495029822,
          0.1289792444890656,
          0.12632546117604962,
          0.13385166627143086,
          0.15229981630460826,
          0.1611325032048212,
          0.14635548356481481,
          0.1459944480148586,
          0.14412428161717752,
          0.1390074233636654,
          0.13920447079160322,
          0.1290153269418057,
          0.13142883941969988,
          0.1335572762512972,
          0.12777773787515964,
          0.13609770860107362,
          0.13646597089331414,
          0.13403404379390166,
          0.1230281370090996,
          0.1293686941012133,
          0.12225894007423373,
          0.12290122124441251,
          0.11709786079182631,
          0.11876293096663473,
          0.11617423756586301,
          0.11616980909562995,
          0.11597713121807152,
          0.10414942715727907,
          0.10250372654672224,
          0.10293694381572562,
          0.10391020193941337,
          0.10604675486378205,
          0.10676642630208333,
          0.11450737179487179,
          0.10685056312952533,
          0.10016333684040925,
          0.09627662899735513,
          0.0934211923565854,
          0.0997908826819026,
          0.1060587667002093,
          0.11251203605122387,
          0.10053447308527755,
          0.09837156522655427,
          0.0961458400444265,
          0.09565589920859242,
          0.09208839261976169,
          0.09680628421709044,
          0.10248403305582368,
          0.0968377976431789,
          0.09563959945302444,
          0.09622623751514173,
          0.09816183029910026,
          0.09340765562868449,
          0.10006053417263293,
          0.1079213722007722,
          0.09564148564803514,
          0.10422502223164526,
          0.10186405847868217,
          0.09814393572351422,
          0.10246289264313978,
          0.10596928250689824,
          0.10587745297989179,
          0.10103330908833978,
          0.09778135406282977,
          0.09560078112946538,
          0.09786141059586542,
          0.10420475648873455,
          0.10024288722947232,
          0.10112082618239147,
          0.09378169584954606,
          0.09809630136477429,
          0.09825712309915337,
          0.09819199151949215,
          0.09291492733696094,
          0.09434197249979656,
          0.10032495934039087,
          0.09112561810295906,
          0.09091887053055578,
          0.08886066965704556,
          0.08922215009736309,
          0.09176979416551387,
          0.09243001971761615,
          0.10227913014849074,
          0.09580432126464844,
          0.09459509279785155,
          0.09457581695261438,
          0.09521115804915764,
          0.09334654031941834,
          0.09395833333333332,
          0.09874710860889395,
          0.09169380694580077,
          0.08987147191089596,
          0.0894366778494975,
          0.08997446897058824,
          0.08816732030637255,
          0.09217392361031984,
          0.10116225193947843,
          0.09340768536745406,
          0.08867646105323132,
          0.08751723855392156,
          0.0894422153739725,
          0.09228112741013073,
          0.09327273471688863,
          0.0970989204465527,
          0.0886075980759804,
          0.09245462688613983,
          0.09143443623366014,
          0.08919365994547082,
          0.08884649017733105,
          0.09113513076388889,
          0.09561244154432871,
          0.08785607057424119,
          0.08642191331561734,
          0.087391878609516,
          0.08511531543805165,
          0.08507360782826212,
          0.0848394865770171,
          0.09333759919044893,
          0.08749138776656824,
          0.08803833268492031,
          0.08880735293709151,
          0.08864080956918316,
          0.08853849287109376,
          0.0909755005534755,
          0.0936587288783596,
          0.0908132608750715,
          0.09097733189402572,
          0.08759492271686699,
          0.08769146241421569,
          0.08729129900326799,
          0.09077236097908359,
          0.09316588652377432,
          0.08728648471972544,
          0.08694701795343138,
          0.08612738231389476,
          0.08779219564615885,
          0.08738450854644988,
          0.08524219771650328,
          0.08759023692810457,
          0.08670833328431372,
          0.0837975721866798,
          0.08405163818939455,
          0.08275187907679739,
          0.08692286557861068,
          0.08794117165618107,
          0.08790257352532681,
          0.08580804555892725,
          0.08342913383366142,
          0.08408583777274599,
          0.0852303049805737,
          0.08708796300016534,
          0.08934501237427865,
          0.09204487817028986,
          0.08495320319497991,
          0.08260926854938018,
          0.0842453247785433,
          0.09059307322697967,
          0.08294037718850367,
          0.08674141807615397,
          0.08576754168333334,
          0.08688407370197518,
          0.08560262746067046,
          0.08198278988801054,
          0.08512693233859635,
          0.08451889053819445,
          0.0854417748614672,
          0.092496952964671,
          0.08632631969035659,
          0.08819426304868976,
          0.08824822257357805,
          0.08874925854753667,
          0.08785301384222662,
          0.09017325429841898,
          0.0995854743288867,
          0.09550164688735178,
          0.09345076885747355,
          0.09521180181757821,
          0.09517027699462588,
          0.09362017363786689,
          0.10041093152391269,
          0.10605594753465593,
          0.09662798933422215,
          0.09964195834166666,
          0.09753333332916667,
          0.10330941664166667,
          0.09849464302335315,
          0.10029371653698127,
          0.10305133892050208,
          0.09564684555379616,
          0.09302328897545448,
          0.09011915320893649,
          0.09153481724485511,
          0.09070299700717602,
          0.09898753135146443,
          0.10622482150356993,
          0.09758039312836021,
          0.09941050944669366,
          0.09762696994153534,
          0.0984900848794219,
          0.09509753113215524,
          0.10341262700579686,
          0.10465142957324788,
          0.09789798411774629,
          0.09461344468201754,
          0.09628479254385966,
          0.10293851209514171,
          0.11000628375927801,
          0.11005091491019994,
          0.12376878954449598,
          0.1122935049411466,
          0.1102735433816057,
          0.11460845164526826,
          0.1087595237670068,
          0.10680113489878884,
          0.11291361788194444,
          0.1188706317447496,
          0.10904702378826531,
          0.10675414580321456,
          0.10494520201575336,
          0.10641522692242547,
          0.10229377864892354,
          0.10934915482755676,
          0.11861293481163364,
          0.11152689319413858,
          0.11281583196156789,
          0.11269872451105442,
          0.11149410858094262,
          0.11143506545330838,
          0.10656518962833816,
          0.1209277575346543,
          0.11792691876974302,
          0.11695555463167745,
          0.11723670937606838,
          0.11549153836635767,
          0.1173762485913088,
          0.12667144316693596,
          0.13258175619778345,
          0.12194966701246585,
          0.11528722141398673,
          0.1204780462942478,
          0.12463015565099074,
          0.12110722790391157,
          0.13107453227891155,
          0.13224621602465986,
          0.12591532641902817,
          0.12498720127561869,
          0.13286951525935375,
          0.13118906282531043,
          0.13323154766581632,
          0.1326926966826676,
          0.1401595215424848,
          0.1346100394504458,
          0.13188426449599724,
          0.12599125370005143,
          0.12179672500000001,
          0.12349288407064471,
          0.1277305813185871,
          0.14130354077932097,
          0.12647800544503515,
          0.13098868312328532,
          0.12714758543083413,
          0.13098811884631942,
          0.12972948773138182,
          0.12569925097279616,
          0.13392069323623476,
          0.12492953544424258,
          0.13016286299706087,
          0.13312378969139005,
          0.13382962864801254,
          0.12922017114819298,
          0.13535745159923926,
          0.13515681182140388,
          0.12809768329011065,
          0.1286561203751729,
          0.12853758360819373,
          0.1256165481666089,
          0.12921918226573306,
          0.1292516424662863,
          0.13094830563191562,
          0.13232389316413007,
          0.13313462709472954,
          0.14867717012586806,
          0.13364114646809613,
          0.13080917188364455,
          0.1269707814531466,
          0.13453445140485865,
          0.1334980114300536,
          0.13548928077455047,
          0.14096457211085933,
          0.1309882368521573,
          0.13228525114550013,
          0.13894933860983835,
          0.15000364591145832,
          0.13217342446183106,
          0.1327342678543529,
          0.13099546124751446,
          0.13047312894599755,
          0.12801681802853437,
          0.13664412931869271,
          0.155761497229426,
          0.13622925314661133,
          0.1346467536439872,
          0.1310968834013369,
          0.12707383083340537,
          0.13105710707245374,
          0.13154053471486848,
          0.13698126036346203,
          0.13079919585855093,
          0.131942902882953,
          0.12705869641683956,
          0.1277533281552559,
          0.1254269969139004,
          0.13231470440006915,
          0.14991467849671508,
          0.13624585473131348,
          0.12709415443846087,
          0.1316073047812064,
          0.12843977429005646,
          0.12994728622666088,
          0.12912510904171756,
          0.1361745118680265,
          0.1314820553089986,
          0.12452488882399093,
          0.12864669979945942,
          0.12755896967398883,
          0.12456002815081736,
          0.13042306013513513,
          0.1436314291027775,
          0.12783449568041147,
          0.13202769055904412,
          0.1330699780787746,
          0.12814430147058822,
          0.1341938900385154,
          0.12950853547229274,
          0.12878799022233892,
          0.12365451278998511,
          0.12218737413098678,
          0.1226384365765056,
          0.11941010156687676,
          0.11700433290003502,
          0.12070671391369048,
          0.1325933462556034,
          0.11764312090989011,
          0.11353736274285714,
          0.11620261953674403,
          0.11812609879571026,
          0.1271350217299578
         ],
         "yaxis": "y"
        }
       ],
       "layout": {
        "height": 800,
        "legend": {
         "title": {
          "text": "Tariff"
         },
         "tracegroupgap": 0
        },
        "margin": {
         "t": 60
        },
        "template": {
         "data": {
          "bar": [
           {
            "error_x": {
             "color": "#2a3f5f"
            },
            "error_y": {
             "color": "#2a3f5f"
            },
            "marker": {
             "line": {
              "color": "#E5ECF6",
              "width": 0.5
             },
             "pattern": {
              "fillmode": "overlay",
              "size": 10,
              "solidity": 0.2
             }
            },
            "type": "bar"
           }
          ],
          "barpolar": [
           {
            "marker": {
             "line": {
              "color": "#E5ECF6",
              "width": 0.5
             },
             "pattern": {
              "fillmode": "overlay",
              "size": 10,
              "solidity": 0.2
             }
            },
            "type": "barpolar"
           }
          ],
          "carpet": [
           {
            "aaxis": {
             "endlinecolor": "#2a3f5f",
             "gridcolor": "white",
             "linecolor": "white",
             "minorgridcolor": "white",
             "startlinecolor": "#2a3f5f"
            },
            "baxis": {
             "endlinecolor": "#2a3f5f",
             "gridcolor": "white",
             "linecolor": "white",
             "minorgridcolor": "white",
             "startlinecolor": "#2a3f5f"
            },
            "type": "carpet"
           }
          ],
          "choropleth": [
           {
            "colorbar": {
             "outlinewidth": 0,
             "ticks": ""
            },
            "type": "choropleth"
           }
          ],
          "contour": [
           {
            "colorbar": {
             "outlinewidth": 0,
             "ticks": ""
            },
            "colorscale": [
             [
              0,
              "#0d0887"
             ],
             [
              0.1111111111111111,
              "#46039f"
             ],
             [
              0.2222222222222222,
              "#7201a8"
             ],
             [
              0.3333333333333333,
              "#9c179e"
             ],
             [
              0.4444444444444444,
              "#bd3786"
             ],
             [
              0.5555555555555556,
              "#d8576b"
             ],
             [
              0.6666666666666666,
              "#ed7953"
             ],
             [
              0.7777777777777778,
              "#fb9f3a"
             ],
             [
              0.8888888888888888,
              "#fdca26"
             ],
             [
              1,
              "#f0f921"
             ]
            ],
            "type": "contour"
           }
          ],
          "contourcarpet": [
           {
            "colorbar": {
             "outlinewidth": 0,
             "ticks": ""
            },
            "type": "contourcarpet"
           }
          ],
          "heatmap": [
           {
            "colorbar": {
             "outlinewidth": 0,
             "ticks": ""
            },
            "colorscale": [
             [
              0,
              "#0d0887"
             ],
             [
              0.1111111111111111,
              "#46039f"
             ],
             [
              0.2222222222222222,
              "#7201a8"
             ],
             [
              0.3333333333333333,
              "#9c179e"
             ],
             [
              0.4444444444444444,
              "#bd3786"
             ],
             [
              0.5555555555555556,
              "#d8576b"
             ],
             [
              0.6666666666666666,
              "#ed7953"
             ],
             [
              0.7777777777777778,
              "#fb9f3a"
             ],
             [
              0.8888888888888888,
              "#fdca26"
             ],
             [
              1,
              "#f0f921"
             ]
            ],
            "type": "heatmap"
           }
          ],
          "heatmapgl": [
           {
            "colorbar": {
             "outlinewidth": 0,
             "ticks": ""
            },
            "colorscale": [
             [
              0,
              "#0d0887"
             ],
             [
              0.1111111111111111,
              "#46039f"
             ],
             [
              0.2222222222222222,
              "#7201a8"
             ],
             [
              0.3333333333333333,
              "#9c179e"
             ],
             [
              0.4444444444444444,
              "#bd3786"
             ],
             [
              0.5555555555555556,
              "#d8576b"
             ],
             [
              0.6666666666666666,
              "#ed7953"
             ],
             [
              0.7777777777777778,
              "#fb9f3a"
             ],
             [
              0.8888888888888888,
              "#fdca26"
             ],
             [
              1,
              "#f0f921"
             ]
            ],
            "type": "heatmapgl"
           }
          ],
          "histogram": [
           {
            "marker": {
             "pattern": {
              "fillmode": "overlay",
              "size": 10,
              "solidity": 0.2
             }
            },
            "type": "histogram"
           }
          ],
          "histogram2d": [
           {
            "colorbar": {
             "outlinewidth": 0,
             "ticks": ""
            },
            "colorscale": [
             [
              0,
              "#0d0887"
             ],
             [
              0.1111111111111111,
              "#46039f"
             ],
             [
              0.2222222222222222,
              "#7201a8"
             ],
             [
              0.3333333333333333,
              "#9c179e"
             ],
             [
              0.4444444444444444,
              "#bd3786"
             ],
             [
              0.5555555555555556,
              "#d8576b"
             ],
             [
              0.6666666666666666,
              "#ed7953"
             ],
             [
              0.7777777777777778,
              "#fb9f3a"
             ],
             [
              0.8888888888888888,
              "#fdca26"
             ],
             [
              1,
              "#f0f921"
             ]
            ],
            "type": "histogram2d"
           }
          ],
          "histogram2dcontour": [
           {
            "colorbar": {
             "outlinewidth": 0,
             "ticks": ""
            },
            "colorscale": [
             [
              0,
              "#0d0887"
             ],
             [
              0.1111111111111111,
              "#46039f"
             ],
             [
              0.2222222222222222,
              "#7201a8"
             ],
             [
              0.3333333333333333,
              "#9c179e"
             ],
             [
              0.4444444444444444,
              "#bd3786"
             ],
             [
              0.5555555555555556,
              "#d8576b"
             ],
             [
              0.6666666666666666,
              "#ed7953"
             ],
             [
              0.7777777777777778,
              "#fb9f3a"
             ],
             [
              0.8888888888888888,
              "#fdca26"
             ],
             [
              1,
              "#f0f921"
             ]
            ],
            "type": "histogram2dcontour"
           }
          ],
          "mesh3d": [
           {
            "colorbar": {
             "outlinewidth": 0,
             "ticks": ""
            },
            "type": "mesh3d"
           }
          ],
          "parcoords": [
           {
            "line": {
             "colorbar": {
              "outlinewidth": 0,
              "ticks": ""
             }
            },
            "type": "parcoords"
           }
          ],
          "pie": [
           {
            "automargin": true,
            "type": "pie"
           }
          ],
          "scatter": [
           {
            "marker": {
             "colorbar": {
              "outlinewidth": 0,
              "ticks": ""
             }
            },
            "type": "scatter"
           }
          ],
          "scatter3d": [
           {
            "line": {
             "colorbar": {
              "outlinewidth": 0,
              "ticks": ""
             }
            },
            "marker": {
             "colorbar": {
              "outlinewidth": 0,
              "ticks": ""
             }
            },
            "type": "scatter3d"
           }
          ],
          "scattercarpet": [
           {
            "marker": {
             "colorbar": {
              "outlinewidth": 0,
              "ticks": ""
             }
            },
            "type": "scattercarpet"
           }
          ],
          "scattergeo": [
           {
            "marker": {
             "colorbar": {
              "outlinewidth": 0,
              "ticks": ""
             }
            },
            "type": "scattergeo"
           }
          ],
          "scattergl": [
           {
            "marker": {
             "colorbar": {
              "outlinewidth": 0,
              "ticks": ""
             }
            },
            "type": "scattergl"
           }
          ],
          "scattermapbox": [
           {
            "marker": {
             "colorbar": {
              "outlinewidth": 0,
              "ticks": ""
             }
            },
            "type": "scattermapbox"
           }
          ],
          "scatterpolar": [
           {
            "marker": {
             "colorbar": {
              "outlinewidth": 0,
              "ticks": ""
             }
            },
            "type": "scatterpolar"
           }
          ],
          "scatterpolargl": [
           {
            "marker": {
             "colorbar": {
              "outlinewidth": 0,
              "ticks": ""
             }
            },
            "type": "scatterpolargl"
           }
          ],
          "scatterternary": [
           {
            "marker": {
             "colorbar": {
              "outlinewidth": 0,
              "ticks": ""
             }
            },
            "type": "scatterternary"
           }
          ],
          "surface": [
           {
            "colorbar": {
             "outlinewidth": 0,
             "ticks": ""
            },
            "colorscale": [
             [
              0,
              "#0d0887"
             ],
             [
              0.1111111111111111,
              "#46039f"
             ],
             [
              0.2222222222222222,
              "#7201a8"
             ],
             [
              0.3333333333333333,
              "#9c179e"
             ],
             [
              0.4444444444444444,
              "#bd3786"
             ],
             [
              0.5555555555555556,
              "#d8576b"
             ],
             [
              0.6666666666666666,
              "#ed7953"
             ],
             [
              0.7777777777777778,
              "#fb9f3a"
             ],
             [
              0.8888888888888888,
              "#fdca26"
             ],
             [
              1,
              "#f0f921"
             ]
            ],
            "type": "surface"
           }
          ],
          "table": [
           {
            "cells": {
             "fill": {
              "color": "#EBF0F8"
             },
             "line": {
              "color": "white"
             }
            },
            "header": {
             "fill": {
              "color": "#C8D4E3"
             },
             "line": {
              "color": "white"
             }
            },
            "type": "table"
           }
          ]
         },
         "layout": {
          "annotationdefaults": {
           "arrowcolor": "#2a3f5f",
           "arrowhead": 0,
           "arrowwidth": 1
          },
          "autotypenumbers": "strict",
          "coloraxis": {
           "colorbar": {
            "outlinewidth": 0,
            "ticks": ""
           }
          },
          "colorscale": {
           "diverging": [
            [
             0,
             "#8e0152"
            ],
            [
             0.1,
             "#c51b7d"
            ],
            [
             0.2,
             "#de77ae"
            ],
            [
             0.3,
             "#f1b6da"
            ],
            [
             0.4,
             "#fde0ef"
            ],
            [
             0.5,
             "#f7f7f7"
            ],
            [
             0.6,
             "#e6f5d0"
            ],
            [
             0.7,
             "#b8e186"
            ],
            [
             0.8,
             "#7fbc41"
            ],
            [
             0.9,
             "#4d9221"
            ],
            [
             1,
             "#276419"
            ]
           ],
           "sequential": [
            [
             0,
             "#0d0887"
            ],
            [
             0.1111111111111111,
             "#46039f"
            ],
            [
             0.2222222222222222,
             "#7201a8"
            ],
            [
             0.3333333333333333,
             "#9c179e"
            ],
            [
             0.4444444444444444,
             "#bd3786"
            ],
            [
             0.5555555555555556,
             "#d8576b"
            ],
            [
             0.6666666666666666,
             "#ed7953"
            ],
            [
             0.7777777777777778,
             "#fb9f3a"
            ],
            [
             0.8888888888888888,
             "#fdca26"
            ],
            [
             1,
             "#f0f921"
            ]
           ],
           "sequentialminus": [
            [
             0,
             "#0d0887"
            ],
            [
             0.1111111111111111,
             "#46039f"
            ],
            [
             0.2222222222222222,
             "#7201a8"
            ],
            [
             0.3333333333333333,
             "#9c179e"
            ],
            [
             0.4444444444444444,
             "#bd3786"
            ],
            [
             0.5555555555555556,
             "#d8576b"
            ],
            [
             0.6666666666666666,
             "#ed7953"
            ],
            [
             0.7777777777777778,
             "#fb9f3a"
            ],
            [
             0.8888888888888888,
             "#fdca26"
            ],
            [
             1,
             "#f0f921"
            ]
           ]
          },
          "colorway": [
           "#636efa",
           "#EF553B",
           "#00cc96",
           "#ab63fa",
           "#FFA15A",
           "#19d3f3",
           "#FF6692",
           "#B6E880",
           "#FF97FF",
           "#FECB52"
          ],
          "font": {
           "color": "#2a3f5f"
          },
          "geo": {
           "bgcolor": "white",
           "lakecolor": "white",
           "landcolor": "#E5ECF6",
           "showlakes": true,
           "showland": true,
           "subunitcolor": "white"
          },
          "hoverlabel": {
           "align": "left"
          },
          "hovermode": "closest",
          "mapbox": {
           "style": "light"
          },
          "paper_bgcolor": "white",
          "plot_bgcolor": "#E5ECF6",
          "polar": {
           "angularaxis": {
            "gridcolor": "white",
            "linecolor": "white",
            "ticks": ""
           },
           "bgcolor": "#E5ECF6",
           "radialaxis": {
            "gridcolor": "white",
            "linecolor": "white",
            "ticks": ""
           }
          },
          "scene": {
           "xaxis": {
            "backgroundcolor": "#E5ECF6",
            "gridcolor": "white",
            "gridwidth": 2,
            "linecolor": "white",
            "showbackground": true,
            "ticks": "",
            "zerolinecolor": "white"
           },
           "yaxis": {
            "backgroundcolor": "#E5ECF6",
            "gridcolor": "white",
            "gridwidth": 2,
            "linecolor": "white",
            "showbackground": true,
            "ticks": "",
            "zerolinecolor": "white"
           },
           "zaxis": {
            "backgroundcolor": "#E5ECF6",
            "gridcolor": "white",
            "gridwidth": 2,
            "linecolor": "white",
            "showbackground": true,
            "ticks": "",
            "zerolinecolor": "white"
           }
          },
          "shapedefaults": {
           "line": {
            "color": "#2a3f5f"
           }
          },
          "ternary": {
           "aaxis": {
            "gridcolor": "white",
            "linecolor": "white",
            "ticks": ""
           },
           "baxis": {
            "gridcolor": "white",
            "linecolor": "white",
            "ticks": ""
           },
           "bgcolor": "#E5ECF6",
           "caxis": {
            "gridcolor": "white",
            "linecolor": "white",
            "ticks": ""
           }
          },
          "title": {
           "x": 0.05
          },
          "xaxis": {
           "automargin": true,
           "gridcolor": "white",
           "linecolor": "white",
           "ticks": "",
           "title": {
            "standoff": 15
           },
           "zerolinecolor": "white",
           "zerolinewidth": 2
          },
          "yaxis": {
           "automargin": true,
           "gridcolor": "white",
           "linecolor": "white",
           "ticks": "",
           "title": {
            "standoff": 15
           },
           "zerolinecolor": "white",
           "zerolinewidth": 2
          }
         }
        },
        "title": {
         "text": "Power Usage of Different Tariffs Between 2011 and 2014"
        },
        "xaxis": {
         "anchor": "y",
         "domain": [
          0,
          1
         ],
         "rangeslider": {
          "visible": true
         },
         "title": {
          "text": "Date"
         }
        },
        "yaxis": {
         "anchor": "x",
         "domain": [
          0,
          1
         ],
         "title": {
          "text": "Average Power (KW)"
         }
        }
       }
      }
     },
     "metadata": {},
     "output_type": "display_data"
    }
   ],
   "source": [
    "fig = px.line(tariff_dt, x=tariff_dt.index, y=tariff_dt.columns)\n",
    "\n",
    "fig.update_layout(\n",
    "    yaxis_title=\"Average Power (KW)\", \n",
    "    xaxis_title=\"Date\",\n",
    "    legend_title=\"Tariff\", \n",
    "    title=\"Power Usage of Different Tariffs Between 2011 and 2014\",\n",
    "    height= 800\n",
    "    \n",
    ")\n",
    "\n",
    "# activate slider\n",
    "fig.update_xaxes(rangeslider_visible=True)\n",
    "\n",
    "fig.show()"
   ]
  },
  {
   "cell_type": "code",
   "execution_count": 24,
   "metadata": {},
   "outputs": [
    {
     "data": {
      "text/plain": [
       "DatetimeIndex([], dtype='datetime64[ns]', freq='D')"
      ]
     },
     "execution_count": 24,
     "metadata": {},
     "output_type": "execute_result"
    }
   ],
   "source": [
    "# Check for missing samples\n",
    "first = tariff_dt.index.min()\n",
    "last = tariff_dt.index.max()\n",
    "full_range = pd.date_range(start = first, end = last, freq = 'D')\n",
    "full_range.difference(tariff_dt.index)\n"
   ]
  },
  {
   "cell_type": "code",
   "execution_count": 25,
   "metadata": {},
   "outputs": [],
   "source": [
    "# Apply DateTime Index\n",
    "tariff_dt = tariff_dt.reindex(full_range)"
   ]
  },
  {
   "cell_type": "code",
   "execution_count": 26,
   "metadata": {},
   "outputs": [
    {
     "data": {
      "text/plain": [
       "tariff\n",
       "Std    0\n",
       "dtype: int64"
      ]
     },
     "execution_count": 26,
     "metadata": {},
     "output_type": "execute_result"
    }
   ],
   "source": [
    "# Check nulls\n",
    "tariff_dt.isna().sum()"
   ]
  },
  {
   "cell_type": "code",
   "execution_count": 27,
   "metadata": {},
   "outputs": [],
   "source": [
    "tariff_decomps = pd.DataFrame()\n",
    "for col in tariff_dt.columns:\n",
    "    name = col + '_Decomp'\n",
    "    globals()[name] = tsa.seasonal_decompose(tariff_dt[[col]], model = 'multiplicative', period = 30)\n",
    "    tariff_decomps[col + '_Trend'] = globals()[name].trend\n",
    "    tariff_decomps[col + '_Seasonal'] = globals()[name].seasonal\n",
    "    tariff_decomps[col + '_Residual'] = globals()[name].resid"
   ]
  },
  {
   "cell_type": "code",
   "execution_count": 28,
   "metadata": {},
   "outputs": [
    {
     "data": {
      "text/html": [
       "<div>\n",
       "<style scoped>\n",
       "    .dataframe tbody tr th:only-of-type {\n",
       "        vertical-align: middle;\n",
       "    }\n",
       "\n",
       "    .dataframe tbody tr th {\n",
       "        vertical-align: top;\n",
       "    }\n",
       "\n",
       "    .dataframe thead th {\n",
       "        text-align: right;\n",
       "    }\n",
       "</style>\n",
       "<table border=\"1\" class=\"dataframe\">\n",
       "  <thead>\n",
       "    <tr style=\"text-align: right;\">\n",
       "      <th></th>\n",
       "      <th>Std_Trend</th>\n",
       "      <th>Std_Seasonal</th>\n",
       "      <th>Std_Residual</th>\n",
       "    </tr>\n",
       "  </thead>\n",
       "  <tbody>\n",
       "    <tr>\n",
       "      <th>2011-11-23</th>\n",
       "      <td>NaN</td>\n",
       "      <td>0.993013</td>\n",
       "      <td>NaN</td>\n",
       "    </tr>\n",
       "    <tr>\n",
       "      <th>2011-11-24</th>\n",
       "      <td>NaN</td>\n",
       "      <td>1.001433</td>\n",
       "      <td>NaN</td>\n",
       "    </tr>\n",
       "    <tr>\n",
       "      <th>2011-11-25</th>\n",
       "      <td>NaN</td>\n",
       "      <td>0.997541</td>\n",
       "      <td>NaN</td>\n",
       "    </tr>\n",
       "    <tr>\n",
       "      <th>2011-11-26</th>\n",
       "      <td>NaN</td>\n",
       "      <td>0.991179</td>\n",
       "      <td>NaN</td>\n",
       "    </tr>\n",
       "    <tr>\n",
       "      <th>2011-11-27</th>\n",
       "      <td>NaN</td>\n",
       "      <td>0.988679</td>\n",
       "      <td>NaN</td>\n",
       "    </tr>\n",
       "  </tbody>\n",
       "</table>\n",
       "</div>"
      ],
      "text/plain": [
       "            Std_Trend  Std_Seasonal  Std_Residual\n",
       "2011-11-23        NaN      0.993013           NaN\n",
       "2011-11-24        NaN      1.001433           NaN\n",
       "2011-11-25        NaN      0.997541           NaN\n",
       "2011-11-26        NaN      0.991179           NaN\n",
       "2011-11-27        NaN      0.988679           NaN"
      ]
     },
     "execution_count": 28,
     "metadata": {},
     "output_type": "execute_result"
    }
   ],
   "source": [
    "tariff_decomps.head()"
   ]
  },
  {
   "cell_type": "code",
   "execution_count": 29,
   "metadata": {},
   "outputs": [
    {
     "data": {
      "application/vnd.plotly.v1+json": {
       "config": {
        "plotlyServerURL": "https://plot.ly"
       },
       "data": [
        {
         "hovertemplate": "x=%{x}<br>y=%{y}<extra></extra>",
         "legendgroup": "",
         "line": {
          "color": "#636efa",
          "dash": "solid"
         },
         "marker": {
          "symbol": "circle"
         },
         "mode": "lines",
         "name": "",
         "orientation": "v",
         "showlegend": false,
         "type": "scatter",
         "x": [
          "2011-11-23T00:00:00",
          "2011-11-24T00:00:00",
          "2011-11-25T00:00:00",
          "2011-11-26T00:00:00",
          "2011-11-27T00:00:00",
          "2011-11-28T00:00:00",
          "2011-11-29T00:00:00",
          "2011-11-30T00:00:00",
          "2011-12-01T00:00:00",
          "2011-12-02T00:00:00",
          "2011-12-03T00:00:00",
          "2011-12-04T00:00:00",
          "2011-12-05T00:00:00",
          "2011-12-06T00:00:00",
          "2011-12-07T00:00:00",
          "2011-12-08T00:00:00",
          "2011-12-09T00:00:00",
          "2011-12-10T00:00:00",
          "2011-12-11T00:00:00",
          "2011-12-12T00:00:00",
          "2011-12-13T00:00:00",
          "2011-12-14T00:00:00",
          "2011-12-15T00:00:00",
          "2011-12-16T00:00:00",
          "2011-12-17T00:00:00",
          "2011-12-18T00:00:00",
          "2011-12-19T00:00:00",
          "2011-12-20T00:00:00",
          "2011-12-21T00:00:00",
          "2011-12-22T00:00:00",
          "2011-12-23T00:00:00",
          "2011-12-24T00:00:00",
          "2011-12-25T00:00:00",
          "2011-12-26T00:00:00",
          "2011-12-27T00:00:00",
          "2011-12-28T00:00:00",
          "2011-12-29T00:00:00",
          "2011-12-30T00:00:00",
          "2011-12-31T00:00:00",
          "2012-01-01T00:00:00",
          "2012-01-02T00:00:00",
          "2012-01-03T00:00:00",
          "2012-01-04T00:00:00",
          "2012-01-05T00:00:00",
          "2012-01-06T00:00:00",
          "2012-01-07T00:00:00",
          "2012-01-08T00:00:00",
          "2012-01-09T00:00:00",
          "2012-01-10T00:00:00",
          "2012-01-11T00:00:00",
          "2012-01-12T00:00:00",
          "2012-01-13T00:00:00",
          "2012-01-14T00:00:00",
          "2012-01-15T00:00:00",
          "2012-01-16T00:00:00",
          "2012-01-17T00:00:00",
          "2012-01-18T00:00:00",
          "2012-01-19T00:00:00",
          "2012-01-20T00:00:00",
          "2012-01-21T00:00:00",
          "2012-01-22T00:00:00",
          "2012-01-23T00:00:00",
          "2012-01-24T00:00:00",
          "2012-01-25T00:00:00",
          "2012-01-26T00:00:00",
          "2012-01-27T00:00:00",
          "2012-01-28T00:00:00",
          "2012-01-29T00:00:00",
          "2012-01-30T00:00:00",
          "2012-01-31T00:00:00",
          "2012-02-01T00:00:00",
          "2012-02-02T00:00:00",
          "2012-02-03T00:00:00",
          "2012-02-04T00:00:00",
          "2012-02-05T00:00:00",
          "2012-02-06T00:00:00",
          "2012-02-07T00:00:00",
          "2012-02-08T00:00:00",
          "2012-02-09T00:00:00",
          "2012-02-10T00:00:00",
          "2012-02-11T00:00:00",
          "2012-02-12T00:00:00",
          "2012-02-13T00:00:00",
          "2012-02-14T00:00:00",
          "2012-02-15T00:00:00",
          "2012-02-16T00:00:00",
          "2012-02-17T00:00:00",
          "2012-02-18T00:00:00",
          "2012-02-19T00:00:00",
          "2012-02-20T00:00:00",
          "2012-02-21T00:00:00",
          "2012-02-22T00:00:00",
          "2012-02-23T00:00:00",
          "2012-02-24T00:00:00",
          "2012-02-25T00:00:00",
          "2012-02-26T00:00:00",
          "2012-02-27T00:00:00",
          "2012-02-28T00:00:00",
          "2012-02-29T00:00:00",
          "2012-03-01T00:00:00",
          "2012-03-02T00:00:00",
          "2012-03-03T00:00:00",
          "2012-03-04T00:00:00",
          "2012-03-05T00:00:00",
          "2012-03-06T00:00:00",
          "2012-03-07T00:00:00",
          "2012-03-08T00:00:00",
          "2012-03-09T00:00:00",
          "2012-03-10T00:00:00",
          "2012-03-11T00:00:00",
          "2012-03-12T00:00:00",
          "2012-03-13T00:00:00",
          "2012-03-14T00:00:00",
          "2012-03-15T00:00:00",
          "2012-03-16T00:00:00",
          "2012-03-17T00:00:00",
          "2012-03-18T00:00:00",
          "2012-03-19T00:00:00",
          "2012-03-20T00:00:00",
          "2012-03-21T00:00:00",
          "2012-03-22T00:00:00",
          "2012-03-23T00:00:00",
          "2012-03-24T00:00:00",
          "2012-03-25T00:00:00",
          "2012-03-26T00:00:00",
          "2012-03-27T00:00:00",
          "2012-03-28T00:00:00",
          "2012-03-29T00:00:00",
          "2012-03-30T00:00:00",
          "2012-03-31T00:00:00",
          "2012-04-01T00:00:00",
          "2012-04-02T00:00:00",
          "2012-04-03T00:00:00",
          "2012-04-04T00:00:00",
          "2012-04-05T00:00:00",
          "2012-04-06T00:00:00",
          "2012-04-07T00:00:00",
          "2012-04-08T00:00:00",
          "2012-04-09T00:00:00",
          "2012-04-10T00:00:00",
          "2012-04-11T00:00:00",
          "2012-04-12T00:00:00",
          "2012-04-13T00:00:00",
          "2012-04-14T00:00:00",
          "2012-04-15T00:00:00",
          "2012-04-16T00:00:00",
          "2012-04-17T00:00:00",
          "2012-04-18T00:00:00",
          "2012-04-19T00:00:00",
          "2012-04-20T00:00:00",
          "2012-04-21T00:00:00",
          "2012-04-22T00:00:00",
          "2012-04-23T00:00:00",
          "2012-04-24T00:00:00",
          "2012-04-25T00:00:00",
          "2012-04-26T00:00:00",
          "2012-04-27T00:00:00",
          "2012-04-28T00:00:00",
          "2012-04-29T00:00:00",
          "2012-04-30T00:00:00",
          "2012-05-01T00:00:00",
          "2012-05-02T00:00:00",
          "2012-05-03T00:00:00",
          "2012-05-04T00:00:00",
          "2012-05-05T00:00:00",
          "2012-05-06T00:00:00",
          "2012-05-07T00:00:00",
          "2012-05-08T00:00:00",
          "2012-05-09T00:00:00",
          "2012-05-10T00:00:00",
          "2012-05-11T00:00:00",
          "2012-05-12T00:00:00",
          "2012-05-13T00:00:00",
          "2012-05-14T00:00:00",
          "2012-05-15T00:00:00",
          "2012-05-16T00:00:00",
          "2012-05-17T00:00:00",
          "2012-05-18T00:00:00",
          "2012-05-19T00:00:00",
          "2012-05-20T00:00:00",
          "2012-05-21T00:00:00",
          "2012-05-22T00:00:00",
          "2012-05-23T00:00:00",
          "2012-05-24T00:00:00",
          "2012-05-25T00:00:00",
          "2012-05-26T00:00:00",
          "2012-05-27T00:00:00",
          "2012-05-28T00:00:00",
          "2012-05-29T00:00:00",
          "2012-05-30T00:00:00",
          "2012-05-31T00:00:00",
          "2012-06-01T00:00:00",
          "2012-06-02T00:00:00",
          "2012-06-03T00:00:00",
          "2012-06-04T00:00:00",
          "2012-06-05T00:00:00",
          "2012-06-06T00:00:00",
          "2012-06-07T00:00:00",
          "2012-06-08T00:00:00",
          "2012-06-09T00:00:00",
          "2012-06-10T00:00:00",
          "2012-06-11T00:00:00",
          "2012-06-12T00:00:00",
          "2012-06-13T00:00:00",
          "2012-06-14T00:00:00",
          "2012-06-15T00:00:00",
          "2012-06-16T00:00:00",
          "2012-06-17T00:00:00",
          "2012-06-18T00:00:00",
          "2012-06-19T00:00:00",
          "2012-06-20T00:00:00",
          "2012-06-21T00:00:00",
          "2012-06-22T00:00:00",
          "2012-06-23T00:00:00",
          "2012-06-24T00:00:00",
          "2012-06-25T00:00:00",
          "2012-06-26T00:00:00",
          "2012-06-27T00:00:00",
          "2012-06-28T00:00:00",
          "2012-06-29T00:00:00",
          "2012-06-30T00:00:00",
          "2012-07-01T00:00:00",
          "2012-07-02T00:00:00",
          "2012-07-03T00:00:00",
          "2012-07-04T00:00:00",
          "2012-07-05T00:00:00",
          "2012-07-06T00:00:00",
          "2012-07-07T00:00:00",
          "2012-07-08T00:00:00",
          "2012-07-09T00:00:00",
          "2012-07-10T00:00:00",
          "2012-07-11T00:00:00",
          "2012-07-12T00:00:00",
          "2012-07-13T00:00:00",
          "2012-07-14T00:00:00",
          "2012-07-15T00:00:00",
          "2012-07-16T00:00:00",
          "2012-07-17T00:00:00",
          "2012-07-18T00:00:00",
          "2012-07-19T00:00:00",
          "2012-07-20T00:00:00",
          "2012-07-21T00:00:00",
          "2012-07-22T00:00:00",
          "2012-07-23T00:00:00",
          "2012-07-24T00:00:00",
          "2012-07-25T00:00:00",
          "2012-07-26T00:00:00",
          "2012-07-27T00:00:00",
          "2012-07-28T00:00:00",
          "2012-07-29T00:00:00",
          "2012-07-30T00:00:00",
          "2012-07-31T00:00:00",
          "2012-08-01T00:00:00",
          "2012-08-02T00:00:00",
          "2012-08-03T00:00:00",
          "2012-08-04T00:00:00",
          "2012-08-05T00:00:00",
          "2012-08-06T00:00:00",
          "2012-08-07T00:00:00",
          "2012-08-08T00:00:00",
          "2012-08-09T00:00:00",
          "2012-08-10T00:00:00",
          "2012-08-11T00:00:00",
          "2012-08-12T00:00:00",
          "2012-08-13T00:00:00",
          "2012-08-14T00:00:00",
          "2012-08-15T00:00:00",
          "2012-08-16T00:00:00",
          "2012-08-17T00:00:00",
          "2012-08-18T00:00:00",
          "2012-08-19T00:00:00",
          "2012-08-20T00:00:00",
          "2012-08-21T00:00:00",
          "2012-08-22T00:00:00",
          "2012-08-23T00:00:00",
          "2012-08-24T00:00:00",
          "2012-08-25T00:00:00",
          "2012-08-26T00:00:00",
          "2012-08-27T00:00:00",
          "2012-08-28T00:00:00",
          "2012-08-29T00:00:00",
          "2012-08-30T00:00:00",
          "2012-08-31T00:00:00",
          "2012-09-01T00:00:00",
          "2012-09-02T00:00:00",
          "2012-09-03T00:00:00",
          "2012-09-04T00:00:00",
          "2012-09-05T00:00:00",
          "2012-09-06T00:00:00",
          "2012-09-07T00:00:00",
          "2012-09-08T00:00:00",
          "2012-09-09T00:00:00",
          "2012-09-10T00:00:00",
          "2012-09-11T00:00:00",
          "2012-09-12T00:00:00",
          "2012-09-13T00:00:00",
          "2012-09-14T00:00:00",
          "2012-09-15T00:00:00",
          "2012-09-16T00:00:00",
          "2012-09-17T00:00:00",
          "2012-09-18T00:00:00",
          "2012-09-19T00:00:00",
          "2012-09-20T00:00:00",
          "2012-09-21T00:00:00",
          "2012-09-22T00:00:00",
          "2012-09-23T00:00:00",
          "2012-09-24T00:00:00",
          "2012-09-25T00:00:00",
          "2012-09-26T00:00:00",
          "2012-09-27T00:00:00",
          "2012-09-28T00:00:00",
          "2012-09-29T00:00:00",
          "2012-09-30T00:00:00",
          "2012-10-01T00:00:00",
          "2012-10-02T00:00:00",
          "2012-10-03T00:00:00",
          "2012-10-04T00:00:00",
          "2012-10-05T00:00:00",
          "2012-10-06T00:00:00",
          "2012-10-07T00:00:00",
          "2012-10-08T00:00:00",
          "2012-10-09T00:00:00",
          "2012-10-10T00:00:00",
          "2012-10-11T00:00:00",
          "2012-10-12T00:00:00",
          "2012-10-13T00:00:00",
          "2012-10-14T00:00:00",
          "2012-10-15T00:00:00",
          "2012-10-16T00:00:00",
          "2012-10-17T00:00:00",
          "2012-10-18T00:00:00",
          "2012-10-19T00:00:00",
          "2012-10-20T00:00:00",
          "2012-10-21T00:00:00",
          "2012-10-22T00:00:00",
          "2012-10-23T00:00:00",
          "2012-10-24T00:00:00",
          "2012-10-25T00:00:00",
          "2012-10-26T00:00:00",
          "2012-10-27T00:00:00",
          "2012-10-28T00:00:00",
          "2012-10-29T00:00:00",
          "2012-10-30T00:00:00",
          "2012-10-31T00:00:00",
          "2012-11-01T00:00:00",
          "2012-11-02T00:00:00",
          "2012-11-03T00:00:00",
          "2012-11-04T00:00:00",
          "2012-11-05T00:00:00",
          "2012-11-06T00:00:00",
          "2012-11-07T00:00:00",
          "2012-11-08T00:00:00",
          "2012-11-09T00:00:00",
          "2012-11-10T00:00:00",
          "2012-11-11T00:00:00",
          "2012-11-12T00:00:00",
          "2012-11-13T00:00:00",
          "2012-11-14T00:00:00",
          "2012-11-15T00:00:00",
          "2012-11-16T00:00:00",
          "2012-11-17T00:00:00",
          "2012-11-18T00:00:00",
          "2012-11-19T00:00:00",
          "2012-11-20T00:00:00",
          "2012-11-21T00:00:00",
          "2012-11-22T00:00:00",
          "2012-11-23T00:00:00",
          "2012-11-24T00:00:00",
          "2012-11-25T00:00:00",
          "2012-11-26T00:00:00",
          "2012-11-27T00:00:00",
          "2012-11-28T00:00:00",
          "2012-11-29T00:00:00",
          "2012-11-30T00:00:00",
          "2012-12-01T00:00:00",
          "2012-12-02T00:00:00",
          "2012-12-03T00:00:00",
          "2012-12-04T00:00:00",
          "2012-12-05T00:00:00",
          "2012-12-06T00:00:00",
          "2012-12-07T00:00:00",
          "2012-12-08T00:00:00",
          "2012-12-09T00:00:00",
          "2012-12-10T00:00:00",
          "2012-12-11T00:00:00",
          "2012-12-12T00:00:00",
          "2012-12-13T00:00:00",
          "2012-12-14T00:00:00",
          "2012-12-15T00:00:00",
          "2012-12-16T00:00:00",
          "2012-12-17T00:00:00",
          "2012-12-18T00:00:00",
          "2012-12-19T00:00:00",
          "2012-12-20T00:00:00",
          "2012-12-21T00:00:00",
          "2012-12-22T00:00:00",
          "2012-12-23T00:00:00",
          "2012-12-24T00:00:00",
          "2012-12-25T00:00:00",
          "2012-12-26T00:00:00",
          "2012-12-27T00:00:00",
          "2012-12-28T00:00:00",
          "2012-12-29T00:00:00",
          "2012-12-30T00:00:00",
          "2012-12-31T00:00:00",
          "2013-01-01T00:00:00",
          "2013-01-02T00:00:00",
          "2013-01-03T00:00:00",
          "2013-01-04T00:00:00",
          "2013-01-05T00:00:00",
          "2013-01-06T00:00:00",
          "2013-01-07T00:00:00",
          "2013-01-08T00:00:00",
          "2013-01-09T00:00:00",
          "2013-01-10T00:00:00",
          "2013-01-11T00:00:00",
          "2013-01-12T00:00:00",
          "2013-01-13T00:00:00",
          "2013-01-14T00:00:00",
          "2013-01-15T00:00:00",
          "2013-01-16T00:00:00",
          "2013-01-17T00:00:00",
          "2013-01-18T00:00:00",
          "2013-01-19T00:00:00",
          "2013-01-20T00:00:00",
          "2013-01-21T00:00:00",
          "2013-01-22T00:00:00",
          "2013-01-23T00:00:00",
          "2013-01-24T00:00:00",
          "2013-01-25T00:00:00",
          "2013-01-26T00:00:00",
          "2013-01-27T00:00:00",
          "2013-01-28T00:00:00",
          "2013-01-29T00:00:00",
          "2013-01-30T00:00:00",
          "2013-01-31T00:00:00",
          "2013-02-01T00:00:00",
          "2013-02-02T00:00:00",
          "2013-02-03T00:00:00",
          "2013-02-04T00:00:00",
          "2013-02-05T00:00:00",
          "2013-02-06T00:00:00",
          "2013-02-07T00:00:00",
          "2013-02-08T00:00:00",
          "2013-02-09T00:00:00",
          "2013-02-10T00:00:00",
          "2013-02-11T00:00:00",
          "2013-02-12T00:00:00",
          "2013-02-13T00:00:00",
          "2013-02-14T00:00:00",
          "2013-02-15T00:00:00",
          "2013-02-16T00:00:00",
          "2013-02-17T00:00:00",
          "2013-02-18T00:00:00",
          "2013-02-19T00:00:00",
          "2013-02-20T00:00:00",
          "2013-02-21T00:00:00",
          "2013-02-22T00:00:00",
          "2013-02-23T00:00:00",
          "2013-02-24T00:00:00",
          "2013-02-25T00:00:00",
          "2013-02-26T00:00:00",
          "2013-02-27T00:00:00",
          "2013-02-28T00:00:00",
          "2013-03-01T00:00:00",
          "2013-03-02T00:00:00",
          "2013-03-03T00:00:00",
          "2013-03-04T00:00:00",
          "2013-03-05T00:00:00",
          "2013-03-06T00:00:00",
          "2013-03-07T00:00:00",
          "2013-03-08T00:00:00",
          "2013-03-09T00:00:00",
          "2013-03-10T00:00:00",
          "2013-03-11T00:00:00",
          "2013-03-12T00:00:00",
          "2013-03-13T00:00:00",
          "2013-03-14T00:00:00",
          "2013-03-15T00:00:00",
          "2013-03-16T00:00:00",
          "2013-03-17T00:00:00",
          "2013-03-18T00:00:00",
          "2013-03-19T00:00:00",
          "2013-03-20T00:00:00",
          "2013-03-21T00:00:00",
          "2013-03-22T00:00:00",
          "2013-03-23T00:00:00",
          "2013-03-24T00:00:00",
          "2013-03-25T00:00:00",
          "2013-03-26T00:00:00",
          "2013-03-27T00:00:00",
          "2013-03-28T00:00:00",
          "2013-03-29T00:00:00",
          "2013-03-30T00:00:00",
          "2013-03-31T00:00:00",
          "2013-04-01T00:00:00",
          "2013-04-02T00:00:00",
          "2013-04-03T00:00:00",
          "2013-04-04T00:00:00",
          "2013-04-05T00:00:00",
          "2013-04-06T00:00:00",
          "2013-04-07T00:00:00",
          "2013-04-08T00:00:00",
          "2013-04-09T00:00:00",
          "2013-04-10T00:00:00",
          "2013-04-11T00:00:00",
          "2013-04-12T00:00:00",
          "2013-04-13T00:00:00",
          "2013-04-14T00:00:00",
          "2013-04-15T00:00:00",
          "2013-04-16T00:00:00",
          "2013-04-17T00:00:00",
          "2013-04-18T00:00:00",
          "2013-04-19T00:00:00",
          "2013-04-20T00:00:00",
          "2013-04-21T00:00:00",
          "2013-04-22T00:00:00",
          "2013-04-23T00:00:00",
          "2013-04-24T00:00:00",
          "2013-04-25T00:00:00",
          "2013-04-26T00:00:00",
          "2013-04-27T00:00:00",
          "2013-04-28T00:00:00",
          "2013-04-29T00:00:00",
          "2013-04-30T00:00:00",
          "2013-05-01T00:00:00",
          "2013-05-02T00:00:00",
          "2013-05-03T00:00:00",
          "2013-05-04T00:00:00",
          "2013-05-05T00:00:00",
          "2013-05-06T00:00:00",
          "2013-05-07T00:00:00",
          "2013-05-08T00:00:00",
          "2013-05-09T00:00:00",
          "2013-05-10T00:00:00",
          "2013-05-11T00:00:00",
          "2013-05-12T00:00:00",
          "2013-05-13T00:00:00",
          "2013-05-14T00:00:00",
          "2013-05-15T00:00:00",
          "2013-05-16T00:00:00",
          "2013-05-17T00:00:00",
          "2013-05-18T00:00:00",
          "2013-05-19T00:00:00",
          "2013-05-20T00:00:00",
          "2013-05-21T00:00:00",
          "2013-05-22T00:00:00",
          "2013-05-23T00:00:00",
          "2013-05-24T00:00:00",
          "2013-05-25T00:00:00",
          "2013-05-26T00:00:00",
          "2013-05-27T00:00:00",
          "2013-05-28T00:00:00",
          "2013-05-29T00:00:00",
          "2013-05-30T00:00:00",
          "2013-05-31T00:00:00",
          "2013-06-01T00:00:00",
          "2013-06-02T00:00:00",
          "2013-06-03T00:00:00",
          "2013-06-04T00:00:00",
          "2013-06-05T00:00:00",
          "2013-06-06T00:00:00",
          "2013-06-07T00:00:00",
          "2013-06-08T00:00:00",
          "2013-06-09T00:00:00",
          "2013-06-10T00:00:00",
          "2013-06-11T00:00:00",
          "2013-06-12T00:00:00",
          "2013-06-13T00:00:00",
          "2013-06-14T00:00:00",
          "2013-06-15T00:00:00",
          "2013-06-16T00:00:00",
          "2013-06-17T00:00:00",
          "2013-06-18T00:00:00",
          "2013-06-19T00:00:00",
          "2013-06-20T00:00:00",
          "2013-06-21T00:00:00",
          "2013-06-22T00:00:00",
          "2013-06-23T00:00:00",
          "2013-06-24T00:00:00",
          "2013-06-25T00:00:00",
          "2013-06-26T00:00:00",
          "2013-06-27T00:00:00",
          "2013-06-28T00:00:00",
          "2013-06-29T00:00:00",
          "2013-06-30T00:00:00",
          "2013-07-01T00:00:00",
          "2013-07-02T00:00:00",
          "2013-07-03T00:00:00",
          "2013-07-04T00:00:00",
          "2013-07-05T00:00:00",
          "2013-07-06T00:00:00",
          "2013-07-07T00:00:00",
          "2013-07-08T00:00:00",
          "2013-07-09T00:00:00",
          "2013-07-10T00:00:00",
          "2013-07-11T00:00:00",
          "2013-07-12T00:00:00",
          "2013-07-13T00:00:00",
          "2013-07-14T00:00:00",
          "2013-07-15T00:00:00",
          "2013-07-16T00:00:00",
          "2013-07-17T00:00:00",
          "2013-07-18T00:00:00",
          "2013-07-19T00:00:00",
          "2013-07-20T00:00:00",
          "2013-07-21T00:00:00",
          "2013-07-22T00:00:00",
          "2013-07-23T00:00:00",
          "2013-07-24T00:00:00",
          "2013-07-25T00:00:00",
          "2013-07-26T00:00:00",
          "2013-07-27T00:00:00",
          "2013-07-28T00:00:00",
          "2013-07-29T00:00:00",
          "2013-07-30T00:00:00",
          "2013-07-31T00:00:00",
          "2013-08-01T00:00:00",
          "2013-08-02T00:00:00",
          "2013-08-03T00:00:00",
          "2013-08-04T00:00:00",
          "2013-08-05T00:00:00",
          "2013-08-06T00:00:00",
          "2013-08-07T00:00:00",
          "2013-08-08T00:00:00",
          "2013-08-09T00:00:00",
          "2013-08-10T00:00:00",
          "2013-08-11T00:00:00",
          "2013-08-12T00:00:00",
          "2013-08-13T00:00:00",
          "2013-08-14T00:00:00",
          "2013-08-15T00:00:00",
          "2013-08-16T00:00:00",
          "2013-08-17T00:00:00",
          "2013-08-18T00:00:00",
          "2013-08-19T00:00:00",
          "2013-08-20T00:00:00",
          "2013-08-21T00:00:00",
          "2013-08-22T00:00:00",
          "2013-08-23T00:00:00",
          "2013-08-24T00:00:00",
          "2013-08-25T00:00:00",
          "2013-08-26T00:00:00",
          "2013-08-27T00:00:00",
          "2013-08-28T00:00:00",
          "2013-08-29T00:00:00",
          "2013-08-30T00:00:00",
          "2013-08-31T00:00:00",
          "2013-09-01T00:00:00",
          "2013-09-02T00:00:00",
          "2013-09-03T00:00:00",
          "2013-09-04T00:00:00",
          "2013-09-05T00:00:00",
          "2013-09-06T00:00:00",
          "2013-09-07T00:00:00",
          "2013-09-08T00:00:00",
          "2013-09-09T00:00:00",
          "2013-09-10T00:00:00",
          "2013-09-11T00:00:00",
          "2013-09-12T00:00:00",
          "2013-09-13T00:00:00",
          "2013-09-14T00:00:00",
          "2013-09-15T00:00:00",
          "2013-09-16T00:00:00",
          "2013-09-17T00:00:00",
          "2013-09-18T00:00:00",
          "2013-09-19T00:00:00",
          "2013-09-20T00:00:00",
          "2013-09-21T00:00:00",
          "2013-09-22T00:00:00",
          "2013-09-23T00:00:00",
          "2013-09-24T00:00:00",
          "2013-09-25T00:00:00",
          "2013-09-26T00:00:00",
          "2013-09-27T00:00:00",
          "2013-09-28T00:00:00",
          "2013-09-29T00:00:00",
          "2013-09-30T00:00:00",
          "2013-10-01T00:00:00",
          "2013-10-02T00:00:00",
          "2013-10-03T00:00:00",
          "2013-10-04T00:00:00",
          "2013-10-05T00:00:00",
          "2013-10-06T00:00:00",
          "2013-10-07T00:00:00",
          "2013-10-08T00:00:00",
          "2013-10-09T00:00:00",
          "2013-10-10T00:00:00",
          "2013-10-11T00:00:00",
          "2013-10-12T00:00:00",
          "2013-10-13T00:00:00",
          "2013-10-14T00:00:00",
          "2013-10-15T00:00:00",
          "2013-10-16T00:00:00",
          "2013-10-17T00:00:00",
          "2013-10-18T00:00:00",
          "2013-10-19T00:00:00",
          "2013-10-20T00:00:00",
          "2013-10-21T00:00:00",
          "2013-10-22T00:00:00",
          "2013-10-23T00:00:00",
          "2013-10-24T00:00:00",
          "2013-10-25T00:00:00",
          "2013-10-26T00:00:00",
          "2013-10-27T00:00:00",
          "2013-10-28T00:00:00",
          "2013-10-29T00:00:00",
          "2013-10-30T00:00:00",
          "2013-10-31T00:00:00",
          "2013-11-01T00:00:00",
          "2013-11-02T00:00:00",
          "2013-11-03T00:00:00",
          "2013-11-04T00:00:00",
          "2013-11-05T00:00:00",
          "2013-11-06T00:00:00",
          "2013-11-07T00:00:00",
          "2013-11-08T00:00:00",
          "2013-11-09T00:00:00",
          "2013-11-10T00:00:00",
          "2013-11-11T00:00:00",
          "2013-11-12T00:00:00",
          "2013-11-13T00:00:00",
          "2013-11-14T00:00:00",
          "2013-11-15T00:00:00",
          "2013-11-16T00:00:00",
          "2013-11-17T00:00:00",
          "2013-11-18T00:00:00",
          "2013-11-19T00:00:00",
          "2013-11-20T00:00:00",
          "2013-11-21T00:00:00",
          "2013-11-22T00:00:00",
          "2013-11-23T00:00:00",
          "2013-11-24T00:00:00",
          "2013-11-25T00:00:00",
          "2013-11-26T00:00:00",
          "2013-11-27T00:00:00",
          "2013-11-28T00:00:00",
          "2013-11-29T00:00:00",
          "2013-11-30T00:00:00",
          "2013-12-01T00:00:00",
          "2013-12-02T00:00:00",
          "2013-12-03T00:00:00",
          "2013-12-04T00:00:00",
          "2013-12-05T00:00:00",
          "2013-12-06T00:00:00",
          "2013-12-07T00:00:00",
          "2013-12-08T00:00:00",
          "2013-12-09T00:00:00",
          "2013-12-10T00:00:00",
          "2013-12-11T00:00:00",
          "2013-12-12T00:00:00",
          "2013-12-13T00:00:00",
          "2013-12-14T00:00:00",
          "2013-12-15T00:00:00",
          "2013-12-16T00:00:00",
          "2013-12-17T00:00:00",
          "2013-12-18T00:00:00",
          "2013-12-19T00:00:00",
          "2013-12-20T00:00:00",
          "2013-12-21T00:00:00",
          "2013-12-22T00:00:00",
          "2013-12-23T00:00:00",
          "2013-12-24T00:00:00",
          "2013-12-25T00:00:00",
          "2013-12-26T00:00:00",
          "2013-12-27T00:00:00",
          "2013-12-28T00:00:00",
          "2013-12-29T00:00:00",
          "2013-12-30T00:00:00",
          "2013-12-31T00:00:00",
          "2014-01-01T00:00:00",
          "2014-01-02T00:00:00",
          "2014-01-03T00:00:00",
          "2014-01-04T00:00:00",
          "2014-01-05T00:00:00",
          "2014-01-06T00:00:00",
          "2014-01-07T00:00:00",
          "2014-01-08T00:00:00",
          "2014-01-09T00:00:00",
          "2014-01-10T00:00:00",
          "2014-01-11T00:00:00",
          "2014-01-12T00:00:00",
          "2014-01-13T00:00:00",
          "2014-01-14T00:00:00",
          "2014-01-15T00:00:00",
          "2014-01-16T00:00:00",
          "2014-01-17T00:00:00",
          "2014-01-18T00:00:00",
          "2014-01-19T00:00:00",
          "2014-01-20T00:00:00",
          "2014-01-21T00:00:00",
          "2014-01-22T00:00:00",
          "2014-01-23T00:00:00",
          "2014-01-24T00:00:00",
          "2014-01-25T00:00:00",
          "2014-01-26T00:00:00",
          "2014-01-27T00:00:00",
          "2014-01-28T00:00:00",
          "2014-01-29T00:00:00",
          "2014-01-30T00:00:00",
          "2014-01-31T00:00:00",
          "2014-02-01T00:00:00",
          "2014-02-02T00:00:00",
          "2014-02-03T00:00:00",
          "2014-02-04T00:00:00",
          "2014-02-05T00:00:00",
          "2014-02-06T00:00:00",
          "2014-02-07T00:00:00",
          "2014-02-08T00:00:00",
          "2014-02-09T00:00:00",
          "2014-02-10T00:00:00",
          "2014-02-11T00:00:00",
          "2014-02-12T00:00:00",
          "2014-02-13T00:00:00",
          "2014-02-14T00:00:00",
          "2014-02-15T00:00:00",
          "2014-02-16T00:00:00",
          "2014-02-17T00:00:00",
          "2014-02-18T00:00:00",
          "2014-02-19T00:00:00",
          "2014-02-20T00:00:00",
          "2014-02-21T00:00:00",
          "2014-02-22T00:00:00",
          "2014-02-23T00:00:00",
          "2014-02-24T00:00:00",
          "2014-02-25T00:00:00",
          "2014-02-26T00:00:00",
          "2014-02-27T00:00:00",
          "2014-02-28T00:00:00"
         ],
         "xaxis": "x",
         "y": [
          null,
          null,
          null,
          null,
          null,
          null,
          null,
          null,
          null,
          null,
          null,
          null,
          null,
          null,
          null,
          0.12712902438944942,
          0.12709151545090902,
          0.12763750045770075,
          0.12781967431027003,
          0.1277453836194721,
          0.12807582166512216,
          0.12885493557372618,
          0.12992199010815444,
          0.1309646761237639,
          0.1318385282641408,
          0.13248260122363598,
          0.1328706936381005,
          0.13330159308897943,
          0.13386756465748872,
          0.13436666636755018,
          0.13484230134177655,
          0.13537741543422746,
          0.1355791077854162,
          0.1352904722259889,
          0.1351201054510362,
          0.13517778666431346,
          0.1352442660538134,
          0.13543388131582598,
          0.13565285121166362,
          0.13567553327269036,
          0.13544485308586277,
          0.1350498687007674,
          0.1347456530374542,
          0.13468512499865165,
          0.13491508963897267,
          0.13531478454510307,
          0.1355489779725713,
          0.13557550693489454,
          0.1358639583058574,
          0.13626954068151334,
          0.13652558383630195,
          0.13674351321728354,
          0.13704447854407073,
          0.1372824924787235,
          0.13734580690398734,
          0.13742427066083582,
          0.13760634086217702,
          0.13791437095879241,
          0.13837407037097138,
          0.13910304491031195,
          0.1396421687003566,
          0.13970244840024615,
          0.14005944992896252,
          0.14069650198869096,
          0.14119622988245423,
          0.14177251443346284,
          0.14245021657963747,
          0.14275427524142448,
          0.14254005798639283,
          0.14218765154768356,
          0.14178536964813448,
          0.14144989678405853,
          0.14138256959213039,
          0.14154879720460542,
          0.14162655114521303,
          0.14127676361251612,
          0.1408052479481561,
          0.14038254929943733,
          0.1398297053759106,
          0.1394584938652238,
          0.1392999656904642,
          0.13896274380097476,
          0.13813084938991593,
          0.1372076621968453,
          0.13640206263343718,
          0.1356502072514947,
          0.13491901770824946,
          0.13428779013177317,
          0.13353700530473195,
          0.1324244084343326,
          0.1315872856794895,
          0.13098145978063108,
          0.13009713379572704,
          0.12923648113753952,
          0.12856153534035847,
          0.127615561076309,
          0.1263008396207665,
          0.1251250278443235,
          0.12435924095522591,
          0.12384522318465005,
          0.12359634103835053,
          0.12356600687106785,
          0.12326049577851232,
          0.1224228679211968,
          0.12147524531020915,
          0.12072821830561033,
          0.1200702279667461,
          0.11948439860763564,
          0.11917260635778633,
          0.11876932380922312,
          0.11791663016069952,
          0.11703026667589099,
          0.11637931004785645,
          0.11576944748626425,
          0.11542636460540145,
          0.11528108560649956,
          0.11489063380859313,
          0.11422224175942321,
          0.11361752647950947,
          0.113218640925448,
          0.11275450096719633,
          0.11228283182028842,
          0.1119048021851076,
          0.11155490536638617,
          0.11106920187541075,
          0.11070460325179583,
          0.11057667618854343,
          0.11048501392743271,
          0.11045545532950779,
          0.110620654954502,
          0.11066519012276758,
          0.11040677635676652,
          0.11037274494730047,
          0.11064512926386691,
          0.11090034847853669,
          0.11108658236139309,
          0.11140971412490179,
          0.11178489776790805,
          0.11194472074843909,
          0.11211911359282455,
          0.11253408161294083,
          0.11290674525238233,
          0.11341312138712588,
          0.11432475394907082,
          0.11478584908079628,
          0.11459615214280583,
          0.11448499549224604,
          0.11457083160304152,
          0.11469619925343714,
          0.11476402940830625,
          0.11505248107872032,
          0.11553819339134733,
          0.11569681093429574,
          0.11549849373297044,
          0.11537370966971773,
          0.11522150711098801,
          0.1150010674865071,
          0.11489285317831428,
          0.11466121713204154,
          0.11410252776641523,
          0.11347401106807445,
          0.1128929038006962,
          0.11234930148307712,
          0.1118591391001621,
          0.11163537706434183,
          0.11152141730778785,
          0.11092205918437073,
          0.11010462779130682,
          0.10933935237439553,
          0.10854426942729821,
          0.10777151490347273,
          0.10720701223865892,
          0.10655654357534793,
          0.1054488355073429,
          0.10451006993941853,
          0.1039748953489739,
          0.10349063558841146,
          0.1029418599297296,
          0.10251521263593008,
          0.10212141252274573,
          0.10142889259983019,
          0.10057152048759269,
          0.09994506343310923,
          0.09966572433833731,
          0.09943727445850661,
          0.09941608573844428,
          0.09954440112983752,
          0.09945164378013925,
          0.09916735155956782,
          0.0988281094141508,
          0.09858680465703355,
          0.09852192282031241,
          0.09841582622347277,
          0.09814313362792823,
          0.09751677885404467,
          0.09678308100902637,
          0.09651130338410446,
          0.09654704466190639,
          0.09672792152596064,
          0.09706858950036161,
          0.09723529245682772,
          0.0971215131509117,
          0.09701917971584201,
          0.09699548348793076,
          0.09695866709205618,
          0.0969367981689417,
          0.09705873062340731,
          0.09713340516410772,
          0.09686099616755876,
          0.09648383667377192,
          0.09609919885993433,
          0.09580509353806174,
          0.09573478601904965,
          0.09576197123968702,
          0.09575656497338839,
          0.09547304270328368,
          0.09497991444786844,
          0.09458627682324781,
          0.094445403004333,
          0.09447398689413171,
          0.0945121593309716,
          0.09442052215123473,
          0.09409261824161343,
          0.09373901294167664,
          0.09363303501257653,
          0.09369151677191208,
          0.09367888852303269,
          0.09361328601352478,
          0.09349111355119802,
          0.0931724340784638,
          0.09297259655387827,
          0.09292647951706817,
          0.09284444244599631,
          0.09286145072891552,
          0.09304714213394728,
          0.09320429130528879,
          0.09311626529077358,
          0.09295137200023866,
          0.09283322434064897,
          0.09270033940409536,
          0.09262905639411505,
          0.09267574266673052,
          0.09258373035283582,
          0.09220901530345824,
          0.09186531103625353,
          0.0917446568751687,
          0.09168001091935683,
          0.09156743531254882,
          0.09148438405237758,
          0.09130868390234224,
          0.09097446410552676,
          0.09071542526060755,
          0.09066254687556834,
          0.09066046990511893,
          0.09055271214669691,
          0.09054201218017185,
          0.09064359880771572,
          0.09061823095351502,
          0.09047573254295814,
          0.09039192114847187,
          0.09035301329600308,
          0.09035260584365068,
          0.09044527686202264,
          0.0904999968466355,
          0.09037683329422612,
          0.0902565963467723,
          0.09026126792022543,
          0.09026691255163001,
          0.09033054244500921,
          0.09061137534628007,
          0.09090442407980348,
          0.09095261095829389,
          0.09097405715267017,
          0.09102672694123541,
          0.0909759546309681,
          0.09091039339314375,
          0.09103636659133386,
          0.09122112015913215,
          0.09121755524186108,
          0.09125398784902998,
          0.09144141730963003,
          0.09156419012272662,
          0.09168528872384664,
          0.09203951008030657,
          0.09244317724594261,
          0.09263156945170822,
          0.09270421516807097,
          0.0928431903873399,
          0.09310183749458295,
          0.09338796822538696,
          0.09392970497020275,
          0.09452211499770757,
          0.09478723705522464,
          0.09495389209051046,
          0.09524677471416573,
          0.09558639644197624,
          0.09586385922921845,
          0.09633074499042103,
          0.09684854200991116,
          0.0970799458619632,
          0.09720456165341433,
          0.09741909507805101,
          0.09776796836242978,
          0.09829181577821552,
          0.09906308917165796,
          0.0998593384947617,
          0.10034336932604279,
          0.10066056068536053,
          0.10116732925057029,
          0.101744646596081,
          0.10231222671531738,
          0.10313045122904263,
          0.10393499075284068,
          0.10436219964905367,
          0.1047034206511707,
          0.10506155435846164,
          0.10541650023163576,
          0.10587975097880792,
          0.10655881209681582,
          0.10727116697805386,
          0.1075178686691738,
          0.10755843917009202,
          0.1077995645318162,
          0.10829281910116527,
          0.10895021855479646,
          0.10974500209939014,
          0.11052730033759509,
          0.11100642885027213,
          0.11135185896878136,
          0.11179216811069695,
          0.11234391915654333,
          0.11300565061320313,
          0.11390344585589658,
          0.11471977865588998,
          0.11521242539816737,
          0.1156523181482332,
          0.1161461844027707,
          0.11663824948256081,
          0.11713560457978664,
          0.11790976758566192,
          0.1186594988899089,
          0.11886992795199675,
          0.1188771512410294,
          0.11918040368969636,
          0.11967940678166672,
          0.12028584113581697,
          0.12112019862161055,
          0.12189405526355306,
          0.1221697109487757,
          0.12232232716776244,
          0.122643085295875,
          0.12303571532850752,
          0.12371904144112103,
          0.12445656257558471,
          0.12486326061312217,
          0.12496577783666436,
          0.1251615756183188,
          0.12567483389099704,
          0.12634656460093277,
          0.12714343962651387,
          0.1281440604791003,
          0.1289177298102076,
          0.12903418351442922,
          0.12921308491830094,
          0.12976617451559358,
          0.13027614270160318,
          0.13080940495625806,
          0.13162340264724806,
          0.13223607563621637,
          0.13233946655810974,
          0.13261996022766406,
          0.13331801223226536,
          0.13408308706714156,
          0.13466761901095925,
          0.13524796445577433,
          0.1357374954614493,
          0.13585546746276755,
          0.1360141949679864,
          0.13654228012371666,
          0.13702887642789843,
          0.13750309446006637,
          0.13806801650256653,
          0.13832346465646467,
          0.1384742517364683,
          0.13866497047292603,
          0.13880107133007946,
          0.13891125560625447,
          0.1388803573298319,
          0.13875777291367689,
          0.13854159190423412,
          0.13810966106657502,
          0.13786619817387918,
          0.13793357038759652,
          0.1378122564239905,
          0.13747956748820223,
          0.13745536049252483,
          0.13757557078068652,
          0.1372817003488084,
          0.1368975592001531,
          0.13685392483839784,
          0.13690499751507065,
          0.1370472271429778,
          0.1375342323199315,
          0.13808084546680413,
          0.13833592288314317,
          0.13859950290444845,
          0.13905751084069526,
          0.13955033757594557,
          0.14011501211417238,
          0.14093173311902454,
          0.14163100483888003,
          0.14205879755727704,
          0.14253148484212338,
          0.1428936093990421,
          0.1433143892725089,
          0.14379666192092472,
          0.14422475283849465,
          0.14449486559372746,
          0.14441904173858777,
          0.14412401354957563,
          0.14385385880050572,
          0.14367274423730433,
          0.14369217800951714,
          0.14420522551183756,
          0.14458590832658214,
          0.14436651886581042,
          0.1441107946209758,
          0.14412077488410885,
          0.14434281426433157,
          0.14445566964730555,
          0.1445212041291936,
          0.14446608936898941,
          0.14405814579814383,
          0.1436458547655407,
          0.14330374002399787,
          0.14280279289966807,
          0.14222092101012324,
          0.1416075901270557,
          0.1407245523485946,
          0.1395701038470157,
          0.1385947958140875,
          0.13797416876782426,
          0.13756026013235811,
          0.13727306070664858,
          0.13720293965780617,
          0.1373448898339741,
          0.1373038184215642,
          0.13719293172537955,
          0.13732286187860365,
          0.13761895257958118,
          0.13789660645197818,
          0.13817402251072425,
          0.13816982586737195,
          0.13742086278831808,
          0.13658597062421562,
          0.13614302514610585,
          0.13576757765638758,
          0.1353917955807575,
          0.13530519562582055,
          0.13547259261948072,
          0.13540587027665296,
          0.13510105352281612,
          0.13474746064584553,
          0.1343397085594439,
          0.13409393569973213,
          0.1342456641737075,
          0.13444465506808584,
          0.13435891220043752,
          0.13426982638761448,
          0.13427363305120502,
          0.13432700437612813,
          0.13469238689129456,
          0.1352948637153343,
          0.13565319871730036,
          0.13557949005907438,
          0.13537812666581076,
          0.13525139476202142,
          0.1352498679236525,
          0.1351901402148365,
          0.13503975242734906,
          0.13496272483985788,
          0.13469479082534735,
          0.13456711012853448,
          0.13494430286436804,
          0.13550168510900873,
          0.135775165053406,
          0.13585636590550493,
          0.13590608634987122,
          0.13554850406874874,
          0.13478383383432224,
          0.13395968657416868,
          0.13329983943627366,
          0.1327641208128807,
          0.1323144103283255,
          0.13161860036479353,
          0.13049298419402053,
          0.12934634359695488,
          0.12843034852019716,
          0.12764749064292769,
          0.12693929856794017,
          0.1262909097454314,
          0.12521101728457068,
          0.12343737695891248,
          0.12158657661004794,
          0.11987570810628571,
          0.11826059719639323,
          0.11697256293641439,
          0.11597854474635051,
          0.11505898993640201,
          0.11403335446890749,
          0.1128588759622405,
          0.1116999880476832,
          0.11043113547021859,
          0.10903665209259297,
          0.10784982380235461,
          0.10688748463395464,
          0.10588882740038612,
          0.10489279744693143,
          0.10404659588852472,
          0.1032394359533838,
          0.10253289258743141,
          0.10208363821811318,
          0.10160395173790182,
          0.10106594453066811,
          0.10083198656958436,
          0.10072123391122095,
          0.10064066987795775,
          0.1006670870345394,
          0.10069858334593262,
          0.10060020969430539,
          0.10022589077854233,
          0.09975962744967397,
          0.0995337656455972,
          0.09962753566637776,
          0.0998733660391156,
          0.10000922667867182,
          0.09982677455616894,
          0.09938189446388372,
          0.09910367638600746,
          0.09906272765778772,
          0.0990058862175456,
          0.09893013889394124,
          0.09904551622747179,
          0.09908811457091339,
          0.09880068409359012,
          0.0984749792517334,
          0.09823506962937016,
          0.098053838084282,
          0.09788403385209678,
          0.09793636158440215,
          0.09801328261126588,
          0.09772024107275076,
          0.09748037527111174,
          0.09731238305647998,
          0.09702019335078409,
          0.09680847467496001,
          0.09667678490121956,
          0.09637693057463052,
          0.09587223963079565,
          0.09541219609233166,
          0.09508880415348027,
          0.0948347983882247,
          0.09461611592474739,
          0.09447061606583404,
          0.0943059876256461,
          0.09398466150912643,
          0.09367284780204675,
          0.09342420541393963,
          0.09318037071927589,
          0.09299878317774878,
          0.09298652878286523,
          0.09296068909429485,
          0.09273394397966037,
          0.09260791874093457,
          0.09258431220002816,
          0.09255532236561483,
          0.0925869690520617,
          0.09268289618615069,
          0.09267070782340804,
          0.09233018839047058,
          0.09192569406567046,
          0.09162749039875492,
          0.0913111239573524,
          0.09097989261407752,
          0.090806882404059,
          0.09069895095913011,
          0.09041268893428446,
          0.09018610176873976,
          0.09011748316289937,
          0.09008200237423078,
          0.0900837164843055,
          0.09019192382022007,
          0.09026076958416572,
          0.0900683432044874,
          0.0898017151595534,
          0.08968841913806,
          0.08966823683489883,
          0.08968664026913978,
          0.08972355534778573,
          0.08963853049972706,
          0.08936956129155564,
          0.0891590259873022,
          0.08903998187060105,
          0.08889477588848124,
          0.08876141938987826,
          0.08867462413190837,
          0.08857990661976169,
          0.08830921217247459,
          0.08804889047676635,
          0.08792431603303857,
          0.08785533191187649,
          0.08789461263166355,
          0.08798885966358344,
          0.08805215174156633,
          0.08790315330198507,
          0.08768125304614156,
          0.08757769341783875,
          0.08750223645715088,
          0.08748531667162039,
          0.08755549314002523,
          0.08751356127237023,
          0.08722903197757896,
          0.08693540870382055,
          0.08681953879109429,
          0.0867355587211708,
          0.08664214889006373,
          0.08660091886243047,
          0.08651071811914642,
          0.08631985901347616,
          0.08610540978189585,
          0.0859866801077867,
          0.08592953715127778,
          0.08586355527527126,
          0.08590958900249676,
          0.08601286510903132,
          0.0860410009106053,
          0.08607673283410282,
          0.08618492576160482,
          0.08633081012849964,
          0.08651785597640718,
          0.0868525890426055,
          0.08718964044229627,
          0.08740811828501824,
          0.08765731747819817,
          0.08800973246852509,
          0.08836432378562654,
          0.08877623982576754,
          0.08934538334373134,
          0.0897828993686386,
          0.09003090032082728,
          0.09036718715925333,
          0.09092185846302789,
          0.09150434956864614,
          0.09190351559455968,
          0.09240037567859304,
          0.09288398216542036,
          0.09315333507824973,
          0.0933281821915678,
          0.0934809700130869,
          0.09372517662814275,
          0.09410152339700992,
          0.09469429889664732,
          0.09525837471718517,
          0.09557591096300042,
          0.09587948107522042,
          0.09623942227658562,
          0.09652517444974075,
          0.09688371906668806,
          0.0974080821365094,
          0.09781680122901523,
          0.09786267956522285,
          0.09779286483205017,
          0.09796404631361977,
          0.09836875006660924,
          0.0988633353975638,
          0.0996138229612672,
          0.10031434278333154,
          0.10058267893773461,
          0.10095264657370123,
          0.10140428036930765,
          0.10171070315255702,
          0.10202523653272204,
          0.10252490636541661,
          0.10301039463162794,
          0.10321799653386121,
          0.1034346825896057,
          0.10381285416308784,
          0.10423896355287048,
          0.10473877960324861,
          0.10550085085970128,
          0.10617500585382016,
          0.10649384539216468,
          0.1068556677561762,
          0.10730903326479191,
          0.10774056150889232,
          0.10810528151323713,
          0.1086703703657607,
          0.10934277900186813,
          0.10978975261557437,
          0.11031713345418692,
          0.11098741376989796,
          0.1116869062654278,
          0.11243397938408183,
          0.11320578610925344,
          0.11378035651826635,
          0.11383730958446231,
          0.11383235913817215,
          0.11420804503188031,
          0.11455563484068072,
          0.11503586458685652,
          0.11583186608081947,
          0.11647264590853534,
          0.11679128387633458,
          0.11729026822636722,
          0.1180945583679203,
          0.11897324607912292,
          0.119882643002628,
          0.12095169654685808,
          0.12200380700546556,
          0.12264601057725313,
          0.12310827208042438,
          0.1234990263061635,
          0.12382861051613055,
          0.12427912105441781,
          0.1250475368554787,
          0.1258772250411905,
          0.12637678739794603,
          0.1266981472687747,
          0.12708570111670356,
          0.1275277901595362,
          0.1279061316755654,
          0.1283520009630881,
          0.128598709911792,
          0.12852936322973507,
          0.12867528372103842,
          0.1291705592195876,
          0.12962530142105375,
          0.12994979176775698,
          0.13036273976551935,
          0.1305472853476642,
          0.13043783627035938,
          0.130421705629354,
          0.13047589903068998,
          0.13042554926231276,
          0.1303324200397687,
          0.13026207566655332,
          0.130217874907346,
          0.1300946466079078,
          0.13021201721170222,
          0.1304757507558276,
          0.13058533075842246,
          0.1307518636690348,
          0.1310221240654908,
          0.1313022740229188,
          0.13130149352469708,
          0.131446031969048,
          0.13168746730895955,
          0.1317730876330185,
          0.1319914023909883,
          0.13246199202338155,
          0.13290779755120008,
          0.13299592668631927,
          0.13307725169334245,
          0.13318352155587926,
          0.13310357646064724,
          0.13306536861077772,
          0.13355463238997622,
          0.134011517850453,
          0.13401754690661893,
          0.13405903260551574,
          0.1340826477816734,
          0.1340982683470483,
          0.13423899351392357,
          0.13446709459135672,
          0.13462225511618997,
          0.1346646242935783,
          0.13459344763530742,
          0.13441600604052803,
          0.13393881483800402,
          0.13352920458333745,
          0.13382552232575481,
          0.1342985319906088,
          0.13432911159580493,
          0.1341735948688842,
          0.13402459131666183,
          0.133723478110517,
          0.13350880454893968,
          0.13354257343080778,
          0.1334829397211692,
          0.13293383904803074,
          0.13245041435220015,
          0.13230538063815453,
          0.1321118684502035,
          0.13200377675174416,
          0.13226318578946716,
          0.13237660208006657,
          0.1318342114082555,
          0.1313859933792852,
          0.13122496459193125,
          0.13116820716632757,
          0.13126040235426203,
          0.13126316215074157,
          0.13109390983782493,
          0.1307159113685356,
          0.1303333339432936,
          0.12998844126665823,
          0.12961198851944356,
          0.1293269722234707,
          0.129328967808473,
          0.12920388057266508,
          0.1283530655852645,
          0.12741272306945733,
          0.126929201555502,
          0.126705195910602,
          null,
          null,
          null,
          null,
          null,
          null,
          null,
          null,
          null,
          null,
          null,
          null,
          null,
          null,
          null
         ],
         "yaxis": "y"
        }
       ],
       "layout": {
        "legend": {
         "tracegroupgap": 0
        },
        "margin": {
         "t": 60
        },
        "template": {
         "data": {
          "bar": [
           {
            "error_x": {
             "color": "#2a3f5f"
            },
            "error_y": {
             "color": "#2a3f5f"
            },
            "marker": {
             "line": {
              "color": "#E5ECF6",
              "width": 0.5
             },
             "pattern": {
              "fillmode": "overlay",
              "size": 10,
              "solidity": 0.2
             }
            },
            "type": "bar"
           }
          ],
          "barpolar": [
           {
            "marker": {
             "line": {
              "color": "#E5ECF6",
              "width": 0.5
             },
             "pattern": {
              "fillmode": "overlay",
              "size": 10,
              "solidity": 0.2
             }
            },
            "type": "barpolar"
           }
          ],
          "carpet": [
           {
            "aaxis": {
             "endlinecolor": "#2a3f5f",
             "gridcolor": "white",
             "linecolor": "white",
             "minorgridcolor": "white",
             "startlinecolor": "#2a3f5f"
            },
            "baxis": {
             "endlinecolor": "#2a3f5f",
             "gridcolor": "white",
             "linecolor": "white",
             "minorgridcolor": "white",
             "startlinecolor": "#2a3f5f"
            },
            "type": "carpet"
           }
          ],
          "choropleth": [
           {
            "colorbar": {
             "outlinewidth": 0,
             "ticks": ""
            },
            "type": "choropleth"
           }
          ],
          "contour": [
           {
            "colorbar": {
             "outlinewidth": 0,
             "ticks": ""
            },
            "colorscale": [
             [
              0,
              "#0d0887"
             ],
             [
              0.1111111111111111,
              "#46039f"
             ],
             [
              0.2222222222222222,
              "#7201a8"
             ],
             [
              0.3333333333333333,
              "#9c179e"
             ],
             [
              0.4444444444444444,
              "#bd3786"
             ],
             [
              0.5555555555555556,
              "#d8576b"
             ],
             [
              0.6666666666666666,
              "#ed7953"
             ],
             [
              0.7777777777777778,
              "#fb9f3a"
             ],
             [
              0.8888888888888888,
              "#fdca26"
             ],
             [
              1,
              "#f0f921"
             ]
            ],
            "type": "contour"
           }
          ],
          "contourcarpet": [
           {
            "colorbar": {
             "outlinewidth": 0,
             "ticks": ""
            },
            "type": "contourcarpet"
           }
          ],
          "heatmap": [
           {
            "colorbar": {
             "outlinewidth": 0,
             "ticks": ""
            },
            "colorscale": [
             [
              0,
              "#0d0887"
             ],
             [
              0.1111111111111111,
              "#46039f"
             ],
             [
              0.2222222222222222,
              "#7201a8"
             ],
             [
              0.3333333333333333,
              "#9c179e"
             ],
             [
              0.4444444444444444,
              "#bd3786"
             ],
             [
              0.5555555555555556,
              "#d8576b"
             ],
             [
              0.6666666666666666,
              "#ed7953"
             ],
             [
              0.7777777777777778,
              "#fb9f3a"
             ],
             [
              0.8888888888888888,
              "#fdca26"
             ],
             [
              1,
              "#f0f921"
             ]
            ],
            "type": "heatmap"
           }
          ],
          "heatmapgl": [
           {
            "colorbar": {
             "outlinewidth": 0,
             "ticks": ""
            },
            "colorscale": [
             [
              0,
              "#0d0887"
             ],
             [
              0.1111111111111111,
              "#46039f"
             ],
             [
              0.2222222222222222,
              "#7201a8"
             ],
             [
              0.3333333333333333,
              "#9c179e"
             ],
             [
              0.4444444444444444,
              "#bd3786"
             ],
             [
              0.5555555555555556,
              "#d8576b"
             ],
             [
              0.6666666666666666,
              "#ed7953"
             ],
             [
              0.7777777777777778,
              "#fb9f3a"
             ],
             [
              0.8888888888888888,
              "#fdca26"
             ],
             [
              1,
              "#f0f921"
             ]
            ],
            "type": "heatmapgl"
           }
          ],
          "histogram": [
           {
            "marker": {
             "pattern": {
              "fillmode": "overlay",
              "size": 10,
              "solidity": 0.2
             }
            },
            "type": "histogram"
           }
          ],
          "histogram2d": [
           {
            "colorbar": {
             "outlinewidth": 0,
             "ticks": ""
            },
            "colorscale": [
             [
              0,
              "#0d0887"
             ],
             [
              0.1111111111111111,
              "#46039f"
             ],
             [
              0.2222222222222222,
              "#7201a8"
             ],
             [
              0.3333333333333333,
              "#9c179e"
             ],
             [
              0.4444444444444444,
              "#bd3786"
             ],
             [
              0.5555555555555556,
              "#d8576b"
             ],
             [
              0.6666666666666666,
              "#ed7953"
             ],
             [
              0.7777777777777778,
              "#fb9f3a"
             ],
             [
              0.8888888888888888,
              "#fdca26"
             ],
             [
              1,
              "#f0f921"
             ]
            ],
            "type": "histogram2d"
           }
          ],
          "histogram2dcontour": [
           {
            "colorbar": {
             "outlinewidth": 0,
             "ticks": ""
            },
            "colorscale": [
             [
              0,
              "#0d0887"
             ],
             [
              0.1111111111111111,
              "#46039f"
             ],
             [
              0.2222222222222222,
              "#7201a8"
             ],
             [
              0.3333333333333333,
              "#9c179e"
             ],
             [
              0.4444444444444444,
              "#bd3786"
             ],
             [
              0.5555555555555556,
              "#d8576b"
             ],
             [
              0.6666666666666666,
              "#ed7953"
             ],
             [
              0.7777777777777778,
              "#fb9f3a"
             ],
             [
              0.8888888888888888,
              "#fdca26"
             ],
             [
              1,
              "#f0f921"
             ]
            ],
            "type": "histogram2dcontour"
           }
          ],
          "mesh3d": [
           {
            "colorbar": {
             "outlinewidth": 0,
             "ticks": ""
            },
            "type": "mesh3d"
           }
          ],
          "parcoords": [
           {
            "line": {
             "colorbar": {
              "outlinewidth": 0,
              "ticks": ""
             }
            },
            "type": "parcoords"
           }
          ],
          "pie": [
           {
            "automargin": true,
            "type": "pie"
           }
          ],
          "scatter": [
           {
            "marker": {
             "colorbar": {
              "outlinewidth": 0,
              "ticks": ""
             }
            },
            "type": "scatter"
           }
          ],
          "scatter3d": [
           {
            "line": {
             "colorbar": {
              "outlinewidth": 0,
              "ticks": ""
             }
            },
            "marker": {
             "colorbar": {
              "outlinewidth": 0,
              "ticks": ""
             }
            },
            "type": "scatter3d"
           }
          ],
          "scattercarpet": [
           {
            "marker": {
             "colorbar": {
              "outlinewidth": 0,
              "ticks": ""
             }
            },
            "type": "scattercarpet"
           }
          ],
          "scattergeo": [
           {
            "marker": {
             "colorbar": {
              "outlinewidth": 0,
              "ticks": ""
             }
            },
            "type": "scattergeo"
           }
          ],
          "scattergl": [
           {
            "marker": {
             "colorbar": {
              "outlinewidth": 0,
              "ticks": ""
             }
            },
            "type": "scattergl"
           }
          ],
          "scattermapbox": [
           {
            "marker": {
             "colorbar": {
              "outlinewidth": 0,
              "ticks": ""
             }
            },
            "type": "scattermapbox"
           }
          ],
          "scatterpolar": [
           {
            "marker": {
             "colorbar": {
              "outlinewidth": 0,
              "ticks": ""
             }
            },
            "type": "scatterpolar"
           }
          ],
          "scatterpolargl": [
           {
            "marker": {
             "colorbar": {
              "outlinewidth": 0,
              "ticks": ""
             }
            },
            "type": "scatterpolargl"
           }
          ],
          "scatterternary": [
           {
            "marker": {
             "colorbar": {
              "outlinewidth": 0,
              "ticks": ""
             }
            },
            "type": "scatterternary"
           }
          ],
          "surface": [
           {
            "colorbar": {
             "outlinewidth": 0,
             "ticks": ""
            },
            "colorscale": [
             [
              0,
              "#0d0887"
             ],
             [
              0.1111111111111111,
              "#46039f"
             ],
             [
              0.2222222222222222,
              "#7201a8"
             ],
             [
              0.3333333333333333,
              "#9c179e"
             ],
             [
              0.4444444444444444,
              "#bd3786"
             ],
             [
              0.5555555555555556,
              "#d8576b"
             ],
             [
              0.6666666666666666,
              "#ed7953"
             ],
             [
              0.7777777777777778,
              "#fb9f3a"
             ],
             [
              0.8888888888888888,
              "#fdca26"
             ],
             [
              1,
              "#f0f921"
             ]
            ],
            "type": "surface"
           }
          ],
          "table": [
           {
            "cells": {
             "fill": {
              "color": "#EBF0F8"
             },
             "line": {
              "color": "white"
             }
            },
            "header": {
             "fill": {
              "color": "#C8D4E3"
             },
             "line": {
              "color": "white"
             }
            },
            "type": "table"
           }
          ]
         },
         "layout": {
          "annotationdefaults": {
           "arrowcolor": "#2a3f5f",
           "arrowhead": 0,
           "arrowwidth": 1
          },
          "autotypenumbers": "strict",
          "coloraxis": {
           "colorbar": {
            "outlinewidth": 0,
            "ticks": ""
           }
          },
          "colorscale": {
           "diverging": [
            [
             0,
             "#8e0152"
            ],
            [
             0.1,
             "#c51b7d"
            ],
            [
             0.2,
             "#de77ae"
            ],
            [
             0.3,
             "#f1b6da"
            ],
            [
             0.4,
             "#fde0ef"
            ],
            [
             0.5,
             "#f7f7f7"
            ],
            [
             0.6,
             "#e6f5d0"
            ],
            [
             0.7,
             "#b8e186"
            ],
            [
             0.8,
             "#7fbc41"
            ],
            [
             0.9,
             "#4d9221"
            ],
            [
             1,
             "#276419"
            ]
           ],
           "sequential": [
            [
             0,
             "#0d0887"
            ],
            [
             0.1111111111111111,
             "#46039f"
            ],
            [
             0.2222222222222222,
             "#7201a8"
            ],
            [
             0.3333333333333333,
             "#9c179e"
            ],
            [
             0.4444444444444444,
             "#bd3786"
            ],
            [
             0.5555555555555556,
             "#d8576b"
            ],
            [
             0.6666666666666666,
             "#ed7953"
            ],
            [
             0.7777777777777778,
             "#fb9f3a"
            ],
            [
             0.8888888888888888,
             "#fdca26"
            ],
            [
             1,
             "#f0f921"
            ]
           ],
           "sequentialminus": [
            [
             0,
             "#0d0887"
            ],
            [
             0.1111111111111111,
             "#46039f"
            ],
            [
             0.2222222222222222,
             "#7201a8"
            ],
            [
             0.3333333333333333,
             "#9c179e"
            ],
            [
             0.4444444444444444,
             "#bd3786"
            ],
            [
             0.5555555555555556,
             "#d8576b"
            ],
            [
             0.6666666666666666,
             "#ed7953"
            ],
            [
             0.7777777777777778,
             "#fb9f3a"
            ],
            [
             0.8888888888888888,
             "#fdca26"
            ],
            [
             1,
             "#f0f921"
            ]
           ]
          },
          "colorway": [
           "#636efa",
           "#EF553B",
           "#00cc96",
           "#ab63fa",
           "#FFA15A",
           "#19d3f3",
           "#FF6692",
           "#B6E880",
           "#FF97FF",
           "#FECB52"
          ],
          "font": {
           "color": "#2a3f5f"
          },
          "geo": {
           "bgcolor": "white",
           "lakecolor": "white",
           "landcolor": "#E5ECF6",
           "showlakes": true,
           "showland": true,
           "subunitcolor": "white"
          },
          "hoverlabel": {
           "align": "left"
          },
          "hovermode": "closest",
          "mapbox": {
           "style": "light"
          },
          "paper_bgcolor": "white",
          "plot_bgcolor": "#E5ECF6",
          "polar": {
           "angularaxis": {
            "gridcolor": "white",
            "linecolor": "white",
            "ticks": ""
           },
           "bgcolor": "#E5ECF6",
           "radialaxis": {
            "gridcolor": "white",
            "linecolor": "white",
            "ticks": ""
           }
          },
          "scene": {
           "xaxis": {
            "backgroundcolor": "#E5ECF6",
            "gridcolor": "white",
            "gridwidth": 2,
            "linecolor": "white",
            "showbackground": true,
            "ticks": "",
            "zerolinecolor": "white"
           },
           "yaxis": {
            "backgroundcolor": "#E5ECF6",
            "gridcolor": "white",
            "gridwidth": 2,
            "linecolor": "white",
            "showbackground": true,
            "ticks": "",
            "zerolinecolor": "white"
           },
           "zaxis": {
            "backgroundcolor": "#E5ECF6",
            "gridcolor": "white",
            "gridwidth": 2,
            "linecolor": "white",
            "showbackground": true,
            "ticks": "",
            "zerolinecolor": "white"
           }
          },
          "shapedefaults": {
           "line": {
            "color": "#2a3f5f"
           }
          },
          "ternary": {
           "aaxis": {
            "gridcolor": "white",
            "linecolor": "white",
            "ticks": ""
           },
           "baxis": {
            "gridcolor": "white",
            "linecolor": "white",
            "ticks": ""
           },
           "bgcolor": "#E5ECF6",
           "caxis": {
            "gridcolor": "white",
            "linecolor": "white",
            "ticks": ""
           }
          },
          "title": {
           "x": 0.05
          },
          "xaxis": {
           "automargin": true,
           "gridcolor": "white",
           "linecolor": "white",
           "ticks": "",
           "title": {
            "standoff": 15
           },
           "zerolinecolor": "white",
           "zerolinewidth": 2
          },
          "yaxis": {
           "automargin": true,
           "gridcolor": "white",
           "linecolor": "white",
           "ticks": "",
           "title": {
            "standoff": 15
           },
           "zerolinecolor": "white",
           "zerolinewidth": 2
          }
         }
        },
        "xaxis": {
         "anchor": "y",
         "domain": [
          0,
          1
         ],
         "rangeslider": {
          "visible": true
         },
         "title": {
          "text": "x"
         }
        },
        "yaxis": {
         "anchor": "x",
         "domain": [
          0,
          1
         ],
         "title": {
          "text": "y"
         }
        }
       }
      }
     },
     "metadata": {},
     "output_type": "display_data"
    }
   ],
   "source": [
    "fig = px.line(x = tariff_dt.index, y = tariff_decomps.Std_Trend)\n",
    "fig.update_xaxes(rangeslider_visible=True)"
   ]
  },
  {
   "cell_type": "code",
   "execution_count": 30,
   "metadata": {},
   "outputs": [
    {
     "data": {
      "application/vnd.plotly.v1+json": {
       "config": {
        "plotlyServerURL": "https://plot.ly"
       },
       "data": [
        {
         "hovertemplate": "x=%{x}<br>y=%{y}<extra></extra>",
         "legendgroup": "",
         "line": {
          "color": "#636efa",
          "dash": "solid"
         },
         "marker": {
          "symbol": "circle"
         },
         "mode": "lines",
         "name": "",
         "orientation": "v",
         "showlegend": false,
         "type": "scatter",
         "x": [
          "2011-11-23T00:00:00",
          "2011-11-24T00:00:00",
          "2011-11-25T00:00:00",
          "2011-11-26T00:00:00",
          "2011-11-27T00:00:00",
          "2011-11-28T00:00:00",
          "2011-11-29T00:00:00",
          "2011-11-30T00:00:00",
          "2011-12-01T00:00:00",
          "2011-12-02T00:00:00",
          "2011-12-03T00:00:00",
          "2011-12-04T00:00:00",
          "2011-12-05T00:00:00",
          "2011-12-06T00:00:00",
          "2011-12-07T00:00:00",
          "2011-12-08T00:00:00",
          "2011-12-09T00:00:00",
          "2011-12-10T00:00:00",
          "2011-12-11T00:00:00",
          "2011-12-12T00:00:00",
          "2011-12-13T00:00:00",
          "2011-12-14T00:00:00",
          "2011-12-15T00:00:00",
          "2011-12-16T00:00:00",
          "2011-12-17T00:00:00",
          "2011-12-18T00:00:00",
          "2011-12-19T00:00:00",
          "2011-12-20T00:00:00",
          "2011-12-21T00:00:00",
          "2011-12-22T00:00:00",
          "2011-12-23T00:00:00",
          "2011-12-24T00:00:00",
          "2011-12-25T00:00:00",
          "2011-12-26T00:00:00",
          "2011-12-27T00:00:00",
          "2011-12-28T00:00:00",
          "2011-12-29T00:00:00",
          "2011-12-30T00:00:00",
          "2011-12-31T00:00:00",
          "2012-01-01T00:00:00",
          "2012-01-02T00:00:00",
          "2012-01-03T00:00:00",
          "2012-01-04T00:00:00",
          "2012-01-05T00:00:00",
          "2012-01-06T00:00:00",
          "2012-01-07T00:00:00",
          "2012-01-08T00:00:00",
          "2012-01-09T00:00:00",
          "2012-01-10T00:00:00",
          "2012-01-11T00:00:00",
          "2012-01-12T00:00:00",
          "2012-01-13T00:00:00",
          "2012-01-14T00:00:00",
          "2012-01-15T00:00:00",
          "2012-01-16T00:00:00",
          "2012-01-17T00:00:00",
          "2012-01-18T00:00:00",
          "2012-01-19T00:00:00",
          "2012-01-20T00:00:00",
          "2012-01-21T00:00:00",
          "2012-01-22T00:00:00",
          "2012-01-23T00:00:00",
          "2012-01-24T00:00:00",
          "2012-01-25T00:00:00",
          "2012-01-26T00:00:00",
          "2012-01-27T00:00:00",
          "2012-01-28T00:00:00",
          "2012-01-29T00:00:00",
          "2012-01-30T00:00:00",
          "2012-01-31T00:00:00",
          "2012-02-01T00:00:00",
          "2012-02-02T00:00:00",
          "2012-02-03T00:00:00",
          "2012-02-04T00:00:00",
          "2012-02-05T00:00:00",
          "2012-02-06T00:00:00",
          "2012-02-07T00:00:00",
          "2012-02-08T00:00:00",
          "2012-02-09T00:00:00",
          "2012-02-10T00:00:00",
          "2012-02-11T00:00:00",
          "2012-02-12T00:00:00",
          "2012-02-13T00:00:00",
          "2012-02-14T00:00:00",
          "2012-02-15T00:00:00",
          "2012-02-16T00:00:00",
          "2012-02-17T00:00:00",
          "2012-02-18T00:00:00",
          "2012-02-19T00:00:00",
          "2012-02-20T00:00:00",
          "2012-02-21T00:00:00",
          "2012-02-22T00:00:00",
          "2012-02-23T00:00:00",
          "2012-02-24T00:00:00",
          "2012-02-25T00:00:00",
          "2012-02-26T00:00:00",
          "2012-02-27T00:00:00",
          "2012-02-28T00:00:00",
          "2012-02-29T00:00:00",
          "2012-03-01T00:00:00",
          "2012-03-02T00:00:00",
          "2012-03-03T00:00:00",
          "2012-03-04T00:00:00",
          "2012-03-05T00:00:00",
          "2012-03-06T00:00:00",
          "2012-03-07T00:00:00",
          "2012-03-08T00:00:00",
          "2012-03-09T00:00:00",
          "2012-03-10T00:00:00",
          "2012-03-11T00:00:00",
          "2012-03-12T00:00:00",
          "2012-03-13T00:00:00",
          "2012-03-14T00:00:00",
          "2012-03-15T00:00:00",
          "2012-03-16T00:00:00",
          "2012-03-17T00:00:00",
          "2012-03-18T00:00:00",
          "2012-03-19T00:00:00",
          "2012-03-20T00:00:00",
          "2012-03-21T00:00:00",
          "2012-03-22T00:00:00",
          "2012-03-23T00:00:00",
          "2012-03-24T00:00:00",
          "2012-03-25T00:00:00",
          "2012-03-26T00:00:00",
          "2012-03-27T00:00:00",
          "2012-03-28T00:00:00",
          "2012-03-29T00:00:00",
          "2012-03-30T00:00:00",
          "2012-03-31T00:00:00",
          "2012-04-01T00:00:00",
          "2012-04-02T00:00:00",
          "2012-04-03T00:00:00",
          "2012-04-04T00:00:00",
          "2012-04-05T00:00:00",
          "2012-04-06T00:00:00",
          "2012-04-07T00:00:00",
          "2012-04-08T00:00:00",
          "2012-04-09T00:00:00",
          "2012-04-10T00:00:00",
          "2012-04-11T00:00:00",
          "2012-04-12T00:00:00",
          "2012-04-13T00:00:00",
          "2012-04-14T00:00:00",
          "2012-04-15T00:00:00",
          "2012-04-16T00:00:00",
          "2012-04-17T00:00:00",
          "2012-04-18T00:00:00",
          "2012-04-19T00:00:00",
          "2012-04-20T00:00:00",
          "2012-04-21T00:00:00",
          "2012-04-22T00:00:00",
          "2012-04-23T00:00:00",
          "2012-04-24T00:00:00",
          "2012-04-25T00:00:00",
          "2012-04-26T00:00:00",
          "2012-04-27T00:00:00",
          "2012-04-28T00:00:00",
          "2012-04-29T00:00:00",
          "2012-04-30T00:00:00",
          "2012-05-01T00:00:00",
          "2012-05-02T00:00:00",
          "2012-05-03T00:00:00",
          "2012-05-04T00:00:00",
          "2012-05-05T00:00:00",
          "2012-05-06T00:00:00",
          "2012-05-07T00:00:00",
          "2012-05-08T00:00:00",
          "2012-05-09T00:00:00",
          "2012-05-10T00:00:00",
          "2012-05-11T00:00:00",
          "2012-05-12T00:00:00",
          "2012-05-13T00:00:00",
          "2012-05-14T00:00:00",
          "2012-05-15T00:00:00",
          "2012-05-16T00:00:00",
          "2012-05-17T00:00:00",
          "2012-05-18T00:00:00",
          "2012-05-19T00:00:00",
          "2012-05-20T00:00:00",
          "2012-05-21T00:00:00",
          "2012-05-22T00:00:00",
          "2012-05-23T00:00:00",
          "2012-05-24T00:00:00",
          "2012-05-25T00:00:00",
          "2012-05-26T00:00:00",
          "2012-05-27T00:00:00",
          "2012-05-28T00:00:00",
          "2012-05-29T00:00:00",
          "2012-05-30T00:00:00",
          "2012-05-31T00:00:00",
          "2012-06-01T00:00:00",
          "2012-06-02T00:00:00",
          "2012-06-03T00:00:00",
          "2012-06-04T00:00:00",
          "2012-06-05T00:00:00",
          "2012-06-06T00:00:00",
          "2012-06-07T00:00:00",
          "2012-06-08T00:00:00",
          "2012-06-09T00:00:00",
          "2012-06-10T00:00:00",
          "2012-06-11T00:00:00",
          "2012-06-12T00:00:00",
          "2012-06-13T00:00:00",
          "2012-06-14T00:00:00",
          "2012-06-15T00:00:00",
          "2012-06-16T00:00:00",
          "2012-06-17T00:00:00",
          "2012-06-18T00:00:00",
          "2012-06-19T00:00:00",
          "2012-06-20T00:00:00",
          "2012-06-21T00:00:00",
          "2012-06-22T00:00:00",
          "2012-06-23T00:00:00",
          "2012-06-24T00:00:00",
          "2012-06-25T00:00:00",
          "2012-06-26T00:00:00",
          "2012-06-27T00:00:00",
          "2012-06-28T00:00:00",
          "2012-06-29T00:00:00",
          "2012-06-30T00:00:00",
          "2012-07-01T00:00:00",
          "2012-07-02T00:00:00",
          "2012-07-03T00:00:00",
          "2012-07-04T00:00:00",
          "2012-07-05T00:00:00",
          "2012-07-06T00:00:00",
          "2012-07-07T00:00:00",
          "2012-07-08T00:00:00",
          "2012-07-09T00:00:00",
          "2012-07-10T00:00:00",
          "2012-07-11T00:00:00",
          "2012-07-12T00:00:00",
          "2012-07-13T00:00:00",
          "2012-07-14T00:00:00",
          "2012-07-15T00:00:00",
          "2012-07-16T00:00:00",
          "2012-07-17T00:00:00",
          "2012-07-18T00:00:00",
          "2012-07-19T00:00:00",
          "2012-07-20T00:00:00",
          "2012-07-21T00:00:00",
          "2012-07-22T00:00:00",
          "2012-07-23T00:00:00",
          "2012-07-24T00:00:00",
          "2012-07-25T00:00:00",
          "2012-07-26T00:00:00",
          "2012-07-27T00:00:00",
          "2012-07-28T00:00:00",
          "2012-07-29T00:00:00",
          "2012-07-30T00:00:00",
          "2012-07-31T00:00:00",
          "2012-08-01T00:00:00",
          "2012-08-02T00:00:00",
          "2012-08-03T00:00:00",
          "2012-08-04T00:00:00",
          "2012-08-05T00:00:00",
          "2012-08-06T00:00:00",
          "2012-08-07T00:00:00",
          "2012-08-08T00:00:00",
          "2012-08-09T00:00:00",
          "2012-08-10T00:00:00",
          "2012-08-11T00:00:00",
          "2012-08-12T00:00:00",
          "2012-08-13T00:00:00",
          "2012-08-14T00:00:00",
          "2012-08-15T00:00:00",
          "2012-08-16T00:00:00",
          "2012-08-17T00:00:00",
          "2012-08-18T00:00:00",
          "2012-08-19T00:00:00",
          "2012-08-20T00:00:00",
          "2012-08-21T00:00:00",
          "2012-08-22T00:00:00",
          "2012-08-23T00:00:00",
          "2012-08-24T00:00:00",
          "2012-08-25T00:00:00",
          "2012-08-26T00:00:00",
          "2012-08-27T00:00:00",
          "2012-08-28T00:00:00",
          "2012-08-29T00:00:00",
          "2012-08-30T00:00:00",
          "2012-08-31T00:00:00",
          "2012-09-01T00:00:00",
          "2012-09-02T00:00:00",
          "2012-09-03T00:00:00",
          "2012-09-04T00:00:00",
          "2012-09-05T00:00:00",
          "2012-09-06T00:00:00",
          "2012-09-07T00:00:00",
          "2012-09-08T00:00:00",
          "2012-09-09T00:00:00",
          "2012-09-10T00:00:00",
          "2012-09-11T00:00:00",
          "2012-09-12T00:00:00",
          "2012-09-13T00:00:00",
          "2012-09-14T00:00:00",
          "2012-09-15T00:00:00",
          "2012-09-16T00:00:00",
          "2012-09-17T00:00:00",
          "2012-09-18T00:00:00",
          "2012-09-19T00:00:00",
          "2012-09-20T00:00:00",
          "2012-09-21T00:00:00",
          "2012-09-22T00:00:00",
          "2012-09-23T00:00:00",
          "2012-09-24T00:00:00",
          "2012-09-25T00:00:00",
          "2012-09-26T00:00:00",
          "2012-09-27T00:00:00",
          "2012-09-28T00:00:00",
          "2012-09-29T00:00:00",
          "2012-09-30T00:00:00",
          "2012-10-01T00:00:00",
          "2012-10-02T00:00:00",
          "2012-10-03T00:00:00",
          "2012-10-04T00:00:00",
          "2012-10-05T00:00:00",
          "2012-10-06T00:00:00",
          "2012-10-07T00:00:00",
          "2012-10-08T00:00:00",
          "2012-10-09T00:00:00",
          "2012-10-10T00:00:00",
          "2012-10-11T00:00:00",
          "2012-10-12T00:00:00",
          "2012-10-13T00:00:00",
          "2012-10-14T00:00:00",
          "2012-10-15T00:00:00",
          "2012-10-16T00:00:00",
          "2012-10-17T00:00:00",
          "2012-10-18T00:00:00",
          "2012-10-19T00:00:00",
          "2012-10-20T00:00:00",
          "2012-10-21T00:00:00",
          "2012-10-22T00:00:00",
          "2012-10-23T00:00:00",
          "2012-10-24T00:00:00",
          "2012-10-25T00:00:00",
          "2012-10-26T00:00:00",
          "2012-10-27T00:00:00",
          "2012-10-28T00:00:00",
          "2012-10-29T00:00:00",
          "2012-10-30T00:00:00",
          "2012-10-31T00:00:00",
          "2012-11-01T00:00:00",
          "2012-11-02T00:00:00",
          "2012-11-03T00:00:00",
          "2012-11-04T00:00:00",
          "2012-11-05T00:00:00",
          "2012-11-06T00:00:00",
          "2012-11-07T00:00:00",
          "2012-11-08T00:00:00",
          "2012-11-09T00:00:00",
          "2012-11-10T00:00:00",
          "2012-11-11T00:00:00",
          "2012-11-12T00:00:00",
          "2012-11-13T00:00:00",
          "2012-11-14T00:00:00",
          "2012-11-15T00:00:00",
          "2012-11-16T00:00:00",
          "2012-11-17T00:00:00",
          "2012-11-18T00:00:00",
          "2012-11-19T00:00:00",
          "2012-11-20T00:00:00",
          "2012-11-21T00:00:00",
          "2012-11-22T00:00:00",
          "2012-11-23T00:00:00",
          "2012-11-24T00:00:00",
          "2012-11-25T00:00:00",
          "2012-11-26T00:00:00",
          "2012-11-27T00:00:00",
          "2012-11-28T00:00:00",
          "2012-11-29T00:00:00",
          "2012-11-30T00:00:00",
          "2012-12-01T00:00:00",
          "2012-12-02T00:00:00",
          "2012-12-03T00:00:00",
          "2012-12-04T00:00:00",
          "2012-12-05T00:00:00",
          "2012-12-06T00:00:00",
          "2012-12-07T00:00:00",
          "2012-12-08T00:00:00",
          "2012-12-09T00:00:00",
          "2012-12-10T00:00:00",
          "2012-12-11T00:00:00",
          "2012-12-12T00:00:00",
          "2012-12-13T00:00:00",
          "2012-12-14T00:00:00",
          "2012-12-15T00:00:00",
          "2012-12-16T00:00:00",
          "2012-12-17T00:00:00",
          "2012-12-18T00:00:00",
          "2012-12-19T00:00:00",
          "2012-12-20T00:00:00",
          "2012-12-21T00:00:00",
          "2012-12-22T00:00:00",
          "2012-12-23T00:00:00",
          "2012-12-24T00:00:00",
          "2012-12-25T00:00:00",
          "2012-12-26T00:00:00",
          "2012-12-27T00:00:00",
          "2012-12-28T00:00:00",
          "2012-12-29T00:00:00",
          "2012-12-30T00:00:00",
          "2012-12-31T00:00:00",
          "2013-01-01T00:00:00",
          "2013-01-02T00:00:00",
          "2013-01-03T00:00:00",
          "2013-01-04T00:00:00",
          "2013-01-05T00:00:00",
          "2013-01-06T00:00:00",
          "2013-01-07T00:00:00",
          "2013-01-08T00:00:00",
          "2013-01-09T00:00:00",
          "2013-01-10T00:00:00",
          "2013-01-11T00:00:00",
          "2013-01-12T00:00:00",
          "2013-01-13T00:00:00",
          "2013-01-14T00:00:00",
          "2013-01-15T00:00:00",
          "2013-01-16T00:00:00",
          "2013-01-17T00:00:00",
          "2013-01-18T00:00:00",
          "2013-01-19T00:00:00",
          "2013-01-20T00:00:00",
          "2013-01-21T00:00:00",
          "2013-01-22T00:00:00",
          "2013-01-23T00:00:00",
          "2013-01-24T00:00:00",
          "2013-01-25T00:00:00",
          "2013-01-26T00:00:00",
          "2013-01-27T00:00:00",
          "2013-01-28T00:00:00",
          "2013-01-29T00:00:00",
          "2013-01-30T00:00:00",
          "2013-01-31T00:00:00",
          "2013-02-01T00:00:00",
          "2013-02-02T00:00:00",
          "2013-02-03T00:00:00",
          "2013-02-04T00:00:00",
          "2013-02-05T00:00:00",
          "2013-02-06T00:00:00",
          "2013-02-07T00:00:00",
          "2013-02-08T00:00:00",
          "2013-02-09T00:00:00",
          "2013-02-10T00:00:00",
          "2013-02-11T00:00:00",
          "2013-02-12T00:00:00",
          "2013-02-13T00:00:00",
          "2013-02-14T00:00:00",
          "2013-02-15T00:00:00",
          "2013-02-16T00:00:00",
          "2013-02-17T00:00:00",
          "2013-02-18T00:00:00",
          "2013-02-19T00:00:00",
          "2013-02-20T00:00:00",
          "2013-02-21T00:00:00",
          "2013-02-22T00:00:00",
          "2013-02-23T00:00:00",
          "2013-02-24T00:00:00",
          "2013-02-25T00:00:00",
          "2013-02-26T00:00:00",
          "2013-02-27T00:00:00",
          "2013-02-28T00:00:00",
          "2013-03-01T00:00:00",
          "2013-03-02T00:00:00",
          "2013-03-03T00:00:00",
          "2013-03-04T00:00:00",
          "2013-03-05T00:00:00",
          "2013-03-06T00:00:00",
          "2013-03-07T00:00:00",
          "2013-03-08T00:00:00",
          "2013-03-09T00:00:00",
          "2013-03-10T00:00:00",
          "2013-03-11T00:00:00",
          "2013-03-12T00:00:00",
          "2013-03-13T00:00:00",
          "2013-03-14T00:00:00",
          "2013-03-15T00:00:00",
          "2013-03-16T00:00:00",
          "2013-03-17T00:00:00",
          "2013-03-18T00:00:00",
          "2013-03-19T00:00:00",
          "2013-03-20T00:00:00",
          "2013-03-21T00:00:00",
          "2013-03-22T00:00:00",
          "2013-03-23T00:00:00",
          "2013-03-24T00:00:00",
          "2013-03-25T00:00:00",
          "2013-03-26T00:00:00",
          "2013-03-27T00:00:00",
          "2013-03-28T00:00:00",
          "2013-03-29T00:00:00",
          "2013-03-30T00:00:00",
          "2013-03-31T00:00:00",
          "2013-04-01T00:00:00",
          "2013-04-02T00:00:00",
          "2013-04-03T00:00:00",
          "2013-04-04T00:00:00",
          "2013-04-05T00:00:00",
          "2013-04-06T00:00:00",
          "2013-04-07T00:00:00",
          "2013-04-08T00:00:00",
          "2013-04-09T00:00:00",
          "2013-04-10T00:00:00",
          "2013-04-11T00:00:00",
          "2013-04-12T00:00:00",
          "2013-04-13T00:00:00",
          "2013-04-14T00:00:00",
          "2013-04-15T00:00:00",
          "2013-04-16T00:00:00",
          "2013-04-17T00:00:00",
          "2013-04-18T00:00:00",
          "2013-04-19T00:00:00",
          "2013-04-20T00:00:00",
          "2013-04-21T00:00:00",
          "2013-04-22T00:00:00",
          "2013-04-23T00:00:00",
          "2013-04-24T00:00:00",
          "2013-04-25T00:00:00",
          "2013-04-26T00:00:00",
          "2013-04-27T00:00:00",
          "2013-04-28T00:00:00",
          "2013-04-29T00:00:00",
          "2013-04-30T00:00:00",
          "2013-05-01T00:00:00",
          "2013-05-02T00:00:00",
          "2013-05-03T00:00:00",
          "2013-05-04T00:00:00",
          "2013-05-05T00:00:00",
          "2013-05-06T00:00:00",
          "2013-05-07T00:00:00",
          "2013-05-08T00:00:00",
          "2013-05-09T00:00:00",
          "2013-05-10T00:00:00",
          "2013-05-11T00:00:00",
          "2013-05-12T00:00:00",
          "2013-05-13T00:00:00",
          "2013-05-14T00:00:00",
          "2013-05-15T00:00:00",
          "2013-05-16T00:00:00",
          "2013-05-17T00:00:00",
          "2013-05-18T00:00:00",
          "2013-05-19T00:00:00",
          "2013-05-20T00:00:00",
          "2013-05-21T00:00:00",
          "2013-05-22T00:00:00",
          "2013-05-23T00:00:00",
          "2013-05-24T00:00:00",
          "2013-05-25T00:00:00",
          "2013-05-26T00:00:00",
          "2013-05-27T00:00:00",
          "2013-05-28T00:00:00",
          "2013-05-29T00:00:00",
          "2013-05-30T00:00:00",
          "2013-05-31T00:00:00",
          "2013-06-01T00:00:00",
          "2013-06-02T00:00:00",
          "2013-06-03T00:00:00",
          "2013-06-04T00:00:00",
          "2013-06-05T00:00:00",
          "2013-06-06T00:00:00",
          "2013-06-07T00:00:00",
          "2013-06-08T00:00:00",
          "2013-06-09T00:00:00",
          "2013-06-10T00:00:00",
          "2013-06-11T00:00:00",
          "2013-06-12T00:00:00",
          "2013-06-13T00:00:00",
          "2013-06-14T00:00:00",
          "2013-06-15T00:00:00",
          "2013-06-16T00:00:00",
          "2013-06-17T00:00:00",
          "2013-06-18T00:00:00",
          "2013-06-19T00:00:00",
          "2013-06-20T00:00:00",
          "2013-06-21T00:00:00",
          "2013-06-22T00:00:00",
          "2013-06-23T00:00:00",
          "2013-06-24T00:00:00",
          "2013-06-25T00:00:00",
          "2013-06-26T00:00:00",
          "2013-06-27T00:00:00",
          "2013-06-28T00:00:00",
          "2013-06-29T00:00:00",
          "2013-06-30T00:00:00",
          "2013-07-01T00:00:00",
          "2013-07-02T00:00:00",
          "2013-07-03T00:00:00",
          "2013-07-04T00:00:00",
          "2013-07-05T00:00:00",
          "2013-07-06T00:00:00",
          "2013-07-07T00:00:00",
          "2013-07-08T00:00:00",
          "2013-07-09T00:00:00",
          "2013-07-10T00:00:00",
          "2013-07-11T00:00:00",
          "2013-07-12T00:00:00",
          "2013-07-13T00:00:00",
          "2013-07-14T00:00:00",
          "2013-07-15T00:00:00",
          "2013-07-16T00:00:00",
          "2013-07-17T00:00:00",
          "2013-07-18T00:00:00",
          "2013-07-19T00:00:00",
          "2013-07-20T00:00:00",
          "2013-07-21T00:00:00",
          "2013-07-22T00:00:00",
          "2013-07-23T00:00:00",
          "2013-07-24T00:00:00",
          "2013-07-25T00:00:00",
          "2013-07-26T00:00:00",
          "2013-07-27T00:00:00",
          "2013-07-28T00:00:00",
          "2013-07-29T00:00:00",
          "2013-07-30T00:00:00",
          "2013-07-31T00:00:00",
          "2013-08-01T00:00:00",
          "2013-08-02T00:00:00",
          "2013-08-03T00:00:00",
          "2013-08-04T00:00:00",
          "2013-08-05T00:00:00",
          "2013-08-06T00:00:00",
          "2013-08-07T00:00:00",
          "2013-08-08T00:00:00",
          "2013-08-09T00:00:00",
          "2013-08-10T00:00:00",
          "2013-08-11T00:00:00",
          "2013-08-12T00:00:00",
          "2013-08-13T00:00:00",
          "2013-08-14T00:00:00",
          "2013-08-15T00:00:00",
          "2013-08-16T00:00:00",
          "2013-08-17T00:00:00",
          "2013-08-18T00:00:00",
          "2013-08-19T00:00:00",
          "2013-08-20T00:00:00",
          "2013-08-21T00:00:00",
          "2013-08-22T00:00:00",
          "2013-08-23T00:00:00",
          "2013-08-24T00:00:00",
          "2013-08-25T00:00:00",
          "2013-08-26T00:00:00",
          "2013-08-27T00:00:00",
          "2013-08-28T00:00:00",
          "2013-08-29T00:00:00",
          "2013-08-30T00:00:00",
          "2013-08-31T00:00:00",
          "2013-09-01T00:00:00",
          "2013-09-02T00:00:00",
          "2013-09-03T00:00:00",
          "2013-09-04T00:00:00",
          "2013-09-05T00:00:00",
          "2013-09-06T00:00:00",
          "2013-09-07T00:00:00",
          "2013-09-08T00:00:00",
          "2013-09-09T00:00:00",
          "2013-09-10T00:00:00",
          "2013-09-11T00:00:00",
          "2013-09-12T00:00:00",
          "2013-09-13T00:00:00",
          "2013-09-14T00:00:00",
          "2013-09-15T00:00:00",
          "2013-09-16T00:00:00",
          "2013-09-17T00:00:00",
          "2013-09-18T00:00:00",
          "2013-09-19T00:00:00",
          "2013-09-20T00:00:00",
          "2013-09-21T00:00:00",
          "2013-09-22T00:00:00",
          "2013-09-23T00:00:00",
          "2013-09-24T00:00:00",
          "2013-09-25T00:00:00",
          "2013-09-26T00:00:00",
          "2013-09-27T00:00:00",
          "2013-09-28T00:00:00",
          "2013-09-29T00:00:00",
          "2013-09-30T00:00:00",
          "2013-10-01T00:00:00",
          "2013-10-02T00:00:00",
          "2013-10-03T00:00:00",
          "2013-10-04T00:00:00",
          "2013-10-05T00:00:00",
          "2013-10-06T00:00:00",
          "2013-10-07T00:00:00",
          "2013-10-08T00:00:00",
          "2013-10-09T00:00:00",
          "2013-10-10T00:00:00",
          "2013-10-11T00:00:00",
          "2013-10-12T00:00:00",
          "2013-10-13T00:00:00",
          "2013-10-14T00:00:00",
          "2013-10-15T00:00:00",
          "2013-10-16T00:00:00",
          "2013-10-17T00:00:00",
          "2013-10-18T00:00:00",
          "2013-10-19T00:00:00",
          "2013-10-20T00:00:00",
          "2013-10-21T00:00:00",
          "2013-10-22T00:00:00",
          "2013-10-23T00:00:00",
          "2013-10-24T00:00:00",
          "2013-10-25T00:00:00",
          "2013-10-26T00:00:00",
          "2013-10-27T00:00:00",
          "2013-10-28T00:00:00",
          "2013-10-29T00:00:00",
          "2013-10-30T00:00:00",
          "2013-10-31T00:00:00",
          "2013-11-01T00:00:00",
          "2013-11-02T00:00:00",
          "2013-11-03T00:00:00",
          "2013-11-04T00:00:00",
          "2013-11-05T00:00:00",
          "2013-11-06T00:00:00",
          "2013-11-07T00:00:00",
          "2013-11-08T00:00:00",
          "2013-11-09T00:00:00",
          "2013-11-10T00:00:00",
          "2013-11-11T00:00:00",
          "2013-11-12T00:00:00",
          "2013-11-13T00:00:00",
          "2013-11-14T00:00:00",
          "2013-11-15T00:00:00",
          "2013-11-16T00:00:00",
          "2013-11-17T00:00:00",
          "2013-11-18T00:00:00",
          "2013-11-19T00:00:00",
          "2013-11-20T00:00:00",
          "2013-11-21T00:00:00",
          "2013-11-22T00:00:00",
          "2013-11-23T00:00:00",
          "2013-11-24T00:00:00",
          "2013-11-25T00:00:00",
          "2013-11-26T00:00:00",
          "2013-11-27T00:00:00",
          "2013-11-28T00:00:00",
          "2013-11-29T00:00:00",
          "2013-11-30T00:00:00",
          "2013-12-01T00:00:00",
          "2013-12-02T00:00:00",
          "2013-12-03T00:00:00",
          "2013-12-04T00:00:00",
          "2013-12-05T00:00:00",
          "2013-12-06T00:00:00",
          "2013-12-07T00:00:00",
          "2013-12-08T00:00:00",
          "2013-12-09T00:00:00",
          "2013-12-10T00:00:00",
          "2013-12-11T00:00:00",
          "2013-12-12T00:00:00",
          "2013-12-13T00:00:00",
          "2013-12-14T00:00:00",
          "2013-12-15T00:00:00",
          "2013-12-16T00:00:00",
          "2013-12-17T00:00:00",
          "2013-12-18T00:00:00",
          "2013-12-19T00:00:00",
          "2013-12-20T00:00:00",
          "2013-12-21T00:00:00",
          "2013-12-22T00:00:00",
          "2013-12-23T00:00:00",
          "2013-12-24T00:00:00",
          "2013-12-25T00:00:00",
          "2013-12-26T00:00:00",
          "2013-12-27T00:00:00",
          "2013-12-28T00:00:00",
          "2013-12-29T00:00:00",
          "2013-12-30T00:00:00",
          "2013-12-31T00:00:00",
          "2014-01-01T00:00:00",
          "2014-01-02T00:00:00",
          "2014-01-03T00:00:00",
          "2014-01-04T00:00:00",
          "2014-01-05T00:00:00",
          "2014-01-06T00:00:00",
          "2014-01-07T00:00:00",
          "2014-01-08T00:00:00",
          "2014-01-09T00:00:00",
          "2014-01-10T00:00:00",
          "2014-01-11T00:00:00",
          "2014-01-12T00:00:00",
          "2014-01-13T00:00:00",
          "2014-01-14T00:00:00",
          "2014-01-15T00:00:00",
          "2014-01-16T00:00:00",
          "2014-01-17T00:00:00",
          "2014-01-18T00:00:00",
          "2014-01-19T00:00:00",
          "2014-01-20T00:00:00",
          "2014-01-21T00:00:00",
          "2014-01-22T00:00:00",
          "2014-01-23T00:00:00",
          "2014-01-24T00:00:00",
          "2014-01-25T00:00:00",
          "2014-01-26T00:00:00",
          "2014-01-27T00:00:00",
          "2014-01-28T00:00:00",
          "2014-01-29T00:00:00",
          "2014-01-30T00:00:00",
          "2014-01-31T00:00:00",
          "2014-02-01T00:00:00",
          "2014-02-02T00:00:00",
          "2014-02-03T00:00:00",
          "2014-02-04T00:00:00",
          "2014-02-05T00:00:00",
          "2014-02-06T00:00:00",
          "2014-02-07T00:00:00",
          "2014-02-08T00:00:00",
          "2014-02-09T00:00:00",
          "2014-02-10T00:00:00",
          "2014-02-11T00:00:00",
          "2014-02-12T00:00:00",
          "2014-02-13T00:00:00",
          "2014-02-14T00:00:00",
          "2014-02-15T00:00:00",
          "2014-02-16T00:00:00",
          "2014-02-17T00:00:00",
          "2014-02-18T00:00:00",
          "2014-02-19T00:00:00",
          "2014-02-20T00:00:00",
          "2014-02-21T00:00:00",
          "2014-02-22T00:00:00",
          "2014-02-23T00:00:00",
          "2014-02-24T00:00:00",
          "2014-02-25T00:00:00",
          "2014-02-26T00:00:00",
          "2014-02-27T00:00:00",
          "2014-02-28T00:00:00"
         ],
         "xaxis": "x",
         "y": [
          0.9930134832473289,
          1.0014326377677953,
          0.9975409645523156,
          0.9911794427872926,
          0.9886785826725231,
          0.9877118108397653,
          0.9929176185446084,
          1.0073098265788034,
          1.0141043599227553,
          0.9947933813822495,
          0.9977299066483267,
          0.9953684619170112,
          1.006936623791188,
          1.0067685766997772,
          1.00678271015497,
          1.0069160613371955,
          0.997590105755181,
          1.0005667237408822,
          1.0050417481533924,
          0.9935212405295758,
          0.9863407753169573,
          0.9956102362613464,
          0.9982542824951538,
          1.000026372710236,
          1.0111786561594547,
          1.00883428955024,
          1.0102075231297247,
          0.998762383421512,
          1.005392879450905,
          0.9994883344815377,
          0.9930134832473289,
          1.0014326377677953,
          0.9975409645523156,
          0.9911794427872926,
          0.9886785826725231,
          0.9877118108397653,
          0.9929176185446084,
          1.0073098265788034,
          1.0141043599227553,
          0.9947933813822495,
          0.9977299066483267,
          0.9953684619170112,
          1.006936623791188,
          1.0067685766997772,
          1.00678271015497,
          1.0069160613371955,
          0.997590105755181,
          1.0005667237408822,
          1.0050417481533924,
          0.9935212405295758,
          0.9863407753169573,
          0.9956102362613464,
          0.9982542824951538,
          1.000026372710236,
          1.0111786561594547,
          1.00883428955024,
          1.0102075231297247,
          0.998762383421512,
          1.005392879450905,
          0.9994883344815377,
          0.9930134832473289,
          1.0014326377677953,
          0.9975409645523156,
          0.9911794427872926,
          0.9886785826725231,
          0.9877118108397653,
          0.9929176185446084,
          1.0073098265788034,
          1.0141043599227553,
          0.9947933813822495,
          0.9977299066483267,
          0.9953684619170112,
          1.006936623791188,
          1.0067685766997772,
          1.00678271015497,
          1.0069160613371955,
          0.997590105755181,
          1.0005667237408822,
          1.0050417481533924,
          0.9935212405295758,
          0.9863407753169573,
          0.9956102362613464,
          0.9982542824951538,
          1.000026372710236,
          1.0111786561594547,
          1.00883428955024,
          1.0102075231297247,
          0.998762383421512,
          1.005392879450905,
          0.9994883344815377,
          0.9930134832473289,
          1.0014326377677953,
          0.9975409645523156,
          0.9911794427872926,
          0.9886785826725231,
          0.9877118108397653,
          0.9929176185446084,
          1.0073098265788034,
          1.0141043599227553,
          0.9947933813822495,
          0.9977299066483267,
          0.9953684619170112,
          1.006936623791188,
          1.0067685766997772,
          1.00678271015497,
          1.0069160613371955,
          0.997590105755181,
          1.0005667237408822,
          1.0050417481533924,
          0.9935212405295758,
          0.9863407753169573,
          0.9956102362613464,
          0.9982542824951538,
          1.000026372710236,
          1.0111786561594547,
          1.00883428955024,
          1.0102075231297247,
          0.998762383421512,
          1.005392879450905,
          0.9994883344815377,
          0.9930134832473289,
          1.0014326377677953,
          0.9975409645523156,
          0.9911794427872926,
          0.9886785826725231,
          0.9877118108397653,
          0.9929176185446084,
          1.0073098265788034,
          1.0141043599227553,
          0.9947933813822495,
          0.9977299066483267,
          0.9953684619170112,
          1.006936623791188,
          1.0067685766997772,
          1.00678271015497,
          1.0069160613371955,
          0.997590105755181,
          1.0005667237408822,
          1.0050417481533924,
          0.9935212405295758,
          0.9863407753169573,
          0.9956102362613464,
          0.9982542824951538,
          1.000026372710236,
          1.0111786561594547,
          1.00883428955024,
          1.0102075231297247,
          0.998762383421512,
          1.005392879450905,
          0.9994883344815377,
          0.9930134832473289,
          1.0014326377677953,
          0.9975409645523156,
          0.9911794427872926,
          0.9886785826725231,
          0.9877118108397653,
          0.9929176185446084,
          1.0073098265788034,
          1.0141043599227553,
          0.9947933813822495,
          0.9977299066483267,
          0.9953684619170112,
          1.006936623791188,
          1.0067685766997772,
          1.00678271015497,
          1.0069160613371955,
          0.997590105755181,
          1.0005667237408822,
          1.0050417481533924,
          0.9935212405295758,
          0.9863407753169573,
          0.9956102362613464,
          0.9982542824951538,
          1.000026372710236,
          1.0111786561594547,
          1.00883428955024,
          1.0102075231297247,
          0.998762383421512,
          1.005392879450905,
          0.9994883344815377,
          0.9930134832473289,
          1.0014326377677953,
          0.9975409645523156,
          0.9911794427872926,
          0.9886785826725231,
          0.9877118108397653,
          0.9929176185446084,
          1.0073098265788034,
          1.0141043599227553,
          0.9947933813822495,
          0.9977299066483267,
          0.9953684619170112,
          1.006936623791188,
          1.0067685766997772,
          1.00678271015497,
          1.0069160613371955,
          0.997590105755181,
          1.0005667237408822,
          1.0050417481533924,
          0.9935212405295758,
          0.9863407753169573,
          0.9956102362613464,
          0.9982542824951538,
          1.000026372710236,
          1.0111786561594547,
          1.00883428955024,
          1.0102075231297247,
          0.998762383421512,
          1.005392879450905,
          0.9994883344815377,
          0.9930134832473289,
          1.0014326377677953,
          0.9975409645523156,
          0.9911794427872926,
          0.9886785826725231,
          0.9877118108397653,
          0.9929176185446084,
          1.0073098265788034,
          1.0141043599227553,
          0.9947933813822495,
          0.9977299066483267,
          0.9953684619170112,
          1.006936623791188,
          1.0067685766997772,
          1.00678271015497,
          1.0069160613371955,
          0.997590105755181,
          1.0005667237408822,
          1.0050417481533924,
          0.9935212405295758,
          0.9863407753169573,
          0.9956102362613464,
          0.9982542824951538,
          1.000026372710236,
          1.0111786561594547,
          1.00883428955024,
          1.0102075231297247,
          0.998762383421512,
          1.005392879450905,
          0.9994883344815377,
          0.9930134832473289,
          1.0014326377677953,
          0.9975409645523156,
          0.9911794427872926,
          0.9886785826725231,
          0.9877118108397653,
          0.9929176185446084,
          1.0073098265788034,
          1.0141043599227553,
          0.9947933813822495,
          0.9977299066483267,
          0.9953684619170112,
          1.006936623791188,
          1.0067685766997772,
          1.00678271015497,
          1.0069160613371955,
          0.997590105755181,
          1.0005667237408822,
          1.0050417481533924,
          0.9935212405295758,
          0.9863407753169573,
          0.9956102362613464,
          0.9982542824951538,
          1.000026372710236,
          1.0111786561594547,
          1.00883428955024,
          1.0102075231297247,
          0.998762383421512,
          1.005392879450905,
          0.9994883344815377,
          0.9930134832473289,
          1.0014326377677953,
          0.9975409645523156,
          0.9911794427872926,
          0.9886785826725231,
          0.9877118108397653,
          0.9929176185446084,
          1.0073098265788034,
          1.0141043599227553,
          0.9947933813822495,
          0.9977299066483267,
          0.9953684619170112,
          1.006936623791188,
          1.0067685766997772,
          1.00678271015497,
          1.0069160613371955,
          0.997590105755181,
          1.0005667237408822,
          1.0050417481533924,
          0.9935212405295758,
          0.9863407753169573,
          0.9956102362613464,
          0.9982542824951538,
          1.000026372710236,
          1.0111786561594547,
          1.00883428955024,
          1.0102075231297247,
          0.998762383421512,
          1.005392879450905,
          0.9994883344815377,
          0.9930134832473289,
          1.0014326377677953,
          0.9975409645523156,
          0.9911794427872926,
          0.9886785826725231,
          0.9877118108397653,
          0.9929176185446084,
          1.0073098265788034,
          1.0141043599227553,
          0.9947933813822495,
          0.9977299066483267,
          0.9953684619170112,
          1.006936623791188,
          1.0067685766997772,
          1.00678271015497,
          1.0069160613371955,
          0.997590105755181,
          1.0005667237408822,
          1.0050417481533924,
          0.9935212405295758,
          0.9863407753169573,
          0.9956102362613464,
          0.9982542824951538,
          1.000026372710236,
          1.0111786561594547,
          1.00883428955024,
          1.0102075231297247,
          0.998762383421512,
          1.005392879450905,
          0.9994883344815377,
          0.9930134832473289,
          1.0014326377677953,
          0.9975409645523156,
          0.9911794427872926,
          0.9886785826725231,
          0.9877118108397653,
          0.9929176185446084,
          1.0073098265788034,
          1.0141043599227553,
          0.9947933813822495,
          0.9977299066483267,
          0.9953684619170112,
          1.006936623791188,
          1.0067685766997772,
          1.00678271015497,
          1.0069160613371955,
          0.997590105755181,
          1.0005667237408822,
          1.0050417481533924,
          0.9935212405295758,
          0.9863407753169573,
          0.9956102362613464,
          0.9982542824951538,
          1.000026372710236,
          1.0111786561594547,
          1.00883428955024,
          1.0102075231297247,
          0.998762383421512,
          1.005392879450905,
          0.9994883344815377,
          0.9930134832473289,
          1.0014326377677953,
          0.9975409645523156,
          0.9911794427872926,
          0.9886785826725231,
          0.9877118108397653,
          0.9929176185446084,
          1.0073098265788034,
          1.0141043599227553,
          0.9947933813822495,
          0.9977299066483267,
          0.9953684619170112,
          1.006936623791188,
          1.0067685766997772,
          1.00678271015497,
          1.0069160613371955,
          0.997590105755181,
          1.0005667237408822,
          1.0050417481533924,
          0.9935212405295758,
          0.9863407753169573,
          0.9956102362613464,
          0.9982542824951538,
          1.000026372710236,
          1.0111786561594547,
          1.00883428955024,
          1.0102075231297247,
          0.998762383421512,
          1.005392879450905,
          0.9994883344815377,
          0.9930134832473289,
          1.0014326377677953,
          0.9975409645523156,
          0.9911794427872926,
          0.9886785826725231,
          0.9877118108397653,
          0.9929176185446084,
          1.0073098265788034,
          1.0141043599227553,
          0.9947933813822495,
          0.9977299066483267,
          0.9953684619170112,
          1.006936623791188,
          1.0067685766997772,
          1.00678271015497,
          1.0069160613371955,
          0.997590105755181,
          1.0005667237408822,
          1.0050417481533924,
          0.9935212405295758,
          0.9863407753169573,
          0.9956102362613464,
          0.9982542824951538,
          1.000026372710236,
          1.0111786561594547,
          1.00883428955024,
          1.0102075231297247,
          0.998762383421512,
          1.005392879450905,
          0.9994883344815377,
          0.9930134832473289,
          1.0014326377677953,
          0.9975409645523156,
          0.9911794427872926,
          0.9886785826725231,
          0.9877118108397653,
          0.9929176185446084,
          1.0073098265788034,
          1.0141043599227553,
          0.9947933813822495,
          0.9977299066483267,
          0.9953684619170112,
          1.006936623791188,
          1.0067685766997772,
          1.00678271015497,
          1.0069160613371955,
          0.997590105755181,
          1.0005667237408822,
          1.0050417481533924,
          0.9935212405295758,
          0.9863407753169573,
          0.9956102362613464,
          0.9982542824951538,
          1.000026372710236,
          1.0111786561594547,
          1.00883428955024,
          1.0102075231297247,
          0.998762383421512,
          1.005392879450905,
          0.9994883344815377,
          0.9930134832473289,
          1.0014326377677953,
          0.9975409645523156,
          0.9911794427872926,
          0.9886785826725231,
          0.9877118108397653,
          0.9929176185446084,
          1.0073098265788034,
          1.0141043599227553,
          0.9947933813822495,
          0.9977299066483267,
          0.9953684619170112,
          1.006936623791188,
          1.0067685766997772,
          1.00678271015497,
          1.0069160613371955,
          0.997590105755181,
          1.0005667237408822,
          1.0050417481533924,
          0.9935212405295758,
          0.9863407753169573,
          0.9956102362613464,
          0.9982542824951538,
          1.000026372710236,
          1.0111786561594547,
          1.00883428955024,
          1.0102075231297247,
          0.998762383421512,
          1.005392879450905,
          0.9994883344815377,
          0.9930134832473289,
          1.0014326377677953,
          0.9975409645523156,
          0.9911794427872926,
          0.9886785826725231,
          0.9877118108397653,
          0.9929176185446084,
          1.0073098265788034,
          1.0141043599227553,
          0.9947933813822495,
          0.9977299066483267,
          0.9953684619170112,
          1.006936623791188,
          1.0067685766997772,
          1.00678271015497,
          1.0069160613371955,
          0.997590105755181,
          1.0005667237408822,
          1.0050417481533924,
          0.9935212405295758,
          0.9863407753169573,
          0.9956102362613464,
          0.9982542824951538,
          1.000026372710236,
          1.0111786561594547,
          1.00883428955024,
          1.0102075231297247,
          0.998762383421512,
          1.005392879450905,
          0.9994883344815377,
          0.9930134832473289,
          1.0014326377677953,
          0.9975409645523156,
          0.9911794427872926,
          0.9886785826725231,
          0.9877118108397653,
          0.9929176185446084,
          1.0073098265788034,
          1.0141043599227553,
          0.9947933813822495,
          0.9977299066483267,
          0.9953684619170112,
          1.006936623791188,
          1.0067685766997772,
          1.00678271015497,
          1.0069160613371955,
          0.997590105755181,
          1.0005667237408822,
          1.0050417481533924,
          0.9935212405295758,
          0.9863407753169573,
          0.9956102362613464,
          0.9982542824951538,
          1.000026372710236,
          1.0111786561594547,
          1.00883428955024,
          1.0102075231297247,
          0.998762383421512,
          1.005392879450905,
          0.9994883344815377,
          0.9930134832473289,
          1.0014326377677953,
          0.9975409645523156,
          0.9911794427872926,
          0.9886785826725231,
          0.9877118108397653,
          0.9929176185446084,
          1.0073098265788034,
          1.0141043599227553,
          0.9947933813822495,
          0.9977299066483267,
          0.9953684619170112,
          1.006936623791188,
          1.0067685766997772,
          1.00678271015497,
          1.0069160613371955,
          0.997590105755181,
          1.0005667237408822,
          1.0050417481533924,
          0.9935212405295758,
          0.9863407753169573,
          0.9956102362613464,
          0.9982542824951538,
          1.000026372710236,
          1.0111786561594547,
          1.00883428955024,
          1.0102075231297247,
          0.998762383421512,
          1.005392879450905,
          0.9994883344815377,
          0.9930134832473289,
          1.0014326377677953,
          0.9975409645523156,
          0.9911794427872926,
          0.9886785826725231,
          0.9877118108397653,
          0.9929176185446084,
          1.0073098265788034,
          1.0141043599227553,
          0.9947933813822495,
          0.9977299066483267,
          0.9953684619170112,
          1.006936623791188,
          1.0067685766997772,
          1.00678271015497,
          1.0069160613371955,
          0.997590105755181,
          1.0005667237408822,
          1.0050417481533924,
          0.9935212405295758,
          0.9863407753169573,
          0.9956102362613464,
          0.9982542824951538,
          1.000026372710236,
          1.0111786561594547,
          1.00883428955024,
          1.0102075231297247,
          0.998762383421512,
          1.005392879450905,
          0.9994883344815377,
          0.9930134832473289,
          1.0014326377677953,
          0.9975409645523156,
          0.9911794427872926,
          0.9886785826725231,
          0.9877118108397653,
          0.9929176185446084,
          1.0073098265788034,
          1.0141043599227553,
          0.9947933813822495,
          0.9977299066483267,
          0.9953684619170112,
          1.006936623791188,
          1.0067685766997772,
          1.00678271015497,
          1.0069160613371955,
          0.997590105755181,
          1.0005667237408822,
          1.0050417481533924,
          0.9935212405295758,
          0.9863407753169573,
          0.9956102362613464,
          0.9982542824951538,
          1.000026372710236,
          1.0111786561594547,
          1.00883428955024,
          1.0102075231297247,
          0.998762383421512,
          1.005392879450905,
          0.9994883344815377,
          0.9930134832473289,
          1.0014326377677953,
          0.9975409645523156,
          0.9911794427872926,
          0.9886785826725231,
          0.9877118108397653,
          0.9929176185446084,
          1.0073098265788034,
          1.0141043599227553,
          0.9947933813822495,
          0.9977299066483267,
          0.9953684619170112,
          1.006936623791188,
          1.0067685766997772,
          1.00678271015497,
          1.0069160613371955,
          0.997590105755181,
          1.0005667237408822,
          1.0050417481533924,
          0.9935212405295758,
          0.9863407753169573,
          0.9956102362613464,
          0.9982542824951538,
          1.000026372710236,
          1.0111786561594547,
          1.00883428955024,
          1.0102075231297247,
          0.998762383421512,
          1.005392879450905,
          0.9994883344815377,
          0.9930134832473289,
          1.0014326377677953,
          0.9975409645523156,
          0.9911794427872926,
          0.9886785826725231,
          0.9877118108397653,
          0.9929176185446084,
          1.0073098265788034,
          1.0141043599227553,
          0.9947933813822495,
          0.9977299066483267,
          0.9953684619170112,
          1.006936623791188,
          1.0067685766997772,
          1.00678271015497,
          1.0069160613371955,
          0.997590105755181,
          1.0005667237408822,
          1.0050417481533924,
          0.9935212405295758,
          0.9863407753169573,
          0.9956102362613464,
          0.9982542824951538,
          1.000026372710236,
          1.0111786561594547,
          1.00883428955024,
          1.0102075231297247,
          0.998762383421512,
          1.005392879450905,
          0.9994883344815377,
          0.9930134832473289,
          1.0014326377677953,
          0.9975409645523156,
          0.9911794427872926,
          0.9886785826725231,
          0.9877118108397653,
          0.9929176185446084,
          1.0073098265788034,
          1.0141043599227553,
          0.9947933813822495,
          0.9977299066483267,
          0.9953684619170112,
          1.006936623791188,
          1.0067685766997772,
          1.00678271015497,
          1.0069160613371955,
          0.997590105755181,
          1.0005667237408822,
          1.0050417481533924,
          0.9935212405295758,
          0.9863407753169573,
          0.9956102362613464,
          0.9982542824951538,
          1.000026372710236,
          1.0111786561594547,
          1.00883428955024,
          1.0102075231297247,
          0.998762383421512,
          1.005392879450905,
          0.9994883344815377,
          0.9930134832473289,
          1.0014326377677953,
          0.9975409645523156,
          0.9911794427872926,
          0.9886785826725231,
          0.9877118108397653,
          0.9929176185446084,
          1.0073098265788034,
          1.0141043599227553,
          0.9947933813822495,
          0.9977299066483267,
          0.9953684619170112,
          1.006936623791188,
          1.0067685766997772,
          1.00678271015497,
          1.0069160613371955,
          0.997590105755181,
          1.0005667237408822,
          1.0050417481533924,
          0.9935212405295758,
          0.9863407753169573,
          0.9956102362613464,
          0.9982542824951538,
          1.000026372710236,
          1.0111786561594547,
          1.00883428955024,
          1.0102075231297247,
          0.998762383421512,
          1.005392879450905,
          0.9994883344815377,
          0.9930134832473289,
          1.0014326377677953,
          0.9975409645523156,
          0.9911794427872926,
          0.9886785826725231,
          0.9877118108397653,
          0.9929176185446084,
          1.0073098265788034,
          1.0141043599227553,
          0.9947933813822495,
          0.9977299066483267,
          0.9953684619170112,
          1.006936623791188,
          1.0067685766997772,
          1.00678271015497,
          1.0069160613371955,
          0.997590105755181,
          1.0005667237408822,
          1.0050417481533924,
          0.9935212405295758,
          0.9863407753169573,
          0.9956102362613464,
          0.9982542824951538,
          1.000026372710236,
          1.0111786561594547,
          1.00883428955024,
          1.0102075231297247,
          0.998762383421512,
          1.005392879450905,
          0.9994883344815377,
          0.9930134832473289,
          1.0014326377677953,
          0.9975409645523156,
          0.9911794427872926,
          0.9886785826725231,
          0.9877118108397653,
          0.9929176185446084,
          1.0073098265788034,
          1.0141043599227553,
          0.9947933813822495,
          0.9977299066483267,
          0.9953684619170112,
          1.006936623791188,
          1.0067685766997772,
          1.00678271015497,
          1.0069160613371955,
          0.997590105755181,
          1.0005667237408822,
          1.0050417481533924,
          0.9935212405295758,
          0.9863407753169573,
          0.9956102362613464,
          0.9982542824951538,
          1.000026372710236,
          1.0111786561594547,
          1.00883428955024,
          1.0102075231297247,
          0.998762383421512,
          1.005392879450905,
          0.9994883344815377,
          0.9930134832473289,
          1.0014326377677953,
          0.9975409645523156,
          0.9911794427872926,
          0.9886785826725231,
          0.9877118108397653,
          0.9929176185446084,
          1.0073098265788034,
          1.0141043599227553,
          0.9947933813822495,
          0.9977299066483267,
          0.9953684619170112,
          1.006936623791188,
          1.0067685766997772,
          1.00678271015497,
          1.0069160613371955,
          0.997590105755181,
          1.0005667237408822,
          1.0050417481533924
         ],
         "yaxis": "y"
        }
       ],
       "layout": {
        "legend": {
         "tracegroupgap": 0
        },
        "margin": {
         "t": 60
        },
        "template": {
         "data": {
          "bar": [
           {
            "error_x": {
             "color": "#2a3f5f"
            },
            "error_y": {
             "color": "#2a3f5f"
            },
            "marker": {
             "line": {
              "color": "#E5ECF6",
              "width": 0.5
             },
             "pattern": {
              "fillmode": "overlay",
              "size": 10,
              "solidity": 0.2
             }
            },
            "type": "bar"
           }
          ],
          "barpolar": [
           {
            "marker": {
             "line": {
              "color": "#E5ECF6",
              "width": 0.5
             },
             "pattern": {
              "fillmode": "overlay",
              "size": 10,
              "solidity": 0.2
             }
            },
            "type": "barpolar"
           }
          ],
          "carpet": [
           {
            "aaxis": {
             "endlinecolor": "#2a3f5f",
             "gridcolor": "white",
             "linecolor": "white",
             "minorgridcolor": "white",
             "startlinecolor": "#2a3f5f"
            },
            "baxis": {
             "endlinecolor": "#2a3f5f",
             "gridcolor": "white",
             "linecolor": "white",
             "minorgridcolor": "white",
             "startlinecolor": "#2a3f5f"
            },
            "type": "carpet"
           }
          ],
          "choropleth": [
           {
            "colorbar": {
             "outlinewidth": 0,
             "ticks": ""
            },
            "type": "choropleth"
           }
          ],
          "contour": [
           {
            "colorbar": {
             "outlinewidth": 0,
             "ticks": ""
            },
            "colorscale": [
             [
              0,
              "#0d0887"
             ],
             [
              0.1111111111111111,
              "#46039f"
             ],
             [
              0.2222222222222222,
              "#7201a8"
             ],
             [
              0.3333333333333333,
              "#9c179e"
             ],
             [
              0.4444444444444444,
              "#bd3786"
             ],
             [
              0.5555555555555556,
              "#d8576b"
             ],
             [
              0.6666666666666666,
              "#ed7953"
             ],
             [
              0.7777777777777778,
              "#fb9f3a"
             ],
             [
              0.8888888888888888,
              "#fdca26"
             ],
             [
              1,
              "#f0f921"
             ]
            ],
            "type": "contour"
           }
          ],
          "contourcarpet": [
           {
            "colorbar": {
             "outlinewidth": 0,
             "ticks": ""
            },
            "type": "contourcarpet"
           }
          ],
          "heatmap": [
           {
            "colorbar": {
             "outlinewidth": 0,
             "ticks": ""
            },
            "colorscale": [
             [
              0,
              "#0d0887"
             ],
             [
              0.1111111111111111,
              "#46039f"
             ],
             [
              0.2222222222222222,
              "#7201a8"
             ],
             [
              0.3333333333333333,
              "#9c179e"
             ],
             [
              0.4444444444444444,
              "#bd3786"
             ],
             [
              0.5555555555555556,
              "#d8576b"
             ],
             [
              0.6666666666666666,
              "#ed7953"
             ],
             [
              0.7777777777777778,
              "#fb9f3a"
             ],
             [
              0.8888888888888888,
              "#fdca26"
             ],
             [
              1,
              "#f0f921"
             ]
            ],
            "type": "heatmap"
           }
          ],
          "heatmapgl": [
           {
            "colorbar": {
             "outlinewidth": 0,
             "ticks": ""
            },
            "colorscale": [
             [
              0,
              "#0d0887"
             ],
             [
              0.1111111111111111,
              "#46039f"
             ],
             [
              0.2222222222222222,
              "#7201a8"
             ],
             [
              0.3333333333333333,
              "#9c179e"
             ],
             [
              0.4444444444444444,
              "#bd3786"
             ],
             [
              0.5555555555555556,
              "#d8576b"
             ],
             [
              0.6666666666666666,
              "#ed7953"
             ],
             [
              0.7777777777777778,
              "#fb9f3a"
             ],
             [
              0.8888888888888888,
              "#fdca26"
             ],
             [
              1,
              "#f0f921"
             ]
            ],
            "type": "heatmapgl"
           }
          ],
          "histogram": [
           {
            "marker": {
             "pattern": {
              "fillmode": "overlay",
              "size": 10,
              "solidity": 0.2
             }
            },
            "type": "histogram"
           }
          ],
          "histogram2d": [
           {
            "colorbar": {
             "outlinewidth": 0,
             "ticks": ""
            },
            "colorscale": [
             [
              0,
              "#0d0887"
             ],
             [
              0.1111111111111111,
              "#46039f"
             ],
             [
              0.2222222222222222,
              "#7201a8"
             ],
             [
              0.3333333333333333,
              "#9c179e"
             ],
             [
              0.4444444444444444,
              "#bd3786"
             ],
             [
              0.5555555555555556,
              "#d8576b"
             ],
             [
              0.6666666666666666,
              "#ed7953"
             ],
             [
              0.7777777777777778,
              "#fb9f3a"
             ],
             [
              0.8888888888888888,
              "#fdca26"
             ],
             [
              1,
              "#f0f921"
             ]
            ],
            "type": "histogram2d"
           }
          ],
          "histogram2dcontour": [
           {
            "colorbar": {
             "outlinewidth": 0,
             "ticks": ""
            },
            "colorscale": [
             [
              0,
              "#0d0887"
             ],
             [
              0.1111111111111111,
              "#46039f"
             ],
             [
              0.2222222222222222,
              "#7201a8"
             ],
             [
              0.3333333333333333,
              "#9c179e"
             ],
             [
              0.4444444444444444,
              "#bd3786"
             ],
             [
              0.5555555555555556,
              "#d8576b"
             ],
             [
              0.6666666666666666,
              "#ed7953"
             ],
             [
              0.7777777777777778,
              "#fb9f3a"
             ],
             [
              0.8888888888888888,
              "#fdca26"
             ],
             [
              1,
              "#f0f921"
             ]
            ],
            "type": "histogram2dcontour"
           }
          ],
          "mesh3d": [
           {
            "colorbar": {
             "outlinewidth": 0,
             "ticks": ""
            },
            "type": "mesh3d"
           }
          ],
          "parcoords": [
           {
            "line": {
             "colorbar": {
              "outlinewidth": 0,
              "ticks": ""
             }
            },
            "type": "parcoords"
           }
          ],
          "pie": [
           {
            "automargin": true,
            "type": "pie"
           }
          ],
          "scatter": [
           {
            "marker": {
             "colorbar": {
              "outlinewidth": 0,
              "ticks": ""
             }
            },
            "type": "scatter"
           }
          ],
          "scatter3d": [
           {
            "line": {
             "colorbar": {
              "outlinewidth": 0,
              "ticks": ""
             }
            },
            "marker": {
             "colorbar": {
              "outlinewidth": 0,
              "ticks": ""
             }
            },
            "type": "scatter3d"
           }
          ],
          "scattercarpet": [
           {
            "marker": {
             "colorbar": {
              "outlinewidth": 0,
              "ticks": ""
             }
            },
            "type": "scattercarpet"
           }
          ],
          "scattergeo": [
           {
            "marker": {
             "colorbar": {
              "outlinewidth": 0,
              "ticks": ""
             }
            },
            "type": "scattergeo"
           }
          ],
          "scattergl": [
           {
            "marker": {
             "colorbar": {
              "outlinewidth": 0,
              "ticks": ""
             }
            },
            "type": "scattergl"
           }
          ],
          "scattermapbox": [
           {
            "marker": {
             "colorbar": {
              "outlinewidth": 0,
              "ticks": ""
             }
            },
            "type": "scattermapbox"
           }
          ],
          "scatterpolar": [
           {
            "marker": {
             "colorbar": {
              "outlinewidth": 0,
              "ticks": ""
             }
            },
            "type": "scatterpolar"
           }
          ],
          "scatterpolargl": [
           {
            "marker": {
             "colorbar": {
              "outlinewidth": 0,
              "ticks": ""
             }
            },
            "type": "scatterpolargl"
           }
          ],
          "scatterternary": [
           {
            "marker": {
             "colorbar": {
              "outlinewidth": 0,
              "ticks": ""
             }
            },
            "type": "scatterternary"
           }
          ],
          "surface": [
           {
            "colorbar": {
             "outlinewidth": 0,
             "ticks": ""
            },
            "colorscale": [
             [
              0,
              "#0d0887"
             ],
             [
              0.1111111111111111,
              "#46039f"
             ],
             [
              0.2222222222222222,
              "#7201a8"
             ],
             [
              0.3333333333333333,
              "#9c179e"
             ],
             [
              0.4444444444444444,
              "#bd3786"
             ],
             [
              0.5555555555555556,
              "#d8576b"
             ],
             [
              0.6666666666666666,
              "#ed7953"
             ],
             [
              0.7777777777777778,
              "#fb9f3a"
             ],
             [
              0.8888888888888888,
              "#fdca26"
             ],
             [
              1,
              "#f0f921"
             ]
            ],
            "type": "surface"
           }
          ],
          "table": [
           {
            "cells": {
             "fill": {
              "color": "#EBF0F8"
             },
             "line": {
              "color": "white"
             }
            },
            "header": {
             "fill": {
              "color": "#C8D4E3"
             },
             "line": {
              "color": "white"
             }
            },
            "type": "table"
           }
          ]
         },
         "layout": {
          "annotationdefaults": {
           "arrowcolor": "#2a3f5f",
           "arrowhead": 0,
           "arrowwidth": 1
          },
          "autotypenumbers": "strict",
          "coloraxis": {
           "colorbar": {
            "outlinewidth": 0,
            "ticks": ""
           }
          },
          "colorscale": {
           "diverging": [
            [
             0,
             "#8e0152"
            ],
            [
             0.1,
             "#c51b7d"
            ],
            [
             0.2,
             "#de77ae"
            ],
            [
             0.3,
             "#f1b6da"
            ],
            [
             0.4,
             "#fde0ef"
            ],
            [
             0.5,
             "#f7f7f7"
            ],
            [
             0.6,
             "#e6f5d0"
            ],
            [
             0.7,
             "#b8e186"
            ],
            [
             0.8,
             "#7fbc41"
            ],
            [
             0.9,
             "#4d9221"
            ],
            [
             1,
             "#276419"
            ]
           ],
           "sequential": [
            [
             0,
             "#0d0887"
            ],
            [
             0.1111111111111111,
             "#46039f"
            ],
            [
             0.2222222222222222,
             "#7201a8"
            ],
            [
             0.3333333333333333,
             "#9c179e"
            ],
            [
             0.4444444444444444,
             "#bd3786"
            ],
            [
             0.5555555555555556,
             "#d8576b"
            ],
            [
             0.6666666666666666,
             "#ed7953"
            ],
            [
             0.7777777777777778,
             "#fb9f3a"
            ],
            [
             0.8888888888888888,
             "#fdca26"
            ],
            [
             1,
             "#f0f921"
            ]
           ],
           "sequentialminus": [
            [
             0,
             "#0d0887"
            ],
            [
             0.1111111111111111,
             "#46039f"
            ],
            [
             0.2222222222222222,
             "#7201a8"
            ],
            [
             0.3333333333333333,
             "#9c179e"
            ],
            [
             0.4444444444444444,
             "#bd3786"
            ],
            [
             0.5555555555555556,
             "#d8576b"
            ],
            [
             0.6666666666666666,
             "#ed7953"
            ],
            [
             0.7777777777777778,
             "#fb9f3a"
            ],
            [
             0.8888888888888888,
             "#fdca26"
            ],
            [
             1,
             "#f0f921"
            ]
           ]
          },
          "colorway": [
           "#636efa",
           "#EF553B",
           "#00cc96",
           "#ab63fa",
           "#FFA15A",
           "#19d3f3",
           "#FF6692",
           "#B6E880",
           "#FF97FF",
           "#FECB52"
          ],
          "font": {
           "color": "#2a3f5f"
          },
          "geo": {
           "bgcolor": "white",
           "lakecolor": "white",
           "landcolor": "#E5ECF6",
           "showlakes": true,
           "showland": true,
           "subunitcolor": "white"
          },
          "hoverlabel": {
           "align": "left"
          },
          "hovermode": "closest",
          "mapbox": {
           "style": "light"
          },
          "paper_bgcolor": "white",
          "plot_bgcolor": "#E5ECF6",
          "polar": {
           "angularaxis": {
            "gridcolor": "white",
            "linecolor": "white",
            "ticks": ""
           },
           "bgcolor": "#E5ECF6",
           "radialaxis": {
            "gridcolor": "white",
            "linecolor": "white",
            "ticks": ""
           }
          },
          "scene": {
           "xaxis": {
            "backgroundcolor": "#E5ECF6",
            "gridcolor": "white",
            "gridwidth": 2,
            "linecolor": "white",
            "showbackground": true,
            "ticks": "",
            "zerolinecolor": "white"
           },
           "yaxis": {
            "backgroundcolor": "#E5ECF6",
            "gridcolor": "white",
            "gridwidth": 2,
            "linecolor": "white",
            "showbackground": true,
            "ticks": "",
            "zerolinecolor": "white"
           },
           "zaxis": {
            "backgroundcolor": "#E5ECF6",
            "gridcolor": "white",
            "gridwidth": 2,
            "linecolor": "white",
            "showbackground": true,
            "ticks": "",
            "zerolinecolor": "white"
           }
          },
          "shapedefaults": {
           "line": {
            "color": "#2a3f5f"
           }
          },
          "ternary": {
           "aaxis": {
            "gridcolor": "white",
            "linecolor": "white",
            "ticks": ""
           },
           "baxis": {
            "gridcolor": "white",
            "linecolor": "white",
            "ticks": ""
           },
           "bgcolor": "#E5ECF6",
           "caxis": {
            "gridcolor": "white",
            "linecolor": "white",
            "ticks": ""
           }
          },
          "title": {
           "x": 0.05
          },
          "xaxis": {
           "automargin": true,
           "gridcolor": "white",
           "linecolor": "white",
           "ticks": "",
           "title": {
            "standoff": 15
           },
           "zerolinecolor": "white",
           "zerolinewidth": 2
          },
          "yaxis": {
           "automargin": true,
           "gridcolor": "white",
           "linecolor": "white",
           "ticks": "",
           "title": {
            "standoff": 15
           },
           "zerolinecolor": "white",
           "zerolinewidth": 2
          }
         }
        },
        "xaxis": {
         "anchor": "y",
         "domain": [
          0,
          1
         ],
         "rangeslider": {
          "visible": true
         },
         "title": {
          "text": "x"
         }
        },
        "yaxis": {
         "anchor": "x",
         "domain": [
          0,
          1
         ],
         "title": {
          "text": "y"
         }
        }
       }
      }
     },
     "metadata": {},
     "output_type": "display_data"
    }
   ],
   "source": [
    "fig = px.line(x = tariff_dt.index, y = tariff_decomps.Std_Seasonal)\n",
    "fig.update_xaxes(rangeslider_visible=True)"
   ]
  },
  {
   "cell_type": "code",
   "execution_count": 31,
   "metadata": {},
   "outputs": [
    {
     "data": {
      "application/vnd.plotly.v1+json": {
       "config": {
        "plotlyServerURL": "https://plot.ly"
       },
       "data": [
        {
         "hovertemplate": "x=%{x}<br>y=%{y}<extra></extra>",
         "legendgroup": "",
         "line": {
          "color": "#636efa",
          "dash": "solid"
         },
         "marker": {
          "symbol": "circle"
         },
         "mode": "lines",
         "name": "",
         "orientation": "v",
         "showlegend": false,
         "type": "scatter",
         "x": [
          "2011-11-23T00:00:00",
          "2011-11-24T00:00:00",
          "2011-11-25T00:00:00",
          "2011-11-26T00:00:00",
          "2011-11-27T00:00:00",
          "2011-11-28T00:00:00",
          "2011-11-29T00:00:00",
          "2011-11-30T00:00:00",
          "2011-12-01T00:00:00",
          "2011-12-02T00:00:00",
          "2011-12-03T00:00:00",
          "2011-12-04T00:00:00",
          "2011-12-05T00:00:00",
          "2011-12-06T00:00:00",
          "2011-12-07T00:00:00",
          "2011-12-08T00:00:00",
          "2011-12-09T00:00:00",
          "2011-12-10T00:00:00",
          "2011-12-11T00:00:00",
          "2011-12-12T00:00:00",
          "2011-12-13T00:00:00",
          "2011-12-14T00:00:00",
          "2011-12-15T00:00:00",
          "2011-12-16T00:00:00",
          "2011-12-17T00:00:00",
          "2011-12-18T00:00:00",
          "2011-12-19T00:00:00",
          "2011-12-20T00:00:00",
          "2011-12-21T00:00:00",
          "2011-12-22T00:00:00",
          "2011-12-23T00:00:00",
          "2011-12-24T00:00:00",
          "2011-12-25T00:00:00",
          "2011-12-26T00:00:00",
          "2011-12-27T00:00:00",
          "2011-12-28T00:00:00",
          "2011-12-29T00:00:00",
          "2011-12-30T00:00:00",
          "2011-12-31T00:00:00",
          "2012-01-01T00:00:00",
          "2012-01-02T00:00:00",
          "2012-01-03T00:00:00",
          "2012-01-04T00:00:00",
          "2012-01-05T00:00:00",
          "2012-01-06T00:00:00",
          "2012-01-07T00:00:00",
          "2012-01-08T00:00:00",
          "2012-01-09T00:00:00",
          "2012-01-10T00:00:00",
          "2012-01-11T00:00:00",
          "2012-01-12T00:00:00",
          "2012-01-13T00:00:00",
          "2012-01-14T00:00:00",
          "2012-01-15T00:00:00",
          "2012-01-16T00:00:00",
          "2012-01-17T00:00:00",
          "2012-01-18T00:00:00",
          "2012-01-19T00:00:00",
          "2012-01-20T00:00:00",
          "2012-01-21T00:00:00",
          "2012-01-22T00:00:00",
          "2012-01-23T00:00:00",
          "2012-01-24T00:00:00",
          "2012-01-25T00:00:00",
          "2012-01-26T00:00:00",
          "2012-01-27T00:00:00",
          "2012-01-28T00:00:00",
          "2012-01-29T00:00:00",
          "2012-01-30T00:00:00",
          "2012-01-31T00:00:00",
          "2012-02-01T00:00:00",
          "2012-02-02T00:00:00",
          "2012-02-03T00:00:00",
          "2012-02-04T00:00:00",
          "2012-02-05T00:00:00",
          "2012-02-06T00:00:00",
          "2012-02-07T00:00:00",
          "2012-02-08T00:00:00",
          "2012-02-09T00:00:00",
          "2012-02-10T00:00:00",
          "2012-02-11T00:00:00",
          "2012-02-12T00:00:00",
          "2012-02-13T00:00:00",
          "2012-02-14T00:00:00",
          "2012-02-15T00:00:00",
          "2012-02-16T00:00:00",
          "2012-02-17T00:00:00",
          "2012-02-18T00:00:00",
          "2012-02-19T00:00:00",
          "2012-02-20T00:00:00",
          "2012-02-21T00:00:00",
          "2012-02-22T00:00:00",
          "2012-02-23T00:00:00",
          "2012-02-24T00:00:00",
          "2012-02-25T00:00:00",
          "2012-02-26T00:00:00",
          "2012-02-27T00:00:00",
          "2012-02-28T00:00:00",
          "2012-02-29T00:00:00",
          "2012-03-01T00:00:00",
          "2012-03-02T00:00:00",
          "2012-03-03T00:00:00",
          "2012-03-04T00:00:00",
          "2012-03-05T00:00:00",
          "2012-03-06T00:00:00",
          "2012-03-07T00:00:00",
          "2012-03-08T00:00:00",
          "2012-03-09T00:00:00",
          "2012-03-10T00:00:00",
          "2012-03-11T00:00:00",
          "2012-03-12T00:00:00",
          "2012-03-13T00:00:00",
          "2012-03-14T00:00:00",
          "2012-03-15T00:00:00",
          "2012-03-16T00:00:00",
          "2012-03-17T00:00:00",
          "2012-03-18T00:00:00",
          "2012-03-19T00:00:00",
          "2012-03-20T00:00:00",
          "2012-03-21T00:00:00",
          "2012-03-22T00:00:00",
          "2012-03-23T00:00:00",
          "2012-03-24T00:00:00",
          "2012-03-25T00:00:00",
          "2012-03-26T00:00:00",
          "2012-03-27T00:00:00",
          "2012-03-28T00:00:00",
          "2012-03-29T00:00:00",
          "2012-03-30T00:00:00",
          "2012-03-31T00:00:00",
          "2012-04-01T00:00:00",
          "2012-04-02T00:00:00",
          "2012-04-03T00:00:00",
          "2012-04-04T00:00:00",
          "2012-04-05T00:00:00",
          "2012-04-06T00:00:00",
          "2012-04-07T00:00:00",
          "2012-04-08T00:00:00",
          "2012-04-09T00:00:00",
          "2012-04-10T00:00:00",
          "2012-04-11T00:00:00",
          "2012-04-12T00:00:00",
          "2012-04-13T00:00:00",
          "2012-04-14T00:00:00",
          "2012-04-15T00:00:00",
          "2012-04-16T00:00:00",
          "2012-04-17T00:00:00",
          "2012-04-18T00:00:00",
          "2012-04-19T00:00:00",
          "2012-04-20T00:00:00",
          "2012-04-21T00:00:00",
          "2012-04-22T00:00:00",
          "2012-04-23T00:00:00",
          "2012-04-24T00:00:00",
          "2012-04-25T00:00:00",
          "2012-04-26T00:00:00",
          "2012-04-27T00:00:00",
          "2012-04-28T00:00:00",
          "2012-04-29T00:00:00",
          "2012-04-30T00:00:00",
          "2012-05-01T00:00:00",
          "2012-05-02T00:00:00",
          "2012-05-03T00:00:00",
          "2012-05-04T00:00:00",
          "2012-05-05T00:00:00",
          "2012-05-06T00:00:00",
          "2012-05-07T00:00:00",
          "2012-05-08T00:00:00",
          "2012-05-09T00:00:00",
          "2012-05-10T00:00:00",
          "2012-05-11T00:00:00",
          "2012-05-12T00:00:00",
          "2012-05-13T00:00:00",
          "2012-05-14T00:00:00",
          "2012-05-15T00:00:00",
          "2012-05-16T00:00:00",
          "2012-05-17T00:00:00",
          "2012-05-18T00:00:00",
          "2012-05-19T00:00:00",
          "2012-05-20T00:00:00",
          "2012-05-21T00:00:00",
          "2012-05-22T00:00:00",
          "2012-05-23T00:00:00",
          "2012-05-24T00:00:00",
          "2012-05-25T00:00:00",
          "2012-05-26T00:00:00",
          "2012-05-27T00:00:00",
          "2012-05-28T00:00:00",
          "2012-05-29T00:00:00",
          "2012-05-30T00:00:00",
          "2012-05-31T00:00:00",
          "2012-06-01T00:00:00",
          "2012-06-02T00:00:00",
          "2012-06-03T00:00:00",
          "2012-06-04T00:00:00",
          "2012-06-05T00:00:00",
          "2012-06-06T00:00:00",
          "2012-06-07T00:00:00",
          "2012-06-08T00:00:00",
          "2012-06-09T00:00:00",
          "2012-06-10T00:00:00",
          "2012-06-11T00:00:00",
          "2012-06-12T00:00:00",
          "2012-06-13T00:00:00",
          "2012-06-14T00:00:00",
          "2012-06-15T00:00:00",
          "2012-06-16T00:00:00",
          "2012-06-17T00:00:00",
          "2012-06-18T00:00:00",
          "2012-06-19T00:00:00",
          "2012-06-20T00:00:00",
          "2012-06-21T00:00:00",
          "2012-06-22T00:00:00",
          "2012-06-23T00:00:00",
          "2012-06-24T00:00:00",
          "2012-06-25T00:00:00",
          "2012-06-26T00:00:00",
          "2012-06-27T00:00:00",
          "2012-06-28T00:00:00",
          "2012-06-29T00:00:00",
          "2012-06-30T00:00:00",
          "2012-07-01T00:00:00",
          "2012-07-02T00:00:00",
          "2012-07-03T00:00:00",
          "2012-07-04T00:00:00",
          "2012-07-05T00:00:00",
          "2012-07-06T00:00:00",
          "2012-07-07T00:00:00",
          "2012-07-08T00:00:00",
          "2012-07-09T00:00:00",
          "2012-07-10T00:00:00",
          "2012-07-11T00:00:00",
          "2012-07-12T00:00:00",
          "2012-07-13T00:00:00",
          "2012-07-14T00:00:00",
          "2012-07-15T00:00:00",
          "2012-07-16T00:00:00",
          "2012-07-17T00:00:00",
          "2012-07-18T00:00:00",
          "2012-07-19T00:00:00",
          "2012-07-20T00:00:00",
          "2012-07-21T00:00:00",
          "2012-07-22T00:00:00",
          "2012-07-23T00:00:00",
          "2012-07-24T00:00:00",
          "2012-07-25T00:00:00",
          "2012-07-26T00:00:00",
          "2012-07-27T00:00:00",
          "2012-07-28T00:00:00",
          "2012-07-29T00:00:00",
          "2012-07-30T00:00:00",
          "2012-07-31T00:00:00",
          "2012-08-01T00:00:00",
          "2012-08-02T00:00:00",
          "2012-08-03T00:00:00",
          "2012-08-04T00:00:00",
          "2012-08-05T00:00:00",
          "2012-08-06T00:00:00",
          "2012-08-07T00:00:00",
          "2012-08-08T00:00:00",
          "2012-08-09T00:00:00",
          "2012-08-10T00:00:00",
          "2012-08-11T00:00:00",
          "2012-08-12T00:00:00",
          "2012-08-13T00:00:00",
          "2012-08-14T00:00:00",
          "2012-08-15T00:00:00",
          "2012-08-16T00:00:00",
          "2012-08-17T00:00:00",
          "2012-08-18T00:00:00",
          "2012-08-19T00:00:00",
          "2012-08-20T00:00:00",
          "2012-08-21T00:00:00",
          "2012-08-22T00:00:00",
          "2012-08-23T00:00:00",
          "2012-08-24T00:00:00",
          "2012-08-25T00:00:00",
          "2012-08-26T00:00:00",
          "2012-08-27T00:00:00",
          "2012-08-28T00:00:00",
          "2012-08-29T00:00:00",
          "2012-08-30T00:00:00",
          "2012-08-31T00:00:00",
          "2012-09-01T00:00:00",
          "2012-09-02T00:00:00",
          "2012-09-03T00:00:00",
          "2012-09-04T00:00:00",
          "2012-09-05T00:00:00",
          "2012-09-06T00:00:00",
          "2012-09-07T00:00:00",
          "2012-09-08T00:00:00",
          "2012-09-09T00:00:00",
          "2012-09-10T00:00:00",
          "2012-09-11T00:00:00",
          "2012-09-12T00:00:00",
          "2012-09-13T00:00:00",
          "2012-09-14T00:00:00",
          "2012-09-15T00:00:00",
          "2012-09-16T00:00:00",
          "2012-09-17T00:00:00",
          "2012-09-18T00:00:00",
          "2012-09-19T00:00:00",
          "2012-09-20T00:00:00",
          "2012-09-21T00:00:00",
          "2012-09-22T00:00:00",
          "2012-09-23T00:00:00",
          "2012-09-24T00:00:00",
          "2012-09-25T00:00:00",
          "2012-09-26T00:00:00",
          "2012-09-27T00:00:00",
          "2012-09-28T00:00:00",
          "2012-09-29T00:00:00",
          "2012-09-30T00:00:00",
          "2012-10-01T00:00:00",
          "2012-10-02T00:00:00",
          "2012-10-03T00:00:00",
          "2012-10-04T00:00:00",
          "2012-10-05T00:00:00",
          "2012-10-06T00:00:00",
          "2012-10-07T00:00:00",
          "2012-10-08T00:00:00",
          "2012-10-09T00:00:00",
          "2012-10-10T00:00:00",
          "2012-10-11T00:00:00",
          "2012-10-12T00:00:00",
          "2012-10-13T00:00:00",
          "2012-10-14T00:00:00",
          "2012-10-15T00:00:00",
          "2012-10-16T00:00:00",
          "2012-10-17T00:00:00",
          "2012-10-18T00:00:00",
          "2012-10-19T00:00:00",
          "2012-10-20T00:00:00",
          "2012-10-21T00:00:00",
          "2012-10-22T00:00:00",
          "2012-10-23T00:00:00",
          "2012-10-24T00:00:00",
          "2012-10-25T00:00:00",
          "2012-10-26T00:00:00",
          "2012-10-27T00:00:00",
          "2012-10-28T00:00:00",
          "2012-10-29T00:00:00",
          "2012-10-30T00:00:00",
          "2012-10-31T00:00:00",
          "2012-11-01T00:00:00",
          "2012-11-02T00:00:00",
          "2012-11-03T00:00:00",
          "2012-11-04T00:00:00",
          "2012-11-05T00:00:00",
          "2012-11-06T00:00:00",
          "2012-11-07T00:00:00",
          "2012-11-08T00:00:00",
          "2012-11-09T00:00:00",
          "2012-11-10T00:00:00",
          "2012-11-11T00:00:00",
          "2012-11-12T00:00:00",
          "2012-11-13T00:00:00",
          "2012-11-14T00:00:00",
          "2012-11-15T00:00:00",
          "2012-11-16T00:00:00",
          "2012-11-17T00:00:00",
          "2012-11-18T00:00:00",
          "2012-11-19T00:00:00",
          "2012-11-20T00:00:00",
          "2012-11-21T00:00:00",
          "2012-11-22T00:00:00",
          "2012-11-23T00:00:00",
          "2012-11-24T00:00:00",
          "2012-11-25T00:00:00",
          "2012-11-26T00:00:00",
          "2012-11-27T00:00:00",
          "2012-11-28T00:00:00",
          "2012-11-29T00:00:00",
          "2012-11-30T00:00:00",
          "2012-12-01T00:00:00",
          "2012-12-02T00:00:00",
          "2012-12-03T00:00:00",
          "2012-12-04T00:00:00",
          "2012-12-05T00:00:00",
          "2012-12-06T00:00:00",
          "2012-12-07T00:00:00",
          "2012-12-08T00:00:00",
          "2012-12-09T00:00:00",
          "2012-12-10T00:00:00",
          "2012-12-11T00:00:00",
          "2012-12-12T00:00:00",
          "2012-12-13T00:00:00",
          "2012-12-14T00:00:00",
          "2012-12-15T00:00:00",
          "2012-12-16T00:00:00",
          "2012-12-17T00:00:00",
          "2012-12-18T00:00:00",
          "2012-12-19T00:00:00",
          "2012-12-20T00:00:00",
          "2012-12-21T00:00:00",
          "2012-12-22T00:00:00",
          "2012-12-23T00:00:00",
          "2012-12-24T00:00:00",
          "2012-12-25T00:00:00",
          "2012-12-26T00:00:00",
          "2012-12-27T00:00:00",
          "2012-12-28T00:00:00",
          "2012-12-29T00:00:00",
          "2012-12-30T00:00:00",
          "2012-12-31T00:00:00",
          "2013-01-01T00:00:00",
          "2013-01-02T00:00:00",
          "2013-01-03T00:00:00",
          "2013-01-04T00:00:00",
          "2013-01-05T00:00:00",
          "2013-01-06T00:00:00",
          "2013-01-07T00:00:00",
          "2013-01-08T00:00:00",
          "2013-01-09T00:00:00",
          "2013-01-10T00:00:00",
          "2013-01-11T00:00:00",
          "2013-01-12T00:00:00",
          "2013-01-13T00:00:00",
          "2013-01-14T00:00:00",
          "2013-01-15T00:00:00",
          "2013-01-16T00:00:00",
          "2013-01-17T00:00:00",
          "2013-01-18T00:00:00",
          "2013-01-19T00:00:00",
          "2013-01-20T00:00:00",
          "2013-01-21T00:00:00",
          "2013-01-22T00:00:00",
          "2013-01-23T00:00:00",
          "2013-01-24T00:00:00",
          "2013-01-25T00:00:00",
          "2013-01-26T00:00:00",
          "2013-01-27T00:00:00",
          "2013-01-28T00:00:00",
          "2013-01-29T00:00:00",
          "2013-01-30T00:00:00",
          "2013-01-31T00:00:00",
          "2013-02-01T00:00:00",
          "2013-02-02T00:00:00",
          "2013-02-03T00:00:00",
          "2013-02-04T00:00:00",
          "2013-02-05T00:00:00",
          "2013-02-06T00:00:00",
          "2013-02-07T00:00:00",
          "2013-02-08T00:00:00",
          "2013-02-09T00:00:00",
          "2013-02-10T00:00:00",
          "2013-02-11T00:00:00",
          "2013-02-12T00:00:00",
          "2013-02-13T00:00:00",
          "2013-02-14T00:00:00",
          "2013-02-15T00:00:00",
          "2013-02-16T00:00:00",
          "2013-02-17T00:00:00",
          "2013-02-18T00:00:00",
          "2013-02-19T00:00:00",
          "2013-02-20T00:00:00",
          "2013-02-21T00:00:00",
          "2013-02-22T00:00:00",
          "2013-02-23T00:00:00",
          "2013-02-24T00:00:00",
          "2013-02-25T00:00:00",
          "2013-02-26T00:00:00",
          "2013-02-27T00:00:00",
          "2013-02-28T00:00:00",
          "2013-03-01T00:00:00",
          "2013-03-02T00:00:00",
          "2013-03-03T00:00:00",
          "2013-03-04T00:00:00",
          "2013-03-05T00:00:00",
          "2013-03-06T00:00:00",
          "2013-03-07T00:00:00",
          "2013-03-08T00:00:00",
          "2013-03-09T00:00:00",
          "2013-03-10T00:00:00",
          "2013-03-11T00:00:00",
          "2013-03-12T00:00:00",
          "2013-03-13T00:00:00",
          "2013-03-14T00:00:00",
          "2013-03-15T00:00:00",
          "2013-03-16T00:00:00",
          "2013-03-17T00:00:00",
          "2013-03-18T00:00:00",
          "2013-03-19T00:00:00",
          "2013-03-20T00:00:00",
          "2013-03-21T00:00:00",
          "2013-03-22T00:00:00",
          "2013-03-23T00:00:00",
          "2013-03-24T00:00:00",
          "2013-03-25T00:00:00",
          "2013-03-26T00:00:00",
          "2013-03-27T00:00:00",
          "2013-03-28T00:00:00",
          "2013-03-29T00:00:00",
          "2013-03-30T00:00:00",
          "2013-03-31T00:00:00",
          "2013-04-01T00:00:00",
          "2013-04-02T00:00:00",
          "2013-04-03T00:00:00",
          "2013-04-04T00:00:00",
          "2013-04-05T00:00:00",
          "2013-04-06T00:00:00",
          "2013-04-07T00:00:00",
          "2013-04-08T00:00:00",
          "2013-04-09T00:00:00",
          "2013-04-10T00:00:00",
          "2013-04-11T00:00:00",
          "2013-04-12T00:00:00",
          "2013-04-13T00:00:00",
          "2013-04-14T00:00:00",
          "2013-04-15T00:00:00",
          "2013-04-16T00:00:00",
          "2013-04-17T00:00:00",
          "2013-04-18T00:00:00",
          "2013-04-19T00:00:00",
          "2013-04-20T00:00:00",
          "2013-04-21T00:00:00",
          "2013-04-22T00:00:00",
          "2013-04-23T00:00:00",
          "2013-04-24T00:00:00",
          "2013-04-25T00:00:00",
          "2013-04-26T00:00:00",
          "2013-04-27T00:00:00",
          "2013-04-28T00:00:00",
          "2013-04-29T00:00:00",
          "2013-04-30T00:00:00",
          "2013-05-01T00:00:00",
          "2013-05-02T00:00:00",
          "2013-05-03T00:00:00",
          "2013-05-04T00:00:00",
          "2013-05-05T00:00:00",
          "2013-05-06T00:00:00",
          "2013-05-07T00:00:00",
          "2013-05-08T00:00:00",
          "2013-05-09T00:00:00",
          "2013-05-10T00:00:00",
          "2013-05-11T00:00:00",
          "2013-05-12T00:00:00",
          "2013-05-13T00:00:00",
          "2013-05-14T00:00:00",
          "2013-05-15T00:00:00",
          "2013-05-16T00:00:00",
          "2013-05-17T00:00:00",
          "2013-05-18T00:00:00",
          "2013-05-19T00:00:00",
          "2013-05-20T00:00:00",
          "2013-05-21T00:00:00",
          "2013-05-22T00:00:00",
          "2013-05-23T00:00:00",
          "2013-05-24T00:00:00",
          "2013-05-25T00:00:00",
          "2013-05-26T00:00:00",
          "2013-05-27T00:00:00",
          "2013-05-28T00:00:00",
          "2013-05-29T00:00:00",
          "2013-05-30T00:00:00",
          "2013-05-31T00:00:00",
          "2013-06-01T00:00:00",
          "2013-06-02T00:00:00",
          "2013-06-03T00:00:00",
          "2013-06-04T00:00:00",
          "2013-06-05T00:00:00",
          "2013-06-06T00:00:00",
          "2013-06-07T00:00:00",
          "2013-06-08T00:00:00",
          "2013-06-09T00:00:00",
          "2013-06-10T00:00:00",
          "2013-06-11T00:00:00",
          "2013-06-12T00:00:00",
          "2013-06-13T00:00:00",
          "2013-06-14T00:00:00",
          "2013-06-15T00:00:00",
          "2013-06-16T00:00:00",
          "2013-06-17T00:00:00",
          "2013-06-18T00:00:00",
          "2013-06-19T00:00:00",
          "2013-06-20T00:00:00",
          "2013-06-21T00:00:00",
          "2013-06-22T00:00:00",
          "2013-06-23T00:00:00",
          "2013-06-24T00:00:00",
          "2013-06-25T00:00:00",
          "2013-06-26T00:00:00",
          "2013-06-27T00:00:00",
          "2013-06-28T00:00:00",
          "2013-06-29T00:00:00",
          "2013-06-30T00:00:00",
          "2013-07-01T00:00:00",
          "2013-07-02T00:00:00",
          "2013-07-03T00:00:00",
          "2013-07-04T00:00:00",
          "2013-07-05T00:00:00",
          "2013-07-06T00:00:00",
          "2013-07-07T00:00:00",
          "2013-07-08T00:00:00",
          "2013-07-09T00:00:00",
          "2013-07-10T00:00:00",
          "2013-07-11T00:00:00",
          "2013-07-12T00:00:00",
          "2013-07-13T00:00:00",
          "2013-07-14T00:00:00",
          "2013-07-15T00:00:00",
          "2013-07-16T00:00:00",
          "2013-07-17T00:00:00",
          "2013-07-18T00:00:00",
          "2013-07-19T00:00:00",
          "2013-07-20T00:00:00",
          "2013-07-21T00:00:00",
          "2013-07-22T00:00:00",
          "2013-07-23T00:00:00",
          "2013-07-24T00:00:00",
          "2013-07-25T00:00:00",
          "2013-07-26T00:00:00",
          "2013-07-27T00:00:00",
          "2013-07-28T00:00:00",
          "2013-07-29T00:00:00",
          "2013-07-30T00:00:00",
          "2013-07-31T00:00:00",
          "2013-08-01T00:00:00",
          "2013-08-02T00:00:00",
          "2013-08-03T00:00:00",
          "2013-08-04T00:00:00",
          "2013-08-05T00:00:00",
          "2013-08-06T00:00:00",
          "2013-08-07T00:00:00",
          "2013-08-08T00:00:00",
          "2013-08-09T00:00:00",
          "2013-08-10T00:00:00",
          "2013-08-11T00:00:00",
          "2013-08-12T00:00:00",
          "2013-08-13T00:00:00",
          "2013-08-14T00:00:00",
          "2013-08-15T00:00:00",
          "2013-08-16T00:00:00",
          "2013-08-17T00:00:00",
          "2013-08-18T00:00:00",
          "2013-08-19T00:00:00",
          "2013-08-20T00:00:00",
          "2013-08-21T00:00:00",
          "2013-08-22T00:00:00",
          "2013-08-23T00:00:00",
          "2013-08-24T00:00:00",
          "2013-08-25T00:00:00",
          "2013-08-26T00:00:00",
          "2013-08-27T00:00:00",
          "2013-08-28T00:00:00",
          "2013-08-29T00:00:00",
          "2013-08-30T00:00:00",
          "2013-08-31T00:00:00",
          "2013-09-01T00:00:00",
          "2013-09-02T00:00:00",
          "2013-09-03T00:00:00",
          "2013-09-04T00:00:00",
          "2013-09-05T00:00:00",
          "2013-09-06T00:00:00",
          "2013-09-07T00:00:00",
          "2013-09-08T00:00:00",
          "2013-09-09T00:00:00",
          "2013-09-10T00:00:00",
          "2013-09-11T00:00:00",
          "2013-09-12T00:00:00",
          "2013-09-13T00:00:00",
          "2013-09-14T00:00:00",
          "2013-09-15T00:00:00",
          "2013-09-16T00:00:00",
          "2013-09-17T00:00:00",
          "2013-09-18T00:00:00",
          "2013-09-19T00:00:00",
          "2013-09-20T00:00:00",
          "2013-09-21T00:00:00",
          "2013-09-22T00:00:00",
          "2013-09-23T00:00:00",
          "2013-09-24T00:00:00",
          "2013-09-25T00:00:00",
          "2013-09-26T00:00:00",
          "2013-09-27T00:00:00",
          "2013-09-28T00:00:00",
          "2013-09-29T00:00:00",
          "2013-09-30T00:00:00",
          "2013-10-01T00:00:00",
          "2013-10-02T00:00:00",
          "2013-10-03T00:00:00",
          "2013-10-04T00:00:00",
          "2013-10-05T00:00:00",
          "2013-10-06T00:00:00",
          "2013-10-07T00:00:00",
          "2013-10-08T00:00:00",
          "2013-10-09T00:00:00",
          "2013-10-10T00:00:00",
          "2013-10-11T00:00:00",
          "2013-10-12T00:00:00",
          "2013-10-13T00:00:00",
          "2013-10-14T00:00:00",
          "2013-10-15T00:00:00",
          "2013-10-16T00:00:00",
          "2013-10-17T00:00:00",
          "2013-10-18T00:00:00",
          "2013-10-19T00:00:00",
          "2013-10-20T00:00:00",
          "2013-10-21T00:00:00",
          "2013-10-22T00:00:00",
          "2013-10-23T00:00:00",
          "2013-10-24T00:00:00",
          "2013-10-25T00:00:00",
          "2013-10-26T00:00:00",
          "2013-10-27T00:00:00",
          "2013-10-28T00:00:00",
          "2013-10-29T00:00:00",
          "2013-10-30T00:00:00",
          "2013-10-31T00:00:00",
          "2013-11-01T00:00:00",
          "2013-11-02T00:00:00",
          "2013-11-03T00:00:00",
          "2013-11-04T00:00:00",
          "2013-11-05T00:00:00",
          "2013-11-06T00:00:00",
          "2013-11-07T00:00:00",
          "2013-11-08T00:00:00",
          "2013-11-09T00:00:00",
          "2013-11-10T00:00:00",
          "2013-11-11T00:00:00",
          "2013-11-12T00:00:00",
          "2013-11-13T00:00:00",
          "2013-11-14T00:00:00",
          "2013-11-15T00:00:00",
          "2013-11-16T00:00:00",
          "2013-11-17T00:00:00",
          "2013-11-18T00:00:00",
          "2013-11-19T00:00:00",
          "2013-11-20T00:00:00",
          "2013-11-21T00:00:00",
          "2013-11-22T00:00:00",
          "2013-11-23T00:00:00",
          "2013-11-24T00:00:00",
          "2013-11-25T00:00:00",
          "2013-11-26T00:00:00",
          "2013-11-27T00:00:00",
          "2013-11-28T00:00:00",
          "2013-11-29T00:00:00",
          "2013-11-30T00:00:00",
          "2013-12-01T00:00:00",
          "2013-12-02T00:00:00",
          "2013-12-03T00:00:00",
          "2013-12-04T00:00:00",
          "2013-12-05T00:00:00",
          "2013-12-06T00:00:00",
          "2013-12-07T00:00:00",
          "2013-12-08T00:00:00",
          "2013-12-09T00:00:00",
          "2013-12-10T00:00:00",
          "2013-12-11T00:00:00",
          "2013-12-12T00:00:00",
          "2013-12-13T00:00:00",
          "2013-12-14T00:00:00",
          "2013-12-15T00:00:00",
          "2013-12-16T00:00:00",
          "2013-12-17T00:00:00",
          "2013-12-18T00:00:00",
          "2013-12-19T00:00:00",
          "2013-12-20T00:00:00",
          "2013-12-21T00:00:00",
          "2013-12-22T00:00:00",
          "2013-12-23T00:00:00",
          "2013-12-24T00:00:00",
          "2013-12-25T00:00:00",
          "2013-12-26T00:00:00",
          "2013-12-27T00:00:00",
          "2013-12-28T00:00:00",
          "2013-12-29T00:00:00",
          "2013-12-30T00:00:00",
          "2013-12-31T00:00:00",
          "2014-01-01T00:00:00",
          "2014-01-02T00:00:00",
          "2014-01-03T00:00:00",
          "2014-01-04T00:00:00",
          "2014-01-05T00:00:00",
          "2014-01-06T00:00:00",
          "2014-01-07T00:00:00",
          "2014-01-08T00:00:00",
          "2014-01-09T00:00:00",
          "2014-01-10T00:00:00",
          "2014-01-11T00:00:00",
          "2014-01-12T00:00:00",
          "2014-01-13T00:00:00",
          "2014-01-14T00:00:00",
          "2014-01-15T00:00:00",
          "2014-01-16T00:00:00",
          "2014-01-17T00:00:00",
          "2014-01-18T00:00:00",
          "2014-01-19T00:00:00",
          "2014-01-20T00:00:00",
          "2014-01-21T00:00:00",
          "2014-01-22T00:00:00",
          "2014-01-23T00:00:00",
          "2014-01-24T00:00:00",
          "2014-01-25T00:00:00",
          "2014-01-26T00:00:00",
          "2014-01-27T00:00:00",
          "2014-01-28T00:00:00",
          "2014-01-29T00:00:00",
          "2014-01-30T00:00:00",
          "2014-01-31T00:00:00",
          "2014-02-01T00:00:00",
          "2014-02-02T00:00:00",
          "2014-02-03T00:00:00",
          "2014-02-04T00:00:00",
          "2014-02-05T00:00:00",
          "2014-02-06T00:00:00",
          "2014-02-07T00:00:00",
          "2014-02-08T00:00:00",
          "2014-02-09T00:00:00",
          "2014-02-10T00:00:00",
          "2014-02-11T00:00:00",
          "2014-02-12T00:00:00",
          "2014-02-13T00:00:00",
          "2014-02-14T00:00:00",
          "2014-02-15T00:00:00",
          "2014-02-16T00:00:00",
          "2014-02-17T00:00:00",
          "2014-02-18T00:00:00",
          "2014-02-19T00:00:00",
          "2014-02-20T00:00:00",
          "2014-02-21T00:00:00",
          "2014-02-22T00:00:00",
          "2014-02-23T00:00:00",
          "2014-02-24T00:00:00",
          "2014-02-25T00:00:00",
          "2014-02-26T00:00:00",
          "2014-02-27T00:00:00",
          "2014-02-28T00:00:00"
         ],
         "xaxis": "x",
         "y": [
          null,
          null,
          null,
          null,
          null,
          null,
          null,
          null,
          null,
          null,
          null,
          null,
          null,
          null,
          null,
          0.9678789569646858,
          0.9979693485153706,
          1.072799951962837,
          1.0998624050624453,
          1.0165784113895033,
          1.0072447005819443,
          1.0415119991992288,
          1.0408138488703425,
          1.0810380085278433,
          1.080454446366811,
          1.1324495126928371,
          1.089336635836041,
          1.0317108996963222,
          0.9860268957343459,
          0.9426277391658385,
          0.9920201392599194,
          0.9984851933308255,
          1.0018477892649669,
          0.8748783789093117,
          0.9195638780334866,
          0.9496021515558427,
          1.005662576979078,
          1.0047326937714058,
          1.0039863515327132,
          1.0150179018680223,
          1.0143723185963323,
          1.0286438958945476,
          1.0106023136603226,
          1.0187282697554707,
          1.0040801014291485,
          1.0114800052454278,
          1.0702104356512854,
          0.9651148690588764,
          0.9524915754511956,
          0.9604412809265616,
          0.9631118361116863,
          0.9927179607672693,
          1.0586470055802688,
          1.055312912077858,
          1.0231807384265703,
          1.0058677450728755,
          0.9669939005468334,
          0.9503242750724631,
          0.9742252303439165,
          0.9894506222212534,
          1.0517401311490346,
          0.9750222505257886,
          0.9737335133416894,
          0.9614263259123031,
          0.9342727812696913,
          0.9610262322684239,
          0.9921955048003767,
          1.0419967348746413,
          0.9659467575642927,
          0.984687304438251,
          0.9861350864659457,
          1.0424856535383094,
          1.0332646932315324,
          1.0928462379750465,
          1.139800979952046,
          1.0124549553762685,
          1.011792021859439,
          1.1030321521429853,
          1.0265843768234528,
          1.0523305860035264,
          1.080776877566239,
          1.1348643148429909,
          1.024095543959909,
          0.9885702343637746,
          0.943927489794389,
          0.9296586266757312,
          0.928299692078405,
          1.0047640949550332,
          1.0550556936934472,
          1.0284042555668347,
          0.9665947818609086,
          0.9732125609290401,
          0.9203156887899377,
          0.9173919557152435,
          0.981157662844294,
          1.0374862692506264,
          0.9880248544807877,
          0.9231699723707438,
          0.9334279625637859,
          0.9160348663288368,
          0.9797313894573065,
          0.988594886814762,
          1.0829499175048862,
          1.0010353024084067,
          1.0476291760669765,
          1.054554862411815,
          1.0152147579281237,
          1.023768206673872,
          1.0450741204551857,
          1.0543020758388078,
          0.9727398026543632,
          0.9740127606624202,
          0.9828740763235831,
          1.0081970473391968,
          1.0133374394616215,
          1.0680105526311918,
          1.1004076478854807,
          1.010130621667675,
          0.9709781276132212,
          0.9720024276285847,
          0.9610442837654463,
          0.9504665308685337,
          0.9412170738983521,
          1.0235557220477056,
          0.9548463508819945,
          0.9096825071634244,
          0.9292592942809635,
          0.8911330753885321,
          0.8776217935306646,
          1.0148891231341048,
          1.0258873221222118,
          0.9618951627346367,
          0.9914707178595548,
          0.9993051046369141,
          1.0412078889808203,
          1.0032403557633058,
          0.9832614975691696,
          1.001663353359693,
          1.018030190614682,
          0.9506879882885063,
          0.9889217369421204,
          0.9712662740204415,
          0.9980490090588856,
          1.0158533389950435,
          1.1093970146236227,
          1.0067422675192241,
          1.0378692826007694,
          1.0563613793721307,
          1.0546466704667168,
          0.9991203327326553,
          0.9992861426221559,
          1.034536848680988,
          0.9942867902307276,
          0.9877701311770952,
          1.011793380658378,
          1.0000137673669809,
          0.9637542926559142,
          1.05016098764919,
          1.1235264642072342,
          0.942769832316219,
          0.9412178264660563,
          0.941082382205756,
          1.0191850984068842,
          1.0098906089590582,
          1.0490893994250503,
          1.1387033612424058,
          1.1095128078415428,
          0.9808685745937274,
          0.9701789852718625,
          0.9860512756746087,
          0.9426021068404954,
          0.9886408867889572,
          1.0356115685023524,
          0.9964549791145354,
          1.0059553005557358,
          0.9641774939764735,
          0.9605150442562105,
          1.049235850565491,
          1.0207659036662682,
          1.152028935808462,
          1.0360110688251833,
          0.9289333031330728,
          0.9212575859348074,
          0.9117362249964653,
          0.9227821815477821,
          0.9382872443059217,
          0.9899926604154543,
          0.9453852598229412,
          0.9049774174675439,
          0.918676067558088,
          0.9266172915822233,
          0.9392723789347469,
          0.9688502725239713,
          1.0871518606552772,
          1.0245988747817225,
          1.0634260038389718,
          0.9925885751439909,
          1.01115811096471,
          1.0310376148198053,
          1.0266562265130856,
          1.107875051185844,
          1.1083060660377182,
          1.0629780898915502,
          0.9817680131756176,
          0.9771410315893201,
          0.9935655769815661,
          1.0249729541699928,
          1.0455460461570476,
          0.9785210816083676,
          0.932467822933701,
          0.922058540585505,
          0.9756766081742865,
          0.9836984400986107,
          1.0411811310293002,
          1.0816388977405627,
          0.9592321848405064,
          0.9829856211017736,
          0.9835986309321846,
          0.9457400405780695,
          0.9420805699621513,
          0.9715232843889083,
          1.0529413575074642,
          0.9883719016633454,
          0.990131277299275,
          0.9753057222378344,
          0.9456085516237749,
          0.9881323755723371,
          1.0321989365832243,
          1.0947073702386558,
          1.03768856184182,
          1.0053648244314584,
          0.9904893230074087,
          1.0234976131135352,
          1.0215616278258686,
          1.0403084295052842,
          1.0356083765072854,
          1.0076661212530134,
          0.9421708723661153,
          0.9432741238408546,
          0.9801701322223288,
          0.9850345391416827,
          0.9722780135436727,
          1.0110809720804799,
          1.0072562973597314,
          0.991440829368676,
          1.0022232444519314,
          0.9839794550705299,
          0.9965991304308583,
          1.0066645928622313,
          1.0664350247560623,
          1.0214200136657434,
          1.025273770442209,
          0.9872933610077551,
          0.9845666986461447,
          0.9602589546285863,
          0.9798114405227165,
          1.0508781477779676,
          0.9758487251411025,
          0.9741467429906813,
          0.9989915539762252,
          1.0244434105445905,
          0.9855629952399336,
          1.0088562869930653,
          1.034849004928904,
          0.9689294958190405,
          0.9516861720174861,
          0.986664234301733,
          0.9884759467351901,
          0.9498837848353099,
          0.9509557492288644,
          1.0485915606911862,
          1.0131491856923531,
          0.9896654557941695,
          0.965110354987025,
          1.000624221786645,
          0.9859316577963325,
          1.0159859518840453,
          1.0362523230506322,
          1.0094710103640347,
          0.9858105672449886,
          1.017988536996433,
          1.0170589750065728,
          0.9786760498174255,
          1.008628832746823,
          1.083023510447805,
          1.0041276032198327,
          1.0119665099342863,
          0.981797958901996,
          0.9513188371147732,
          0.9294200565344776,
          0.9805526857734216,
          1.0272110201888616,
          0.995136333516726,
          0.9516772901517947,
          0.9762290836674412,
          0.9584708102228175,
          0.945470609843864,
          0.9851953470127305,
          1.0459869699459046,
          0.9766124268615601,
          1.0082474270319792,
          0.9632506219347271,
          0.9890347187082692,
          0.9848528495648647,
          1.0036270417900781,
          1.143029436801356,
          1.0355202112165238,
          0.9841707122439245,
          0.9630880068475032,
          1.004167121022217,
          0.9904625955901304,
          0.9849827966730724,
          1.0505794567342464,
          0.9987106015071041,
          0.979099392689052,
          0.933194870923324,
          0.9641817000699291,
          0.9847962477370393,
          1.0021168566211154,
          1.0715718264987402,
          1.0433850385573935,
          0.98896463792851,
          0.9660356716227101,
          1.0247785752941387,
          0.9807726286055932,
          1.015703692921033,
          1.0803595592165547,
          1.0281774728991855,
          0.9671546296016644,
          0.9738008424644161,
          0.9390805703476733,
          0.9528244567383698,
          0.9716120236602854,
          1.0795478659833155,
          1.0028623157772492,
          0.9770045079484518,
          0.925579106399615,
          0.9421110030842119,
          0.9891969604205201,
          1.0433740809863652,
          1.081565006562286,
          1.0235762357403357,
          0.9916265300797912,
          0.9743454148843851,
          0.9764465530773921,
          0.9691663828434784,
          1.0133165810687024,
          1.1245625420586334,
          1.0056274483004262,
          1.0500218030414477,
          1.0220799260291804,
          1.0004267605190962,
          0.9460250137168434,
          1.027960749958225,
          1.0893390147822353,
          1.014898355174783,
          0.9313490454759998,
          0.9344822466425001,
          0.9696126715803218,
          0.9746358053120765,
          0.9909834709269857,
          1.0577007755920995,
          0.9952562942708475,
          0.9493307630588452,
          0.9708735713257515,
          0.9366502820700132,
          0.934530013044499,
          1.0336765817383982,
          1.0096449429259085,
          0.9790717949623954,
          0.9649860562154406,
          1.0038956400284547,
          1.0175773085537891,
          1.0217340318206711,
          1.0564271689714464,
          1.1064462382792204,
          0.9962201938676367,
          0.966732988924182,
          1.0187368321846466,
          1.0611712224022622,
          1.0129177941558996,
          1.0243242094171827,
          1.067620461094311,
          0.9685158365743539,
          0.9810941417702671,
          1.0337440372464248,
          1.0178761701228594,
          0.9957668022428516,
          0.985004198578256,
          1.0430343075483262,
          0.983623072172479,
          0.9765980024406629,
          1.0127515416865196,
          1.0397503794419745,
          0.9808009571853267,
          1.0328301930107784,
          0.9924881113182452,
          0.9992530675544429,
          1.0322848256664399,
          0.9726833986705012,
          0.9687431443405332,
          0.9910364242621935,
          0.9644153315367853,
          0.9710926333003094,
          0.9650515500229138,
          0.9655552731317248,
          0.9867327999023383,
          0.9578219082498972,
          0.9256185107922774,
          0.9567489258632298,
          1.048206906042825,
          0.9825299705597611,
          0.9251176179885311,
          0.8877736897028908,
          0.9812800379872817,
          0.986973430988039,
          1.0497586280889404,
          1.0895029076360812,
          1.0406448030450755,
          1.0138752026968698,
          1.0437205189670997,
          1.0294633488045184,
          1.0857738362903178,
          1.1167610317099839,
          1.1523056265614622,
          1.0573654764619191,
          1.0531385578861057,
          1.0430531130653011,
          1.0370046914777646,
          1.038139594334932,
          1.002122543667746,
          1.0341017645246608,
          0.9393244634428225,
          0.8833723866345613,
          0.8591211314638046,
          0.8971265743788831,
          0.9287395425881979,
          0.9882302181798751,
          1.0948544035907801,
          0.9540986851007193,
          0.9870337908133359,
          0.9836493735893278,
          0.9908882939766532,
          0.9888219637805028,
          1.0097782002571618,
          1.0769456568406848,
          1.035268740453312,
          1.037090697965744,
          1.0248135495023656,
          0.9824332472817678,
          0.9490333163738278,
          0.9564472341487683,
          0.9766079149475707,
          0.9372941471309185,
          0.9434909018423346,
          0.9635317933847051,
          0.9989341746168253,
          1.0457531583887367,
          1.044841972564475,
          1.1383028694186106,
          1.101378727525793,
          1.0555171906674283,
          1.005014153226229,
          1.0014194477808247,
          0.9927631596487607,
          1.0030123959503843,
          1.0574787216546915,
          0.9648268090282808,
          0.8909109780420928,
          0.8757741026452743,
          0.9345597044406774,
          0.9224599166235307,
          0.9250905089272983,
          1.044353269740162,
          1.0518662766854754,
          1.0331675845163153,
          0.9765215369529324,
          0.9702449639835682,
          0.9422250051499343,
          0.9913909134633381,
          1.0474678742480263,
          0.9923633229432731,
          0.9531644991596518,
          0.9643018245739658,
          0.9429552219373293,
          0.99809802339779,
          1.1290317869609958,
          1.1770127758838034,
          1.064710703627545,
          1.0888439637820253,
          1.0783259150108975,
          1.0476699587387899,
          1.0412867032598576,
          0.9685108931876599,
          0.9918309494537978,
          1.0164525792434398,
          0.9902592452308026,
          1.0591003143129438,
          1.063721618109591,
          1.062776321611832,
          0.9876552319076984,
          1.0377608843948374,
          0.9921852351587287,
          1.0107857587417148,
          0.9660283718504165,
          0.9954535600625843,
          0.9831396846927781,
          1.0028903293178177,
          1.0025729887057842,
          0.9137917988440878,
          0.9146370475814662,
          0.920230030724982,
          0.9432697603322527,
          0.9812340013756462,
          1.0012906020659795,
          1.0846168390655646,
          1.0162801882488501,
          0.9479819004168447,
          0.9124526773482073,
          0.909634441600989,
          0.9754716774497043,
          1.0437741977583008,
          1.0997304424995538,
          0.9880536232131227,
          0.9690261775709414,
          0.9480171465410041,
          0.9527656840731363,
          0.9142634023932477,
          0.9565244763968196,
          1.0253689581606529,
          0.979575674281659,
          0.9629274713419252,
          0.9684604463852118,
          0.9852621658993013,
          0.9249215344193847,
          0.9917516067482726,
          1.0701627279909756,
          0.9635557897938616,
          1.0460355050791812,
          1.0288047573136883,
          0.9982683656470286,
          1.0342279064445825,
          1.0725423132278253,
          1.0780269902385358,
          1.0343070846614246,
          1.005309767277524,
          0.9801254505563208,
          0.9907949927450698,
          1.0497672858563685,
          1.0289084031431341,
          1.0340527272575328,
          0.9641612566296148,
          0.9993860971020104,
          1.0029199821366945,
          1.0052594953450995,
          0.953188613726097,
          0.9782066707750738,
          1.0403748532973276,
          0.9457220438161658,
          0.9591200801990895,
          0.9474432561574787,
          0.9449647457831455,
          0.97161331939441,
          0.9783738690490167,
          1.0725557222012267,
          1.0104347684683213,
          0.9996415183592464,
          1.0135811182212262,
          1.0163132986881482,
          1.0042532147721466,
          1.017560226715933,
          1.060726239402937,
          0.9912210906672536,
          0.9790873612997266,
          0.9770642609322426,
          0.9842097144766679,
          0.9590573040562105,
          0.9872915221617303,
          1.0764487515212209,
          1.016964988684029,
          0.966848538045179,
          0.9595860770058329,
          0.9727846788718082,
          1.0074832163217444,
          1.020234947586952,
          1.0632095505293448,
          0.982402469203563,
          1.024573171689379,
          1.0095239699761471,
          0.9965952144228086,
          0.9999240029623905,
          1.0149130043860113,
          1.0611436861194492,
          0.9754121204738272,
          0.9517247238176506,
          0.9658615351477121,
          0.9396334835582463,
          0.949740413381093,
          0.9404933998718342,
          1.0417995559427158,
          0.9858720034489094,
          0.9860177935645554,
          0.9998460222548522,
          1.0060166959424097,
          1.0089107749866915,
          1.0387112861732757,
          1.0648779250969629,
          1.0208929140238203,
          1.0188884953485928,
          1.0014679337123056,
          1.0004057948229879,
          0.9977570930045538,
          1.0245279366932094,
          1.0509626830957857,
          0.9862949292691217,
          0.9848150467802627,
          0.985815431171647,
          1.0027454549501325,
          0.9938370377266399,
          0.9799278109339341,
          1.0147366736355974,
          0.9984134713643402,
          0.9655917669113813,
          0.9680933894453643,
          0.9435236485604266,
          0.9944546549228307,
          1.0052154361808499,
          1.0173479070322082,
          0.9887385854283203,
          0.9694146245767258,
          0.984773897614701,
          0.9904437790422851,
          1.0167601727510434,
          1.0492437376879171,
          1.0823833089807535,
          0.9996409944930736,
          0.9665621522751097,
          0.9704014267771044,
          1.0347764266194572,
          0.9636678503883729,
          1.0009923500802902,
          0.9882667855332401,
          0.9871570861162592,
          0.9699944894272703,
          0.9252439284168374,
          0.9567462234442932,
          0.9543439137454097,
          0.9557671276304242,
          1.0250609712557968,
          0.9651048024589355,
          0.9894698925563732,
          0.9748735998450548,
          0.9715872637726954,
          0.9559013756210594,
          0.9651084373793851,
          1.0627603292639973,
          1.0148499959423154,
          1.0025542788527986,
          1.0130520708194573,
          1.0159383070572026,
          1.0018844651008798,
          1.0588523912536023,
          1.1160948952843321,
          1.0200047881853942,
          1.0511421548203617,
          1.0260530431501655,
          1.0779189253750605,
          1.0092499537989719,
          1.015303965811156,
          1.0590276401010252,
          0.9795814632149555,
          0.9556539199720483,
          0.9135835062314253,
          0.9242713981918459,
          0.9112774639796077,
          0.9868874301952573,
          1.0614776265850319,
          0.9696015691331081,
          0.9797843277325925,
          0.9690280902126863,
          0.9817453835962267,
          0.936207850956932,
          1.0104224974752052,
          1.015903978219245,
          0.937973200268195,
          0.9067067175319155,
          0.9181126455665277,
          0.988748015685713,
          1.044658107671861,
          1.0436622273436875,
          1.1739070330020702,
          1.052951546252794,
          1.0345298542130366,
          1.0775267903943428,
          1.021016913313344,
          1.000227310797882,
          1.0464583765841748,
          1.0792483482442636,
          0.9794208848418847,
          0.9727671459359905,
          0.9477108790580251,
          0.957232947205589,
          0.9035444078714825,
          0.9594385271311239,
          1.0354497147261763,
          0.9729750700138801,
          0.9934641064527526,
          0.9862255466545018,
          0.9683923745508995,
          0.9750153550354195,
          0.9327393991740308,
          1.0428280514082024,
          1.0114894018587703,
          0.9971199831545455,
          0.9817611440470666,
          0.9622347125700804,
          0.9691998039019387,
          1.0485872602729318,
          1.0808727794487212,
          0.994831350981226,
          0.9430588414606774,
          0.9741428367072611,
          1.0089540743379428,
          0.9831495939361353,
          1.060200607605283,
          1.0636673954409417,
          1.0034553843511278,
          0.9793371034361117,
          1.030969960790853,
          1.0340937381505817,
          1.044005335120172,
          1.0386291340631686,
          1.082390214710577,
          1.0402684898429402,
          1.0180335682829487,
          0.9686872629986526,
          0.9418759296401231,
          0.9497740295148045,
          0.9748937974877503,
          1.0894518553266757,
          0.9830699814853965,
          1.0087755496245434,
          0.9761951311032189,
          1.0042868530481086,
          0.9843699552274685,
          0.9565217735540953,
          1.018043854832907,
          0.961487233802005,
          0.9942605788670588,
          1.020817574473136,
          1.0320547429138611,
          0.9868716717943963,
          1.0356351787396099,
          1.0385165093808548,
          0.9867712393195641,
          0.9909522401126277,
          0.9830428962048706,
          0.9463614965355823,
          0.9653808849217914,
          0.9808710158692691,
          0.9874984709892168,
          0.9995765384226148,
          0.9935393349815328,
          1.1088278881524034,
          0.9972745105583867,
          0.9762923505941031,
          0.9529995665937943,
          1.0033335408682,
          0.9911263676762343,
          1.017259372542559,
          1.0658851524717015,
          0.9811146792733922,
          0.987169109388005,
          1.033306138264434,
          1.1019377456311097,
          0.9729057794251172,
          0.9762218916386277,
          0.9757601654687686,
          0.968899698436915,
          0.9592085398241869,
          1.0282456600642922,
          1.1581561194733767,
          1.0166453859180158,
          1.012456901175201,
          0.9893563585423695,
          0.9620955627163221,
          0.9886383499186386,
          0.9778602473895972,
          1.011935298518787,
          0.9890918874095859,
          0.9984348310870029,
          0.9648127024701452,
          0.9603471481919909,
          0.943789226068192,
          0.9936498767658212,
          1.1247076786803103,
          1.0359601240465155,
          0.9667862204578518,
          0.9978825513601411,
          0.9855843410194766,
          1.0037059435628346,
          0.988049006691838,
          1.0405719837592173,
          1.0058346109955412,
          0.9448715311626805,
          0.9810114547831632,
          0.97421593871551,
          0.964333847664315,
          1.003050432239605,
          1.1122340701971767,
          1.0029670629439515,
          1.0347382123211117,
          1.0509638985794887,
          1.0203580312486484,
          null,
          null,
          null,
          null,
          null,
          null,
          null,
          null,
          null,
          null,
          null,
          null,
          null,
          null,
          null
         ],
         "yaxis": "y"
        }
       ],
       "layout": {
        "legend": {
         "tracegroupgap": 0
        },
        "margin": {
         "t": 60
        },
        "template": {
         "data": {
          "bar": [
           {
            "error_x": {
             "color": "#2a3f5f"
            },
            "error_y": {
             "color": "#2a3f5f"
            },
            "marker": {
             "line": {
              "color": "#E5ECF6",
              "width": 0.5
             },
             "pattern": {
              "fillmode": "overlay",
              "size": 10,
              "solidity": 0.2
             }
            },
            "type": "bar"
           }
          ],
          "barpolar": [
           {
            "marker": {
             "line": {
              "color": "#E5ECF6",
              "width": 0.5
             },
             "pattern": {
              "fillmode": "overlay",
              "size": 10,
              "solidity": 0.2
             }
            },
            "type": "barpolar"
           }
          ],
          "carpet": [
           {
            "aaxis": {
             "endlinecolor": "#2a3f5f",
             "gridcolor": "white",
             "linecolor": "white",
             "minorgridcolor": "white",
             "startlinecolor": "#2a3f5f"
            },
            "baxis": {
             "endlinecolor": "#2a3f5f",
             "gridcolor": "white",
             "linecolor": "white",
             "minorgridcolor": "white",
             "startlinecolor": "#2a3f5f"
            },
            "type": "carpet"
           }
          ],
          "choropleth": [
           {
            "colorbar": {
             "outlinewidth": 0,
             "ticks": ""
            },
            "type": "choropleth"
           }
          ],
          "contour": [
           {
            "colorbar": {
             "outlinewidth": 0,
             "ticks": ""
            },
            "colorscale": [
             [
              0,
              "#0d0887"
             ],
             [
              0.1111111111111111,
              "#46039f"
             ],
             [
              0.2222222222222222,
              "#7201a8"
             ],
             [
              0.3333333333333333,
              "#9c179e"
             ],
             [
              0.4444444444444444,
              "#bd3786"
             ],
             [
              0.5555555555555556,
              "#d8576b"
             ],
             [
              0.6666666666666666,
              "#ed7953"
             ],
             [
              0.7777777777777778,
              "#fb9f3a"
             ],
             [
              0.8888888888888888,
              "#fdca26"
             ],
             [
              1,
              "#f0f921"
             ]
            ],
            "type": "contour"
           }
          ],
          "contourcarpet": [
           {
            "colorbar": {
             "outlinewidth": 0,
             "ticks": ""
            },
            "type": "contourcarpet"
           }
          ],
          "heatmap": [
           {
            "colorbar": {
             "outlinewidth": 0,
             "ticks": ""
            },
            "colorscale": [
             [
              0,
              "#0d0887"
             ],
             [
              0.1111111111111111,
              "#46039f"
             ],
             [
              0.2222222222222222,
              "#7201a8"
             ],
             [
              0.3333333333333333,
              "#9c179e"
             ],
             [
              0.4444444444444444,
              "#bd3786"
             ],
             [
              0.5555555555555556,
              "#d8576b"
             ],
             [
              0.6666666666666666,
              "#ed7953"
             ],
             [
              0.7777777777777778,
              "#fb9f3a"
             ],
             [
              0.8888888888888888,
              "#fdca26"
             ],
             [
              1,
              "#f0f921"
             ]
            ],
            "type": "heatmap"
           }
          ],
          "heatmapgl": [
           {
            "colorbar": {
             "outlinewidth": 0,
             "ticks": ""
            },
            "colorscale": [
             [
              0,
              "#0d0887"
             ],
             [
              0.1111111111111111,
              "#46039f"
             ],
             [
              0.2222222222222222,
              "#7201a8"
             ],
             [
              0.3333333333333333,
              "#9c179e"
             ],
             [
              0.4444444444444444,
              "#bd3786"
             ],
             [
              0.5555555555555556,
              "#d8576b"
             ],
             [
              0.6666666666666666,
              "#ed7953"
             ],
             [
              0.7777777777777778,
              "#fb9f3a"
             ],
             [
              0.8888888888888888,
              "#fdca26"
             ],
             [
              1,
              "#f0f921"
             ]
            ],
            "type": "heatmapgl"
           }
          ],
          "histogram": [
           {
            "marker": {
             "pattern": {
              "fillmode": "overlay",
              "size": 10,
              "solidity": 0.2
             }
            },
            "type": "histogram"
           }
          ],
          "histogram2d": [
           {
            "colorbar": {
             "outlinewidth": 0,
             "ticks": ""
            },
            "colorscale": [
             [
              0,
              "#0d0887"
             ],
             [
              0.1111111111111111,
              "#46039f"
             ],
             [
              0.2222222222222222,
              "#7201a8"
             ],
             [
              0.3333333333333333,
              "#9c179e"
             ],
             [
              0.4444444444444444,
              "#bd3786"
             ],
             [
              0.5555555555555556,
              "#d8576b"
             ],
             [
              0.6666666666666666,
              "#ed7953"
             ],
             [
              0.7777777777777778,
              "#fb9f3a"
             ],
             [
              0.8888888888888888,
              "#fdca26"
             ],
             [
              1,
              "#f0f921"
             ]
            ],
            "type": "histogram2d"
           }
          ],
          "histogram2dcontour": [
           {
            "colorbar": {
             "outlinewidth": 0,
             "ticks": ""
            },
            "colorscale": [
             [
              0,
              "#0d0887"
             ],
             [
              0.1111111111111111,
              "#46039f"
             ],
             [
              0.2222222222222222,
              "#7201a8"
             ],
             [
              0.3333333333333333,
              "#9c179e"
             ],
             [
              0.4444444444444444,
              "#bd3786"
             ],
             [
              0.5555555555555556,
              "#d8576b"
             ],
             [
              0.6666666666666666,
              "#ed7953"
             ],
             [
              0.7777777777777778,
              "#fb9f3a"
             ],
             [
              0.8888888888888888,
              "#fdca26"
             ],
             [
              1,
              "#f0f921"
             ]
            ],
            "type": "histogram2dcontour"
           }
          ],
          "mesh3d": [
           {
            "colorbar": {
             "outlinewidth": 0,
             "ticks": ""
            },
            "type": "mesh3d"
           }
          ],
          "parcoords": [
           {
            "line": {
             "colorbar": {
              "outlinewidth": 0,
              "ticks": ""
             }
            },
            "type": "parcoords"
           }
          ],
          "pie": [
           {
            "automargin": true,
            "type": "pie"
           }
          ],
          "scatter": [
           {
            "marker": {
             "colorbar": {
              "outlinewidth": 0,
              "ticks": ""
             }
            },
            "type": "scatter"
           }
          ],
          "scatter3d": [
           {
            "line": {
             "colorbar": {
              "outlinewidth": 0,
              "ticks": ""
             }
            },
            "marker": {
             "colorbar": {
              "outlinewidth": 0,
              "ticks": ""
             }
            },
            "type": "scatter3d"
           }
          ],
          "scattercarpet": [
           {
            "marker": {
             "colorbar": {
              "outlinewidth": 0,
              "ticks": ""
             }
            },
            "type": "scattercarpet"
           }
          ],
          "scattergeo": [
           {
            "marker": {
             "colorbar": {
              "outlinewidth": 0,
              "ticks": ""
             }
            },
            "type": "scattergeo"
           }
          ],
          "scattergl": [
           {
            "marker": {
             "colorbar": {
              "outlinewidth": 0,
              "ticks": ""
             }
            },
            "type": "scattergl"
           }
          ],
          "scattermapbox": [
           {
            "marker": {
             "colorbar": {
              "outlinewidth": 0,
              "ticks": ""
             }
            },
            "type": "scattermapbox"
           }
          ],
          "scatterpolar": [
           {
            "marker": {
             "colorbar": {
              "outlinewidth": 0,
              "ticks": ""
             }
            },
            "type": "scatterpolar"
           }
          ],
          "scatterpolargl": [
           {
            "marker": {
             "colorbar": {
              "outlinewidth": 0,
              "ticks": ""
             }
            },
            "type": "scatterpolargl"
           }
          ],
          "scatterternary": [
           {
            "marker": {
             "colorbar": {
              "outlinewidth": 0,
              "ticks": ""
             }
            },
            "type": "scatterternary"
           }
          ],
          "surface": [
           {
            "colorbar": {
             "outlinewidth": 0,
             "ticks": ""
            },
            "colorscale": [
             [
              0,
              "#0d0887"
             ],
             [
              0.1111111111111111,
              "#46039f"
             ],
             [
              0.2222222222222222,
              "#7201a8"
             ],
             [
              0.3333333333333333,
              "#9c179e"
             ],
             [
              0.4444444444444444,
              "#bd3786"
             ],
             [
              0.5555555555555556,
              "#d8576b"
             ],
             [
              0.6666666666666666,
              "#ed7953"
             ],
             [
              0.7777777777777778,
              "#fb9f3a"
             ],
             [
              0.8888888888888888,
              "#fdca26"
             ],
             [
              1,
              "#f0f921"
             ]
            ],
            "type": "surface"
           }
          ],
          "table": [
           {
            "cells": {
             "fill": {
              "color": "#EBF0F8"
             },
             "line": {
              "color": "white"
             }
            },
            "header": {
             "fill": {
              "color": "#C8D4E3"
             },
             "line": {
              "color": "white"
             }
            },
            "type": "table"
           }
          ]
         },
         "layout": {
          "annotationdefaults": {
           "arrowcolor": "#2a3f5f",
           "arrowhead": 0,
           "arrowwidth": 1
          },
          "autotypenumbers": "strict",
          "coloraxis": {
           "colorbar": {
            "outlinewidth": 0,
            "ticks": ""
           }
          },
          "colorscale": {
           "diverging": [
            [
             0,
             "#8e0152"
            ],
            [
             0.1,
             "#c51b7d"
            ],
            [
             0.2,
             "#de77ae"
            ],
            [
             0.3,
             "#f1b6da"
            ],
            [
             0.4,
             "#fde0ef"
            ],
            [
             0.5,
             "#f7f7f7"
            ],
            [
             0.6,
             "#e6f5d0"
            ],
            [
             0.7,
             "#b8e186"
            ],
            [
             0.8,
             "#7fbc41"
            ],
            [
             0.9,
             "#4d9221"
            ],
            [
             1,
             "#276419"
            ]
           ],
           "sequential": [
            [
             0,
             "#0d0887"
            ],
            [
             0.1111111111111111,
             "#46039f"
            ],
            [
             0.2222222222222222,
             "#7201a8"
            ],
            [
             0.3333333333333333,
             "#9c179e"
            ],
            [
             0.4444444444444444,
             "#bd3786"
            ],
            [
             0.5555555555555556,
             "#d8576b"
            ],
            [
             0.6666666666666666,
             "#ed7953"
            ],
            [
             0.7777777777777778,
             "#fb9f3a"
            ],
            [
             0.8888888888888888,
             "#fdca26"
            ],
            [
             1,
             "#f0f921"
            ]
           ],
           "sequentialminus": [
            [
             0,
             "#0d0887"
            ],
            [
             0.1111111111111111,
             "#46039f"
            ],
            [
             0.2222222222222222,
             "#7201a8"
            ],
            [
             0.3333333333333333,
             "#9c179e"
            ],
            [
             0.4444444444444444,
             "#bd3786"
            ],
            [
             0.5555555555555556,
             "#d8576b"
            ],
            [
             0.6666666666666666,
             "#ed7953"
            ],
            [
             0.7777777777777778,
             "#fb9f3a"
            ],
            [
             0.8888888888888888,
             "#fdca26"
            ],
            [
             1,
             "#f0f921"
            ]
           ]
          },
          "colorway": [
           "#636efa",
           "#EF553B",
           "#00cc96",
           "#ab63fa",
           "#FFA15A",
           "#19d3f3",
           "#FF6692",
           "#B6E880",
           "#FF97FF",
           "#FECB52"
          ],
          "font": {
           "color": "#2a3f5f"
          },
          "geo": {
           "bgcolor": "white",
           "lakecolor": "white",
           "landcolor": "#E5ECF6",
           "showlakes": true,
           "showland": true,
           "subunitcolor": "white"
          },
          "hoverlabel": {
           "align": "left"
          },
          "hovermode": "closest",
          "mapbox": {
           "style": "light"
          },
          "paper_bgcolor": "white",
          "plot_bgcolor": "#E5ECF6",
          "polar": {
           "angularaxis": {
            "gridcolor": "white",
            "linecolor": "white",
            "ticks": ""
           },
           "bgcolor": "#E5ECF6",
           "radialaxis": {
            "gridcolor": "white",
            "linecolor": "white",
            "ticks": ""
           }
          },
          "scene": {
           "xaxis": {
            "backgroundcolor": "#E5ECF6",
            "gridcolor": "white",
            "gridwidth": 2,
            "linecolor": "white",
            "showbackground": true,
            "ticks": "",
            "zerolinecolor": "white"
           },
           "yaxis": {
            "backgroundcolor": "#E5ECF6",
            "gridcolor": "white",
            "gridwidth": 2,
            "linecolor": "white",
            "showbackground": true,
            "ticks": "",
            "zerolinecolor": "white"
           },
           "zaxis": {
            "backgroundcolor": "#E5ECF6",
            "gridcolor": "white",
            "gridwidth": 2,
            "linecolor": "white",
            "showbackground": true,
            "ticks": "",
            "zerolinecolor": "white"
           }
          },
          "shapedefaults": {
           "line": {
            "color": "#2a3f5f"
           }
          },
          "ternary": {
           "aaxis": {
            "gridcolor": "white",
            "linecolor": "white",
            "ticks": ""
           },
           "baxis": {
            "gridcolor": "white",
            "linecolor": "white",
            "ticks": ""
           },
           "bgcolor": "#E5ECF6",
           "caxis": {
            "gridcolor": "white",
            "linecolor": "white",
            "ticks": ""
           }
          },
          "title": {
           "x": 0.05
          },
          "xaxis": {
           "automargin": true,
           "gridcolor": "white",
           "linecolor": "white",
           "ticks": "",
           "title": {
            "standoff": 15
           },
           "zerolinecolor": "white",
           "zerolinewidth": 2
          },
          "yaxis": {
           "automargin": true,
           "gridcolor": "white",
           "linecolor": "white",
           "ticks": "",
           "title": {
            "standoff": 15
           },
           "zerolinecolor": "white",
           "zerolinewidth": 2
          }
         }
        },
        "xaxis": {
         "anchor": "y",
         "domain": [
          0,
          1
         ],
         "rangeslider": {
          "visible": true
         },
         "title": {
          "text": "x"
         }
        },
        "yaxis": {
         "anchor": "x",
         "domain": [
          0,
          1
         ],
         "title": {
          "text": "y"
         }
        }
       }
      }
     },
     "metadata": {},
     "output_type": "display_data"
    }
   ],
   "source": [
    "fig = px.line(x = tariff_dt.index, y = tariff_decomps.Std_Residual)\n",
    "fig.update_xaxes(rangeslider_visible=True)"
   ]
  },
  {
   "cell_type": "code",
   "execution_count": 38,
   "metadata": {},
   "outputs": [],
   "source": [
    "# Find 7, 14, 30 day rolling variance and mean for each tariff\n",
    "tariff_dt.columns\n",
    "\n",
    "for name in tariff_dt.columns:\n",
    "    df = (pd.DataFrame(tariff_dt[name])).rename(columns = {name:'KW'})\n",
    "    df['7d_var'] = df['KW'].rolling(7).var()\n",
    "    df['14d_var'] = df['KW'].rolling(14).var()\n",
    "    df['30d_var'] = df['KW'].rolling(30).var()\n",
    "    df['7d_avg'] = df['KW'].rolling(7).mean()\n",
    "    df['14d_avg'] = df['KW'].rolling(14).mean()\n",
    "    df['30d_avg'] = df['KW'].rolling(30).mean()\n",
    "    globals()[name + '_df'] = df.copy()"
   ]
  },
  {
   "cell_type": "code",
   "execution_count": 39,
   "metadata": {},
   "outputs": [
    {
     "data": {
      "text/html": [
       "<div>\n",
       "<style scoped>\n",
       "    .dataframe tbody tr th:only-of-type {\n",
       "        vertical-align: middle;\n",
       "    }\n",
       "\n",
       "    .dataframe tbody tr th {\n",
       "        vertical-align: top;\n",
       "    }\n",
       "\n",
       "    .dataframe thead th {\n",
       "        text-align: right;\n",
       "    }\n",
       "</style>\n",
       "<table border=\"1\" class=\"dataframe\">\n",
       "  <thead>\n",
       "    <tr style=\"text-align: right;\">\n",
       "      <th></th>\n",
       "      <th>KW</th>\n",
       "      <th>7d_var</th>\n",
       "      <th>14d_var</th>\n",
       "      <th>30d_var</th>\n",
       "      <th>7d_avg</th>\n",
       "      <th>14d_avg</th>\n",
       "      <th>30d_avg</th>\n",
       "    </tr>\n",
       "  </thead>\n",
       "  <tbody>\n",
       "    <tr>\n",
       "      <th>2011-11-23</th>\n",
       "      <td>0.148062</td>\n",
       "      <td>NaN</td>\n",
       "      <td>NaN</td>\n",
       "      <td>NaN</td>\n",
       "      <td>NaN</td>\n",
       "      <td>NaN</td>\n",
       "      <td>NaN</td>\n",
       "    </tr>\n",
       "    <tr>\n",
       "      <th>2011-11-24</th>\n",
       "      <td>0.122387</td>\n",
       "      <td>NaN</td>\n",
       "      <td>NaN</td>\n",
       "      <td>NaN</td>\n",
       "      <td>NaN</td>\n",
       "      <td>NaN</td>\n",
       "      <td>NaN</td>\n",
       "    </tr>\n",
       "    <tr>\n",
       "      <th>2011-11-25</th>\n",
       "      <td>0.115716</td>\n",
       "      <td>NaN</td>\n",
       "      <td>NaN</td>\n",
       "      <td>NaN</td>\n",
       "      <td>NaN</td>\n",
       "      <td>NaN</td>\n",
       "      <td>NaN</td>\n",
       "    </tr>\n",
       "    <tr>\n",
       "      <th>2011-11-26</th>\n",
       "      <td>0.126168</td>\n",
       "      <td>NaN</td>\n",
       "      <td>NaN</td>\n",
       "      <td>NaN</td>\n",
       "      <td>NaN</td>\n",
       "      <td>NaN</td>\n",
       "      <td>NaN</td>\n",
       "    </tr>\n",
       "    <tr>\n",
       "      <th>2011-11-27</th>\n",
       "      <td>0.118453</td>\n",
       "      <td>NaN</td>\n",
       "      <td>NaN</td>\n",
       "      <td>NaN</td>\n",
       "      <td>NaN</td>\n",
       "      <td>NaN</td>\n",
       "      <td>NaN</td>\n",
       "    </tr>\n",
       "    <tr>\n",
       "      <th>2011-11-28</th>\n",
       "      <td>0.111353</td>\n",
       "      <td>NaN</td>\n",
       "      <td>NaN</td>\n",
       "      <td>NaN</td>\n",
       "      <td>NaN</td>\n",
       "      <td>NaN</td>\n",
       "      <td>NaN</td>\n",
       "    </tr>\n",
       "    <tr>\n",
       "      <th>2011-11-29</th>\n",
       "      <td>0.103734</td>\n",
       "      <td>0.000198</td>\n",
       "      <td>NaN</td>\n",
       "      <td>NaN</td>\n",
       "      <td>0.120839</td>\n",
       "      <td>NaN</td>\n",
       "      <td>NaN</td>\n",
       "    </tr>\n",
       "    <tr>\n",
       "      <th>2011-11-30</th>\n",
       "      <td>0.104359</td>\n",
       "      <td>0.000074</td>\n",
       "      <td>NaN</td>\n",
       "      <td>NaN</td>\n",
       "      <td>0.114596</td>\n",
       "      <td>NaN</td>\n",
       "      <td>NaN</td>\n",
       "    </tr>\n",
       "    <tr>\n",
       "      <th>2011-12-01</th>\n",
       "      <td>0.108264</td>\n",
       "      <td>0.000066</td>\n",
       "      <td>NaN</td>\n",
       "      <td>NaN</td>\n",
       "      <td>0.112578</td>\n",
       "      <td>NaN</td>\n",
       "      <td>NaN</td>\n",
       "    </tr>\n",
       "    <tr>\n",
       "      <th>2011-12-02</th>\n",
       "      <td>0.114415</td>\n",
       "      <td>0.000065</td>\n",
       "      <td>NaN</td>\n",
       "      <td>NaN</td>\n",
       "      <td>0.112392</td>\n",
       "      <td>NaN</td>\n",
       "      <td>NaN</td>\n",
       "    </tr>\n",
       "  </tbody>\n",
       "</table>\n",
       "</div>"
      ],
      "text/plain": [
       "                  KW    7d_var  14d_var  30d_var    7d_avg  14d_avg  30d_avg\n",
       "2011-11-23  0.148062       NaN      NaN      NaN       NaN      NaN      NaN\n",
       "2011-11-24  0.122387       NaN      NaN      NaN       NaN      NaN      NaN\n",
       "2011-11-25  0.115716       NaN      NaN      NaN       NaN      NaN      NaN\n",
       "2011-11-26  0.126168       NaN      NaN      NaN       NaN      NaN      NaN\n",
       "2011-11-27  0.118453       NaN      NaN      NaN       NaN      NaN      NaN\n",
       "2011-11-28  0.111353       NaN      NaN      NaN       NaN      NaN      NaN\n",
       "2011-11-29  0.103734  0.000198      NaN      NaN  0.120839      NaN      NaN\n",
       "2011-11-30  0.104359  0.000074      NaN      NaN  0.114596      NaN      NaN\n",
       "2011-12-01  0.108264  0.000066      NaN      NaN  0.112578      NaN      NaN\n",
       "2011-12-02  0.114415  0.000065      NaN      NaN  0.112392      NaN      NaN"
      ]
     },
     "execution_count": 39,
     "metadata": {},
     "output_type": "execute_result"
    }
   ],
   "source": [
    "Std_df.head(10)"
   ]
  },
  {
   "cell_type": "code",
   "execution_count": 40,
   "metadata": {},
   "outputs": [
    {
     "data": {
      "image/png": "[encoded data removed]",
      "text/plain": [
       "<Figure size 720x576 with 2 Axes>"
      ]
     },
     "metadata": {
      "needs_background": "light"
     },
     "output_type": "display_data"
    }
   ],
   "source": [
    "plt.figure(figsize = (10,8))\n",
    "sns.heatmap(Std_df.corr(), annot = True, vmin = -1, vmax = 1, cmap = 'coolwarm')\n",
    "plt.title('Correlation Matrix of Extracted Features for Standard Tariff', fontsize = 16)\n",
    "plt.show()"
   ]
  },
  {
   "cell_type": "code",
   "execution_count": 41,
   "metadata": {},
   "outputs": [
    {
     "data": {
      "text/plain": [
       "<AxesSubplot:>"
      ]
     },
     "execution_count": 41,
     "metadata": {},
     "output_type": "execute_result"
    },
    {
     "data": {
      "image/png": "[encoded data removed]",
      "text/plain": [
       "<Figure size 432x288 with 2 Axes>"
      ]
     },
     "metadata": {
      "needs_background": "light"
     },
     "output_type": "display_data"
    }
   ],
   "source": [
    "sns.heatmap((Std_df.drop(columns = ['14d_avg', '30d_avg', '30d_var', '7d_var'])).corr(), annot = True, vmin = -1, vmax = 1, cmap = 'coolwarm')"
   ]
  },
  {
   "cell_type": "markdown",
   "metadata": {},
   "source": [
    "- Fill NAs\n",
    "- Moving avg\n",
    "- Decompose\n",
    "- Compare variance at different intervals"
   ]
  }
 ],
 "metadata": {
  "kernelspec": {
   "display_name": "Python 3.9.12 ('base')",
   "language": "python",
   "name": "python3"
  },
  "language_info": {
   "codemirror_mode": {
    "name": "ipython",
    "version": 3
   },
   "file_extension": ".py",
   "mimetype": "text/x-python",
   "name": "python",
   "nbconvert_exporter": "python",
   "pygments_lexer": "ipython3",
   "version": "3.9.12"
  },
  "orig_nbformat": 4,
  "vscode": {
   "interpreter": {
    "hash": "be60cb7fb4d9d69d6e403a674e60ca79d6955998b0c6f72fcee7dc4049b98c24"
   }
  }
 },
 "nbformat": 4,
 "nbformat_minor": 2
}
