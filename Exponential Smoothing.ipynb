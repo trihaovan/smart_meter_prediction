{
 "cells": [
  {
   "cell_type": "markdown",
   "metadata": {},
   "source": [
    "# *Exponential Smoothing*"
   ]
  },
  {
   "cell_type": "code",
   "execution_count": 7,
   "metadata": {},
   "outputs": [],
   "source": [
    "import pandas as pd\n",
    "from statsmodels.tsa.holtwinters import ExponentialSmoothing\n",
    "import plotly.graph_objects as go\n",
    "from sklearn.metrics import mean_absolute_percentage_error\n",
    "import numpy as np\n",
    "from sklearn.model_selection import TimeSeriesSplit"
   ]
  },
  {
   "cell_type": "code",
   "execution_count": 8,
   "metadata": {},
   "outputs": [],
   "source": [
    "wks_df = pd.read_pickle('data/LCL_unstack_wks.pkl')"
   ]
  },
  {
   "cell_type": "code",
   "execution_count": 9,
   "metadata": {},
   "outputs": [
    {
     "data": {
      "text/plain": [
       "DatetimeIndex(['2012-01-01', '2012-01-08', '2012-01-15', '2012-01-22',\n",
       "               '2012-01-29', '2012-02-05', '2012-02-12', '2012-02-19',\n",
       "               '2012-02-26', '2012-03-04',\n",
       "               ...\n",
       "               '2013-12-29', '2014-01-05', '2014-01-12', '2014-01-19',\n",
       "               '2014-01-26', '2014-02-02', '2014-02-09', '2014-02-16',\n",
       "               '2014-02-23', '2014-03-02'],\n",
       "              dtype='datetime64[ns]', name='DateTime', length=114, freq='W-SUN')"
      ]
     },
     "execution_count": 9,
     "metadata": {},
     "output_type": "execute_result"
    }
   ],
   "source": [
    "wks_df.index"
   ]
  },
  {
   "cell_type": "markdown",
   "metadata": {},
   "source": [
    "Exponential smoothing is a time series method that considers a window of past data points, assigning exponentially reduced weights to points further away to that being predicted. A simple exponential smoothing algorithm looks like:\n",
    "\n",
    "$$ \\ell_0 = y_0 $$\n",
    "$$ \\hat y_{t+h|t} = \\ell_t = \\alpha y_t + (1-\\alpha)\\ell_{t -1}$$\n",
    "$$t>0, \\ \\ 0<\\alpha<1$$\n",
    "\n",
    "Where $\\hat y_{t+h|t}$ is the predicted point, $t$ is time, $y$ is the actual data point, and $\\alpha$ is a smoothing factor.\n",
    "\n",
    "Expanding to $\\ell_{t-2}$, and substituting $\\ell_{t-1}$ we can see the exponential nature of this formula.\n",
    "\n",
    "$$  \\ell_{t-1} = \\alpha y_{t-1} + (1-\\alpha)\\ell_{t-2} \\\\\n",
    "\\ell_t = \\alpha y_t + (1-\\alpha)y_{t -1} +(1-\\alpha)^2\\ell_{t-2}$$\n",
    "\n",
    "We can see that as the number of terms increases, the weighing progresses geometrically by a factor of $(1-\\alpha)$.\n",
    "\n",
    "The Holt-Winters method, otherwise known as triple exponential smoothing, is a modification of simple exponential smoothing. As the name suggests, two additional formulae are considered, one accounting for a trend in the data, and another for the seasonality.\n",
    "\n",
    "For a multiplicative model:\n",
    "\n",
    "$$ \\ell_t = \\alpha \\frac {y_t}{s_{t-m}} + (1-\\alpha)(\\ell_{t-1} + b_{t-1})\\\\\n",
    "b_t = \\beta(\\ell_t - \\ell_{t-1}) + (1-\\beta)b_{t-1} \\\\\n",
    "s_t = \\gamma \\frac {y_t}{\\ell_{t-1}+b_{t-1}}$$\n",
    "\n",
    "Where $b$ is the trend component, $s$ is the seasonal component, $\\beta$ and $\\gamma$ are their respective smoothing factors, and $m$ is the seasonal period.\n",
    "\n",
    "The multiplicative forecast equation combines the smoothing equations:\n",
    "\n",
    "$$\\hat y_{t+h|t} = (\\ell_t + hb_t)s_{t+1+(h-1)\\mod m}\n",
    "\n",
    "\n",
    "\n"
   ]
  },
  {
   "cell_type": "markdown",
   "metadata": {},
   "source": [
    "---\n",
    "## *Standard Tariff*"
   ]
  },
  {
   "cell_type": "markdown",
   "metadata": {},
   "source": [
    "Whilst a cross validated evaluation would result in a better understanding of how the model would perform on other datasets and thus improve robustness, this was not possible as the `ExponentialSmoothing` API requires two full seasonal cycles to run. Running a cross validation naturally reduces the amount of data available and results in an error when feeding the smaller splits into the model. \n",
    "\n",
    "We will use only a single train-test split and evaluate the MAPEs, keeping in mind that this may not necessarily be an optimal comparison as there is a possibility that the forecast could fit especially well or poorly out of chance, especially given the extremely small test split that required for the model to have enough training data."
   ]
  },
  {
   "cell_type": "code",
   "execution_count": 17,
   "metadata": {},
   "outputs": [],
   "source": [
    "Std_test = wks_df['Std'].tail(round(0.09*wks_df[\"Std\"].count()))\n",
    "Std_train = wks_df['Std'].loc[wks_df.index < Std_test.index[0]]"
   ]
  },
  {
   "cell_type": "code",
   "execution_count": 35,
   "metadata": {},
   "outputs": [
    {
     "name": "stdout",
     "output_type": "stream",
     "text": [
      "\n",
      "\n",
      "===============================    \n",
      "Train MAPE: 2.75%    \n",
      "Test MAPE: 6.6%    \n",
      "===============================    \n",
      "\n",
      "                       ExponentialSmoothing Model Results                       \n",
      "================================================================================\n",
      "Dep. Variable:                      Std   No. Observations:                  104\n",
      "Model:             ExponentialSmoothing   SSE                              0.031\n",
      "Optimized:                         True   AIC                           -732.294\n",
      "Trend:                   Multiplicative   BIC                           -584.208\n",
      "Seasonal:                Multiplicative   AICC                          -580.205\n",
      "Seasonal Periods:                    52   Date:                 Sat, 05 Nov 2022\n",
      "Box-Cox:                          False   Time:                         15:34:42\n",
      "Box-Cox Coeff.:                    None                                         \n",
      "=================================================================================\n",
      "                          coeff                 code              optimized      \n",
      "---------------------------------------------------------------------------------\n",
      "smoothing_level               1.0000000                alpha                 True\n",
      "smoothing_trend              3.2421e-18                 beta                 True\n",
      "smoothing_seasonal           7.4489e-09                gamma                 True\n",
      "initial_level                 0.4493179                  l.0                 True\n",
      "initial_trend                 0.9986034                  b.0                 True\n",
      "initial_seasons.0             1.1671305                  s.0                 True\n",
      "initial_seasons.1             1.1837199                  s.1                 True\n",
      "initial_seasons.2             1.1932215                  s.2                 True\n",
      "initial_seasons.3             1.2898876                  s.3                 True\n",
      "initial_seasons.4             1.2711415                  s.4                 True\n",
      "initial_seasons.5             1.2838408                  s.5                 True\n",
      "initial_seasons.6             1.3104158                  s.6                 True\n",
      "initial_seasons.7             1.2348869                  s.7                 True\n",
      "initial_seasons.8             1.2026228                  s.8                 True\n",
      "initial_seasons.9             1.1851039                  s.9                 True\n",
      "initial_seasons.10            1.1490654                 s.10                 True\n",
      "initial_seasons.11            1.1437272                 s.11                 True\n",
      "initial_seasons.12            1.1070359                 s.12                 True\n",
      "initial_seasons.13            1.0799491                 s.13                 True\n",
      "initial_seasons.14            1.0710037                 s.14                 True\n",
      "initial_seasons.15            1.0130818                 s.15                 True\n",
      "initial_seasons.16            0.9735438                 s.16                 True\n",
      "initial_seasons.17            0.9494429                 s.17                 True\n",
      "initial_seasons.18            0.9091160                 s.18                 True\n",
      "initial_seasons.19            0.8919289                 s.19                 True\n",
      "initial_seasons.20            0.8942524                 s.20                 True\n",
      "initial_seasons.21            0.8407721                 s.21                 True\n",
      "initial_seasons.22            0.8344577                 s.22                 True\n",
      "initial_seasons.23            0.8342204                 s.23                 True\n",
      "initial_seasons.24            0.8510032                 s.24                 True\n",
      "initial_seasons.25            0.8185551                 s.25                 True\n",
      "initial_seasons.26            0.8075837                 s.26                 True\n",
      "initial_seasons.27            0.8117623                 s.27                 True\n",
      "initial_seasons.28            0.7992073                 s.28                 True\n",
      "initial_seasons.29            0.7963950                 s.29                 True\n",
      "initial_seasons.30            0.7900281                 s.30                 True\n",
      "initial_seasons.31            0.7866931                 s.31                 True\n",
      "initial_seasons.32            0.7776915                 s.32                 True\n",
      "initial_seasons.33            0.7775289                 s.33                 True\n",
      "initial_seasons.34            0.7766416                 s.34                 True\n",
      "initial_seasons.35            0.7986572                 s.35                 True\n",
      "initial_seasons.36            0.8094441                 s.36                 True\n",
      "initial_seasons.37            0.8578378                 s.37                 True\n",
      "initial_seasons.38            0.8876999                 s.38                 True\n",
      "initial_seasons.39            0.8964751                 s.39                 True\n",
      "initial_seasons.40            0.9130851                 s.40                 True\n",
      "initial_seasons.41            0.9579951                 s.41                 True\n",
      "initial_seasons.42            0.9797399                 s.42                 True\n",
      "initial_seasons.43            0.9870469                 s.43                 True\n",
      "initial_seasons.44            1.0513498                 s.44                 True\n",
      "initial_seasons.45            1.0918720                 s.45                 True\n",
      "initial_seasons.46            1.0977138                 s.46                 True\n",
      "initial_seasons.47            1.1441773                 s.47                 True\n",
      "initial_seasons.48            1.1788994                 s.48                 True\n",
      "initial_seasons.49            1.2149405                 s.49                 True\n",
      "initial_seasons.50            1.2205558                 s.50                 True\n",
      "initial_seasons.51            1.1765326                 s.51                 True\n",
      "---------------------------------------------------------------------------------\n"
     ]
    }
   ],
   "source": [
    "ES_Std = ExponentialSmoothing(endog = Std_train, seasonal = 'mul', trend = 'mul', seasonal_periods=52).fit()\n",
    "\n",
    "Std_pred_train = ES_Std.predict(Std_train.index[0], end=Std_train.index[-1])\n",
    "Std_pred_test = ES_Std.predict(Std_test.index[0], end=Std_test.index[-1])\n",
    "\n",
    "print(f'\\n\\n===============================\\\n",
    "    \\nTrain MAPE: {round(mean_absolute_percentage_error(Std_train, Std_pred_train)*100, 2)}%\\\n",
    "    \\nTest MAPE: {round(mean_absolute_percentage_error(Std_test, Std_pred_test)*100, 2)}%\\\n",
    "    \\n===============================\\\n",
    "    \\n\\n{ES_Std.summary()}')"
   ]
  },
  {
   "cell_type": "code",
   "execution_count": 36,
   "metadata": {},
   "outputs": [
    {
     "name": "stderr",
     "output_type": "stream",
     "text": [
      "c:\\Users\\triha\\anaconda3\\envs\\timeseries\\lib\\site-packages\\plotly\\graph_objs\\_deprecations.py:378: DeprecationWarning:\n",
      "\n",
      "plotly.graph_objs.Line is deprecated.\n",
      "Please replace it with one of the following more specific types\n",
      "  - plotly.graph_objs.scatter.Line\n",
      "  - plotly.graph_objs.layout.shape.Line\n",
      "  - etc.\n",
      "\n",
      "\n"
     ]
    },
    {
     "data": {
      "application/vnd.plotly.v1+json": {
       "config": {
        "plotlyServerURL": "https://plot.ly"
       },
       "data": [
        {
         "mode": "lines",
         "name": "Train",
         "type": "scatter",
         "x": [
          "2012-01-01T00:00:00",
          "2012-01-08T00:00:00",
          "2012-01-15T00:00:00",
          "2012-01-22T00:00:00",
          "2012-01-29T00:00:00",
          "2012-02-05T00:00:00",
          "2012-02-12T00:00:00",
          "2012-02-19T00:00:00",
          "2012-02-26T00:00:00",
          "2012-03-04T00:00:00",
          "2012-03-11T00:00:00",
          "2012-03-18T00:00:00",
          "2012-03-25T00:00:00",
          "2012-04-01T00:00:00",
          "2012-04-08T00:00:00",
          "2012-04-15T00:00:00",
          "2012-04-22T00:00:00",
          "2012-04-29T00:00:00",
          "2012-05-06T00:00:00",
          "2012-05-13T00:00:00",
          "2012-05-20T00:00:00",
          "2012-05-27T00:00:00",
          "2012-06-03T00:00:00",
          "2012-06-10T00:00:00",
          "2012-06-17T00:00:00",
          "2012-06-24T00:00:00",
          "2012-07-01T00:00:00",
          "2012-07-08T00:00:00",
          "2012-07-15T00:00:00",
          "2012-07-22T00:00:00",
          "2012-07-29T00:00:00",
          "2012-08-05T00:00:00",
          "2012-08-12T00:00:00",
          "2012-08-19T00:00:00",
          "2012-08-26T00:00:00",
          "2012-09-02T00:00:00",
          "2012-09-09T00:00:00",
          "2012-09-16T00:00:00",
          "2012-09-23T00:00:00",
          "2012-09-30T00:00:00",
          "2012-10-07T00:00:00",
          "2012-10-14T00:00:00",
          "2012-10-21T00:00:00",
          "2012-10-28T00:00:00",
          "2012-11-04T00:00:00",
          "2012-11-11T00:00:00",
          "2012-11-18T00:00:00",
          "2012-11-25T00:00:00",
          "2012-12-02T00:00:00",
          "2012-12-09T00:00:00",
          "2012-12-16T00:00:00",
          "2012-12-23T00:00:00",
          "2012-12-30T00:00:00",
          "2013-01-06T00:00:00",
          "2013-01-13T00:00:00",
          "2013-01-20T00:00:00",
          "2013-01-27T00:00:00",
          "2013-02-03T00:00:00",
          "2013-02-10T00:00:00",
          "2013-02-17T00:00:00",
          "2013-02-24T00:00:00",
          "2013-03-03T00:00:00",
          "2013-03-10T00:00:00",
          "2013-03-17T00:00:00",
          "2013-03-24T00:00:00",
          "2013-03-31T00:00:00",
          "2013-04-07T00:00:00",
          "2013-04-14T00:00:00",
          "2013-04-21T00:00:00",
          "2013-04-28T00:00:00",
          "2013-05-05T00:00:00",
          "2013-05-12T00:00:00",
          "2013-05-19T00:00:00",
          "2013-05-26T00:00:00",
          "2013-06-02T00:00:00",
          "2013-06-09T00:00:00",
          "2013-06-16T00:00:00",
          "2013-06-23T00:00:00",
          "2013-06-30T00:00:00",
          "2013-07-07T00:00:00",
          "2013-07-14T00:00:00",
          "2013-07-21T00:00:00",
          "2013-07-28T00:00:00",
          "2013-08-04T00:00:00",
          "2013-08-11T00:00:00",
          "2013-08-18T00:00:00",
          "2013-08-25T00:00:00",
          "2013-09-01T00:00:00",
          "2013-09-08T00:00:00",
          "2013-09-15T00:00:00",
          "2013-09-22T00:00:00",
          "2013-09-29T00:00:00",
          "2013-10-06T00:00:00",
          "2013-10-13T00:00:00",
          "2013-10-20T00:00:00",
          "2013-10-27T00:00:00",
          "2013-11-03T00:00:00",
          "2013-11-10T00:00:00",
          "2013-11-17T00:00:00",
          "2013-11-24T00:00:00",
          "2013-12-01T00:00:00",
          "2013-12-08T00:00:00",
          "2013-12-15T00:00:00",
          "2013-12-22T00:00:00"
         ],
         "y": [
          0.5236691236495972,
          0.5409888029098511,
          0.5327798128128052,
          0.5505416989326477,
          0.5539622902870178,
          0.6221920251846313,
          0.6282930374145508,
          0.5667883157730103,
          0.5284528136253357,
          0.5135840773582458,
          0.5300220847129822,
          0.48556751012802124,
          0.44862616062164307,
          0.41547891497612,
          0.4432447850704193,
          0.44312384724617004,
          0.45309898257255554,
          0.44659480452537537,
          0.4225946068763733,
          0.40405750274658203,
          0.3933129906654358,
          0.3532993197441101,
          0.35541030764579773,
          0.37737181782722473,
          0.37921059131622314,
          0.36019524931907654,
          0.3541603982448578,
          0.36103951930999756,
          0.35835352540016174,
          0.3507564961910248,
          0.3448145091533661,
          0.34738919138908386,
          0.3452768921852112,
          0.3415485918521881,
          0.33893486857414246,
          0.35479551553726196,
          0.35182642936706543,
          0.3592933714389801,
          0.3806418478488922,
          0.40340670943260193,
          0.4089919626712799,
          0.42523908615112305,
          0.43017593026161194,
          0.44983720779418945,
          0.47719505429267883,
          0.4840850234031677,
          0.4776650071144104,
          0.4874187111854553,
          0.524972140789032,
          0.5446231365203857,
          0.5495034456253052,
          0.5156269669532776,
          0.5104268789291382,
          0.5056235194206238,
          0.5211813449859619,
          0.5875231623649597,
          0.5664934515953064,
          0.5090700387954712,
          0.5258785486221313,
          0.5237680077552795,
          0.5335556864738464,
          0.5309303402900696,
          0.4820019006729126,
          0.5241156220436096,
          0.5254493951797485,
          0.5299271941184998,
          0.49970272183418274,
          0.45020344853401184,
          0.40428367257118225,
          0.38764381408691406,
          0.3757123053073883,
          0.37931838631629944,
          0.39171236753463745,
          0.3837336301803589,
          0.375566691160202,
          0.3536539077758789,
          0.3661130964756012,
          0.3562067747116089,
          0.3523232340812683,
          0.3487389385700226,
          0.3398180603981018,
          0.3448590338230133,
          0.34479832649230957,
          0.33901336789131165,
          0.33288517594337463,
          0.33656027913093567,
          0.33807873725891113,
          0.34086039662361145,
          0.35267239809036255,
          0.3864430785179138,
          0.3907618522644043,
          0.3754815459251404,
          0.38401755690574646,
          0.40663430094718933,
          0.4200441837310791,
          0.40562379360198975,
          0.4329831898212433,
          0.46097907423973083,
          0.47140181064605713,
          0.5005305409431458,
          0.4920814037322998,
          0.5016273260116577,
          0.4996145963668823,
          0.4953905940055847
         ]
        },
        {
         "mode": "lines",
         "name": "Test",
         "type": "scatter",
         "x": [
          "2013-12-29T00:00:00",
          "2014-01-05T00:00:00",
          "2014-01-12T00:00:00",
          "2014-01-19T00:00:00",
          "2014-01-26T00:00:00",
          "2014-02-02T00:00:00",
          "2014-02-09T00:00:00",
          "2014-02-16T00:00:00",
          "2014-02-23T00:00:00",
          "2014-03-02T00:00:00"
         ],
         "y": [
          0.5124149918556213,
          0.5125401020050049,
          0.4950611889362335,
          0.4892439544200897,
          0.49827054142951965,
          0.5048059821128845,
          0.4906085729598999,
          0.49373796582221985,
          0.4647781252861023,
          0.4419505000114441
         ]
        },
        {
         "mode": "lines",
         "name": "Test Predictions",
         "type": "scatter",
         "x": [
          "2013-12-29T00:00:00",
          "2014-01-05T00:00:00",
          "2014-01-12T00:00:00",
          "2014-01-19T00:00:00",
          "2014-01-26T00:00:00",
          "2014-02-02T00:00:00",
          "2014-02-09T00:00:00",
          "2014-02-16T00:00:00",
          "2014-02-23T00:00:00",
          "2014-03-02T00:00:00"
         ],
         "y": [
          0.4907454177953731,
          0.4970256895529555,
          0.5003155539043331,
          0.5400920869255795,
          0.5314995482987392,
          0.5360597493312496,
          0.5463918405617515,
          0.5141801419081492,
          0.5000467025196093,
          0.4920742275103985
         ]
        },
        {
         "mode": "lines",
         "name": "Train Predictions",
         "type": "scatter",
         "x": [
          "2012-01-01T00:00:00",
          "2012-01-08T00:00:00",
          "2012-01-15T00:00:00",
          "2012-01-22T00:00:00",
          "2012-01-29T00:00:00",
          "2012-02-05T00:00:00",
          "2012-02-12T00:00:00",
          "2012-02-19T00:00:00",
          "2012-02-26T00:00:00",
          "2012-03-04T00:00:00",
          "2012-03-11T00:00:00",
          "2012-03-18T00:00:00",
          "2012-03-25T00:00:00",
          "2012-04-01T00:00:00",
          "2012-04-08T00:00:00",
          "2012-04-15T00:00:00",
          "2012-04-22T00:00:00",
          "2012-04-29T00:00:00",
          "2012-05-06T00:00:00",
          "2012-05-13T00:00:00",
          "2012-05-20T00:00:00",
          "2012-05-27T00:00:00",
          "2012-06-03T00:00:00",
          "2012-06-10T00:00:00",
          "2012-06-17T00:00:00",
          "2012-06-24T00:00:00",
          "2012-07-01T00:00:00",
          "2012-07-08T00:00:00",
          "2012-07-15T00:00:00",
          "2012-07-22T00:00:00",
          "2012-07-29T00:00:00",
          "2012-08-05T00:00:00",
          "2012-08-12T00:00:00",
          "2012-08-19T00:00:00",
          "2012-08-26T00:00:00",
          "2012-09-02T00:00:00",
          "2012-09-09T00:00:00",
          "2012-09-16T00:00:00",
          "2012-09-23T00:00:00",
          "2012-09-30T00:00:00",
          "2012-10-07T00:00:00",
          "2012-10-14T00:00:00",
          "2012-10-21T00:00:00",
          "2012-10-28T00:00:00",
          "2012-11-04T00:00:00",
          "2012-11-11T00:00:00",
          "2012-11-18T00:00:00",
          "2012-11-25T00:00:00",
          "2012-12-02T00:00:00",
          "2012-12-09T00:00:00",
          "2012-12-16T00:00:00",
          "2012-12-23T00:00:00",
          "2012-12-30T00:00:00",
          "2013-01-06T00:00:00",
          "2013-01-13T00:00:00",
          "2013-01-20T00:00:00",
          "2013-01-27T00:00:00",
          "2013-02-03T00:00:00",
          "2013-02-10T00:00:00",
          "2013-02-17T00:00:00",
          "2013-02-24T00:00:00",
          "2013-03-03T00:00:00",
          "2013-03-10T00:00:00",
          "2013-03-17T00:00:00",
          "2013-03-24T00:00:00",
          "2013-03-31T00:00:00",
          "2013-04-07T00:00:00",
          "2013-04-14T00:00:00",
          "2013-04-21T00:00:00",
          "2013-04-28T00:00:00",
          "2013-05-05T00:00:00",
          "2013-05-12T00:00:00",
          "2013-05-19T00:00:00",
          "2013-05-26T00:00:00",
          "2013-06-02T00:00:00",
          "2013-06-09T00:00:00",
          "2013-06-16T00:00:00",
          "2013-06-23T00:00:00",
          "2013-06-30T00:00:00",
          "2013-07-07T00:00:00",
          "2013-07-14T00:00:00",
          "2013-07-21T00:00:00",
          "2013-07-28T00:00:00",
          "2013-08-04T00:00:00",
          "2013-08-11T00:00:00",
          "2013-08-18T00:00:00",
          "2013-08-25T00:00:00",
          "2013-09-01T00:00:00",
          "2013-09-08T00:00:00",
          "2013-09-15T00:00:00",
          "2013-09-22T00:00:00",
          "2013-09-29T00:00:00",
          "2013-10-06T00:00:00",
          "2013-10-13T00:00:00",
          "2013-10-20T00:00:00",
          "2013-10-27T00:00:00",
          "2013-11-03T00:00:00",
          "2013-11-10T00:00:00",
          "2013-11-17T00:00:00",
          "2013-11-24T00:00:00",
          "2013-12-01T00:00:00",
          "2013-12-08T00:00:00",
          "2013-12-15T00:00:00",
          "2013-12-22T00:00:00"
         ],
         "y": [
          0.5236801796611205,
          0.5303707415742869,
          0.5445696715854427,
          0.5751373570396762,
          0.5417829217261403,
          0.5587152270275898,
          0.6341842505384951,
          0.5912529872953403,
          0.5512088267461214,
          0.5200274550079975,
          0.4972707325757768,
          0.5268230104223994,
          0.46933388110392465,
          0.43703801951446614,
          0.41146199896506136,
          0.4186877121451854,
          0.4252351270438941,
          0.44126501207345803,
          0.42702881237734996,
          0.41402625530483217,
          0.40454432404226676,
          0.36927467760679694,
          0.3501562540448231,
          0.3548130145061465,
          0.38442611666344867,
          0.3642421804939716,
          0.3548710966568815,
          0.3554957231726897,
          0.3549591456209127,
          0.35659380094662446,
          0.34746637234776545,
          0.3428793922013434,
          0.3429346184548911,
          0.3447226186260632,
          0.3406823470833509,
          0.348055960216941,
          0.3590852793042619,
          0.3723401201023955,
          0.3712814413164199,
          0.3838677431761822,
          0.41030727409281426,
          0.42850886933385013,
          0.4342838999891072,
          0.43277899396304004,
          0.47847343992218155,
          0.49489546390873745,
          0.4859953271880098,
          0.4971880383979293,
          0.5015089091258901,
          0.5402659170092338,
          0.5463762019208227,
          0.5289440901071992,
          0.5107920387414507,
          0.5169590302625021,
          0.508970301275711,
          0.562616776826508,
          0.5781760325270703,
          0.5713539050998186,
          0.5188819347421496,
          0.4948761869579936,
          0.5093710307443338,
          0.5250489699029718,
          0.5140660136539693,
          0.4790926640201316,
          0.5065932405823659,
          0.511876887465879,
          0.5248037738251742,
          0.47201771290995553,
          0.4320289285454772,
          0.39372465354089625,
          0.37066055385780905,
          0.3680945195131529,
          0.37977540082230965,
          0.3677718802200904,
          0.380319810626281,
          0.37493552402580643,
          0.3602648426604718,
          0.35166167708600987,
          0.3509415767722145,
          0.35365163218791157,
          0.3428657227465957,
          0.33814935589721007,
          0.34162422848448776,
          0.34286330032498075,
          0.3346661982795819,
          0.3323507948469448,
          0.3357066857567719,
          0.34717678951336967,
          0.3449816736616981,
          0.37323541383873976,
          0.39933701676135497,
          0.3940735137991162,
          0.3819044307918558,
          0.4023426964492318,
          0.4152833918270601,
          0.4225859386279957,
          0.4314454399192004,
          0.44904366592481004,
          0.46279819665530303,
          0.4906688535113471,
          0.5149997728598319,
          0.5064169895109646,
          0.5032419940583612,
          0.4809218034456674
         ]
        }
       ],
       "layout": {
        "template": {
         "data": {
          "bar": [
           {
            "error_x": {
             "color": "#2a3f5f"
            },
            "error_y": {
             "color": "#2a3f5f"
            },
            "marker": {
             "line": {
              "color": "#E5ECF6",
              "width": 0.5
             }
            },
            "type": "bar"
           }
          ],
          "barpolar": [
           {
            "marker": {
             "line": {
              "color": "#E5ECF6",
              "width": 0.5
             }
            },
            "type": "barpolar"
           }
          ],
          "carpet": [
           {
            "aaxis": {
             "endlinecolor": "#2a3f5f",
             "gridcolor": "white",
             "linecolor": "white",
             "minorgridcolor": "white",
             "startlinecolor": "#2a3f5f"
            },
            "baxis": {
             "endlinecolor": "#2a3f5f",
             "gridcolor": "white",
             "linecolor": "white",
             "minorgridcolor": "white",
             "startlinecolor": "#2a3f5f"
            },
            "type": "carpet"
           }
          ],
          "choropleth": [
           {
            "colorbar": {
             "outlinewidth": 0,
             "ticks": ""
            },
            "type": "choropleth"
           }
          ],
          "contour": [
           {
            "colorbar": {
             "outlinewidth": 0,
             "ticks": ""
            },
            "colorscale": [
             [
              0,
              "#0d0887"
             ],
             [
              0.1111111111111111,
              "#46039f"
             ],
             [
              0.2222222222222222,
              "#7201a8"
             ],
             [
              0.3333333333333333,
              "#9c179e"
             ],
             [
              0.4444444444444444,
              "#bd3786"
             ],
             [
              0.5555555555555556,
              "#d8576b"
             ],
             [
              0.6666666666666666,
              "#ed7953"
             ],
             [
              0.7777777777777778,
              "#fb9f3a"
             ],
             [
              0.8888888888888888,
              "#fdca26"
             ],
             [
              1,
              "#f0f921"
             ]
            ],
            "type": "contour"
           }
          ],
          "contourcarpet": [
           {
            "colorbar": {
             "outlinewidth": 0,
             "ticks": ""
            },
            "type": "contourcarpet"
           }
          ],
          "heatmap": [
           {
            "colorbar": {
             "outlinewidth": 0,
             "ticks": ""
            },
            "colorscale": [
             [
              0,
              "#0d0887"
             ],
             [
              0.1111111111111111,
              "#46039f"
             ],
             [
              0.2222222222222222,
              "#7201a8"
             ],
             [
              0.3333333333333333,
              "#9c179e"
             ],
             [
              0.4444444444444444,
              "#bd3786"
             ],
             [
              0.5555555555555556,
              "#d8576b"
             ],
             [
              0.6666666666666666,
              "#ed7953"
             ],
             [
              0.7777777777777778,
              "#fb9f3a"
             ],
             [
              0.8888888888888888,
              "#fdca26"
             ],
             [
              1,
              "#f0f921"
             ]
            ],
            "type": "heatmap"
           }
          ],
          "heatmapgl": [
           {
            "colorbar": {
             "outlinewidth": 0,
             "ticks": ""
            },
            "colorscale": [
             [
              0,
              "#0d0887"
             ],
             [
              0.1111111111111111,
              "#46039f"
             ],
             [
              0.2222222222222222,
              "#7201a8"
             ],
             [
              0.3333333333333333,
              "#9c179e"
             ],
             [
              0.4444444444444444,
              "#bd3786"
             ],
             [
              0.5555555555555556,
              "#d8576b"
             ],
             [
              0.6666666666666666,
              "#ed7953"
             ],
             [
              0.7777777777777778,
              "#fb9f3a"
             ],
             [
              0.8888888888888888,
              "#fdca26"
             ],
             [
              1,
              "#f0f921"
             ]
            ],
            "type": "heatmapgl"
           }
          ],
          "histogram": [
           {
            "marker": {
             "colorbar": {
              "outlinewidth": 0,
              "ticks": ""
             }
            },
            "type": "histogram"
           }
          ],
          "histogram2d": [
           {
            "colorbar": {
             "outlinewidth": 0,
             "ticks": ""
            },
            "colorscale": [
             [
              0,
              "#0d0887"
             ],
             [
              0.1111111111111111,
              "#46039f"
             ],
             [
              0.2222222222222222,
              "#7201a8"
             ],
             [
              0.3333333333333333,
              "#9c179e"
             ],
             [
              0.4444444444444444,
              "#bd3786"
             ],
             [
              0.5555555555555556,
              "#d8576b"
             ],
             [
              0.6666666666666666,
              "#ed7953"
             ],
             [
              0.7777777777777778,
              "#fb9f3a"
             ],
             [
              0.8888888888888888,
              "#fdca26"
             ],
             [
              1,
              "#f0f921"
             ]
            ],
            "type": "histogram2d"
           }
          ],
          "histogram2dcontour": [
           {
            "colorbar": {
             "outlinewidth": 0,
             "ticks": ""
            },
            "colorscale": [
             [
              0,
              "#0d0887"
             ],
             [
              0.1111111111111111,
              "#46039f"
             ],
             [
              0.2222222222222222,
              "#7201a8"
             ],
             [
              0.3333333333333333,
              "#9c179e"
             ],
             [
              0.4444444444444444,
              "#bd3786"
             ],
             [
              0.5555555555555556,
              "#d8576b"
             ],
             [
              0.6666666666666666,
              "#ed7953"
             ],
             [
              0.7777777777777778,
              "#fb9f3a"
             ],
             [
              0.8888888888888888,
              "#fdca26"
             ],
             [
              1,
              "#f0f921"
             ]
            ],
            "type": "histogram2dcontour"
           }
          ],
          "mesh3d": [
           {
            "colorbar": {
             "outlinewidth": 0,
             "ticks": ""
            },
            "type": "mesh3d"
           }
          ],
          "parcoords": [
           {
            "line": {
             "colorbar": {
              "outlinewidth": 0,
              "ticks": ""
             }
            },
            "type": "parcoords"
           }
          ],
          "pie": [
           {
            "automargin": true,
            "type": "pie"
           }
          ],
          "scatter": [
           {
            "marker": {
             "colorbar": {
              "outlinewidth": 0,
              "ticks": ""
             }
            },
            "type": "scatter"
           }
          ],
          "scatter3d": [
           {
            "line": {
             "colorbar": {
              "outlinewidth": 0,
              "ticks": ""
             }
            },
            "marker": {
             "colorbar": {
              "outlinewidth": 0,
              "ticks": ""
             }
            },
            "type": "scatter3d"
           }
          ],
          "scattercarpet": [
           {
            "marker": {
             "colorbar": {
              "outlinewidth": 0,
              "ticks": ""
             }
            },
            "type": "scattercarpet"
           }
          ],
          "scattergeo": [
           {
            "marker": {
             "colorbar": {
              "outlinewidth": 0,
              "ticks": ""
             }
            },
            "type": "scattergeo"
           }
          ],
          "scattergl": [
           {
            "marker": {
             "colorbar": {
              "outlinewidth": 0,
              "ticks": ""
             }
            },
            "type": "scattergl"
           }
          ],
          "scattermapbox": [
           {
            "marker": {
             "colorbar": {
              "outlinewidth": 0,
              "ticks": ""
             }
            },
            "type": "scattermapbox"
           }
          ],
          "scatterpolar": [
           {
            "marker": {
             "colorbar": {
              "outlinewidth": 0,
              "ticks": ""
             }
            },
            "type": "scatterpolar"
           }
          ],
          "scatterpolargl": [
           {
            "marker": {
             "colorbar": {
              "outlinewidth": 0,
              "ticks": ""
             }
            },
            "type": "scatterpolargl"
           }
          ],
          "scatterternary": [
           {
            "marker": {
             "colorbar": {
              "outlinewidth": 0,
              "ticks": ""
             }
            },
            "type": "scatterternary"
           }
          ],
          "surface": [
           {
            "colorbar": {
             "outlinewidth": 0,
             "ticks": ""
            },
            "colorscale": [
             [
              0,
              "#0d0887"
             ],
             [
              0.1111111111111111,
              "#46039f"
             ],
             [
              0.2222222222222222,
              "#7201a8"
             ],
             [
              0.3333333333333333,
              "#9c179e"
             ],
             [
              0.4444444444444444,
              "#bd3786"
             ],
             [
              0.5555555555555556,
              "#d8576b"
             ],
             [
              0.6666666666666666,
              "#ed7953"
             ],
             [
              0.7777777777777778,
              "#fb9f3a"
             ],
             [
              0.8888888888888888,
              "#fdca26"
             ],
             [
              1,
              "#f0f921"
             ]
            ],
            "type": "surface"
           }
          ],
          "table": [
           {
            "cells": {
             "fill": {
              "color": "#EBF0F8"
             },
             "line": {
              "color": "white"
             }
            },
            "header": {
             "fill": {
              "color": "#C8D4E3"
             },
             "line": {
              "color": "white"
             }
            },
            "type": "table"
           }
          ]
         },
         "layout": {
          "annotationdefaults": {
           "arrowcolor": "#2a3f5f",
           "arrowhead": 0,
           "arrowwidth": 1
          },
          "autotypenumbers": "strict",
          "coloraxis": {
           "colorbar": {
            "outlinewidth": 0,
            "ticks": ""
           }
          },
          "colorscale": {
           "diverging": [
            [
             0,
             "#8e0152"
            ],
            [
             0.1,
             "#c51b7d"
            ],
            [
             0.2,
             "#de77ae"
            ],
            [
             0.3,
             "#f1b6da"
            ],
            [
             0.4,
             "#fde0ef"
            ],
            [
             0.5,
             "#f7f7f7"
            ],
            [
             0.6,
             "#e6f5d0"
            ],
            [
             0.7,
             "#b8e186"
            ],
            [
             0.8,
             "#7fbc41"
            ],
            [
             0.9,
             "#4d9221"
            ],
            [
             1,
             "#276419"
            ]
           ],
           "sequential": [
            [
             0,
             "#0d0887"
            ],
            [
             0.1111111111111111,
             "#46039f"
            ],
            [
             0.2222222222222222,
             "#7201a8"
            ],
            [
             0.3333333333333333,
             "#9c179e"
            ],
            [
             0.4444444444444444,
             "#bd3786"
            ],
            [
             0.5555555555555556,
             "#d8576b"
            ],
            [
             0.6666666666666666,
             "#ed7953"
            ],
            [
             0.7777777777777778,
             "#fb9f3a"
            ],
            [
             0.8888888888888888,
             "#fdca26"
            ],
            [
             1,
             "#f0f921"
            ]
           ],
           "sequentialminus": [
            [
             0,
             "#0d0887"
            ],
            [
             0.1111111111111111,
             "#46039f"
            ],
            [
             0.2222222222222222,
             "#7201a8"
            ],
            [
             0.3333333333333333,
             "#9c179e"
            ],
            [
             0.4444444444444444,
             "#bd3786"
            ],
            [
             0.5555555555555556,
             "#d8576b"
            ],
            [
             0.6666666666666666,
             "#ed7953"
            ],
            [
             0.7777777777777778,
             "#fb9f3a"
            ],
            [
             0.8888888888888888,
             "#fdca26"
            ],
            [
             1,
             "#f0f921"
            ]
           ]
          },
          "colorway": [
           "#636efa",
           "#EF553B",
           "#00cc96",
           "#ab63fa",
           "#FFA15A",
           "#19d3f3",
           "#FF6692",
           "#B6E880",
           "#FF97FF",
           "#FECB52"
          ],
          "font": {
           "color": "#2a3f5f"
          },
          "geo": {
           "bgcolor": "white",
           "lakecolor": "white",
           "landcolor": "#E5ECF6",
           "showlakes": true,
           "showland": true,
           "subunitcolor": "white"
          },
          "hoverlabel": {
           "align": "left"
          },
          "hovermode": "closest",
          "mapbox": {
           "style": "light"
          },
          "paper_bgcolor": "white",
          "plot_bgcolor": "#E5ECF6",
          "polar": {
           "angularaxis": {
            "gridcolor": "white",
            "linecolor": "white",
            "ticks": ""
           },
           "bgcolor": "#E5ECF6",
           "radialaxis": {
            "gridcolor": "white",
            "linecolor": "white",
            "ticks": ""
           }
          },
          "scene": {
           "xaxis": {
            "backgroundcolor": "#E5ECF6",
            "gridcolor": "white",
            "gridwidth": 2,
            "linecolor": "white",
            "showbackground": true,
            "ticks": "",
            "zerolinecolor": "white"
           },
           "yaxis": {
            "backgroundcolor": "#E5ECF6",
            "gridcolor": "white",
            "gridwidth": 2,
            "linecolor": "white",
            "showbackground": true,
            "ticks": "",
            "zerolinecolor": "white"
           },
           "zaxis": {
            "backgroundcolor": "#E5ECF6",
            "gridcolor": "white",
            "gridwidth": 2,
            "linecolor": "white",
            "showbackground": true,
            "ticks": "",
            "zerolinecolor": "white"
           }
          },
          "shapedefaults": {
           "line": {
            "color": "#2a3f5f"
           }
          },
          "ternary": {
           "aaxis": {
            "gridcolor": "white",
            "linecolor": "white",
            "ticks": ""
           },
           "baxis": {
            "gridcolor": "white",
            "linecolor": "white",
            "ticks": ""
           },
           "bgcolor": "#E5ECF6",
           "caxis": {
            "gridcolor": "white",
            "linecolor": "white",
            "ticks": ""
           }
          },
          "title": {
           "x": 0.05
          },
          "xaxis": {
           "automargin": true,
           "gridcolor": "white",
           "linecolor": "white",
           "ticks": "",
           "title": {
            "standoff": 15
           },
           "zerolinecolor": "white",
           "zerolinewidth": 2
          },
          "yaxis": {
           "automargin": true,
           "gridcolor": "white",
           "linecolor": "white",
           "ticks": "",
           "title": {
            "standoff": 15
           },
           "zerolinecolor": "white",
           "zerolinewidth": 2
          }
         }
        },
        "title": {
         "text": "Exponential Smoothing Performance on Standard Tariff Data"
        },
        "xaxis": {
         "title": {
          "text": "Date-Time"
         }
        },
        "yaxis": {
         "title": {
          "text": "Power, KW"
         }
        }
       }
      }
     },
     "metadata": {},
     "output_type": "display_data"
    }
   ],
   "source": [
    "fig = go.Figure()\n",
    "fig.add_trace(go.Line(x=Std_train.index, y=Std_train, mode='lines', name=\"Train\"))\n",
    "fig.add_trace(go.Line(x=Std_test.index, y=Std_test, mode='lines', name=\"Test\"))\n",
    "fig.add_trace(go.Line(x=Std_test.index, y=Std_pred_test, mode='lines', name=\"Test Predictions\"))\n",
    "fig.add_trace(go.Line(x=Std_train.index, y=Std_pred_train, mode='lines', name=\"Train Predictions\"))\n",
    "fig.update_xaxes(title_text = 'Date-Time')\n",
    "fig.update_yaxes(title_text = 'Power, KW')\n",
    "fig.update_layout(title = 'Exponential Smoothing Performance on Standard Tariff Data')\n",
    "fig.show()"
   ]
  },
  {
   "cell_type": "markdown",
   "metadata": {},
   "source": [
    "From the model summary, we can see that the train and test MAPEs are comparable to the SARIMA model for standard tariffs, however from the plot, it can be seen that the exponential smoothing model seems to do a better job of predicting  periods of larger variance i.e. the winter months. We do not see the same anomalous spike in February as we did with the SARIMA model.\n",
    "\n",
    "Like the SARIMA model, exponential smoothing overpredicts the test data. This again could be attributed to the limited number of seasons captured in the dataset."
   ]
  },
  {
   "cell_type": "markdown",
   "metadata": {},
   "source": [
    "---\n",
    "\n",
    "## *Variable Tariff*"
   ]
  },
  {
   "cell_type": "code",
   "execution_count": 30,
   "metadata": {},
   "outputs": [],
   "source": [
    "ToU_test = wks_df['ToU'].tail(round(0.09*wks_df[\"ToU\"].count()))\n",
    "ToU_train = wks_df['ToU'].loc[wks_df.index < ToU_test.index[0]]"
   ]
  },
  {
   "cell_type": "code",
   "execution_count": 31,
   "metadata": {},
   "outputs": [
    {
     "name": "stdout",
     "output_type": "stream",
     "text": [
      "\n",
      "\n",
      "===============================    \n",
      "Train MAPE: 2.56%    \n",
      "Test MAPE: 3.46%    \n",
      "===============================    \n",
      "\n",
      "                       ExponentialSmoothing Model Results                       \n",
      "================================================================================\n",
      "Dep. Variable:                      ToU   No. Observations:                  104\n",
      "Model:             ExponentialSmoothing   SSE                              0.024\n",
      "Optimized:                         True   AIC                           -758.329\n",
      "Trend:                   Multiplicative   BIC                           -610.244\n",
      "Seasonal:                Multiplicative   AICC                          -606.241\n",
      "Seasonal Periods:                    52   Date:                 Sat, 05 Nov 2022\n",
      "Box-Cox:                          False   Time:                         15:19:14\n",
      "Box-Cox Coeff.:                    None                                         \n",
      "=================================================================================\n",
      "                          coeff                 code              optimized      \n",
      "---------------------------------------------------------------------------------\n",
      "smoothing_level               1.0000000                alpha                 True\n",
      "smoothing_trend                0.000000                 beta                 True\n",
      "smoothing_seasonal             1.49e-08                gamma                 True\n",
      "initial_level                 0.4452778                  l.0                 True\n",
      "initial_trend                 0.9976650                  b.0                 True\n",
      "initial_seasons.0             1.1904165                  s.0                 True\n",
      "initial_seasons.1             1.2027785                  s.1                 True\n",
      "initial_seasons.2             1.1923186                  s.2                 True\n",
      "initial_seasons.3             1.2811477                  s.3                 True\n",
      "initial_seasons.4             1.2329981                  s.4                 True\n",
      "initial_seasons.5             1.2409778                  s.5                 True\n",
      "initial_seasons.6             1.3050926                  s.6                 True\n",
      "initial_seasons.7             1.2053883                  s.7                 True\n",
      "initial_seasons.8             1.1791155                  s.8                 True\n",
      "initial_seasons.9             1.1554246                  s.9                 True\n",
      "initial_seasons.10            1.1312095                 s.10                 True\n",
      "initial_seasons.11            1.1355809                 s.11                 True\n",
      "initial_seasons.12            1.1017691                 s.12                 True\n",
      "initial_seasons.13            1.0873169                 s.13                 True\n",
      "initial_seasons.14            1.0505393                 s.14                 True\n",
      "initial_seasons.15            0.9924174                 s.15                 True\n",
      "initial_seasons.16            0.9723004                 s.16                 True\n",
      "initial_seasons.17            0.9389020                 s.17                 True\n",
      "initial_seasons.18            0.8991175                 s.18                 True\n",
      "initial_seasons.19            0.8807363                 s.19                 True\n",
      "initial_seasons.20            0.8898544                 s.20                 True\n",
      "initial_seasons.21            0.8306903                 s.21                 True\n",
      "initial_seasons.22            0.8279984                 s.22                 True\n",
      "initial_seasons.23            0.8232349                 s.23                 True\n",
      "initial_seasons.24            0.8493472                 s.24                 True\n",
      "initial_seasons.25            0.8133742                 s.25                 True\n",
      "initial_seasons.26            0.8015619                 s.26                 True\n",
      "initial_seasons.27            0.8114890                 s.27                 True\n",
      "initial_seasons.28            0.8060986                 s.28                 True\n",
      "initial_seasons.29            0.8009384                 s.29                 True\n",
      "initial_seasons.30            0.7952194                 s.30                 True\n",
      "initial_seasons.31            0.7953536                 s.31                 True\n",
      "initial_seasons.32            0.7856951                 s.32                 True\n",
      "initial_seasons.33            0.7888560                 s.33                 True\n",
      "initial_seasons.34            0.7952146                 s.34                 True\n",
      "initial_seasons.35            0.8071969                 s.35                 True\n",
      "initial_seasons.36            0.8138645                 s.36                 True\n",
      "initial_seasons.37            0.8593674                 s.37                 True\n",
      "initial_seasons.38            0.8869804                 s.38                 True\n",
      "initial_seasons.39            0.9057629                 s.39                 True\n",
      "initial_seasons.40            0.9231855                 s.40                 True\n",
      "initial_seasons.41            0.9721206                 s.41                 True\n",
      "initial_seasons.42            0.9865801                 s.42                 True\n",
      "initial_seasons.43            1.0102716                 s.43                 True\n",
      "initial_seasons.44            1.0709731                 s.44                 True\n",
      "initial_seasons.45            1.1070451                 s.45                 True\n",
      "initial_seasons.46            1.1136892                 s.46                 True\n",
      "initial_seasons.47            1.1580262                 s.47                 True\n",
      "initial_seasons.48            1.2028797                 s.48                 True\n",
      "initial_seasons.49            1.2279746                 s.49                 True\n",
      "initial_seasons.50            1.2456785                 s.50                 True\n",
      "initial_seasons.51            1.2108848                 s.51                 True\n",
      "---------------------------------------------------------------------------------\n"
     ]
    }
   ],
   "source": [
    "ES_ToU = ExponentialSmoothing(endog = ToU_train, seasonal = 'mul', trend = 'mul', seasonal_periods=52).fit()\n",
    "\n",
    "ToU_pred_train = ES_ToU.predict(ToU_train.index[0], end=ToU_train.index[-1])\n",
    "ToU_pred_test = ES_ToU.predict(ToU_test.index[0], end=ToU_test.index[-1])\n",
    "\n",
    "print(f'\\n\\n===============================\\\n",
    "    \\nTrain MAPE: {round(mean_absolute_percentage_error(ToU_train, ToU_pred_train)*100, 2)}%\\\n",
    "    \\nTest MAPE: {round(mean_absolute_percentage_error(ToU_test, ToU_pred_test)*100, 2)}%\\\n",
    "    \\n===============================\\\n",
    "    \\n\\n{ES_ToU.summary()}')"
   ]
  },
  {
   "cell_type": "code",
   "execution_count": 37,
   "metadata": {},
   "outputs": [
    {
     "data": {
      "application/vnd.plotly.v1+json": {
       "config": {
        "plotlyServerURL": "https://plot.ly"
       },
       "data": [
        {
         "mode": "lines",
         "name": "Train",
         "type": "scatter",
         "x": [
          "2012-01-01T00:00:00",
          "2012-01-08T00:00:00",
          "2012-01-15T00:00:00",
          "2012-01-22T00:00:00",
          "2012-01-29T00:00:00",
          "2012-02-05T00:00:00",
          "2012-02-12T00:00:00",
          "2012-02-19T00:00:00",
          "2012-02-26T00:00:00",
          "2012-03-04T00:00:00",
          "2012-03-11T00:00:00",
          "2012-03-18T00:00:00",
          "2012-03-25T00:00:00",
          "2012-04-01T00:00:00",
          "2012-04-08T00:00:00",
          "2012-04-15T00:00:00",
          "2012-04-22T00:00:00",
          "2012-04-29T00:00:00",
          "2012-05-06T00:00:00",
          "2012-05-13T00:00:00",
          "2012-05-20T00:00:00",
          "2012-05-27T00:00:00",
          "2012-06-03T00:00:00",
          "2012-06-10T00:00:00",
          "2012-06-17T00:00:00",
          "2012-06-24T00:00:00",
          "2012-07-01T00:00:00",
          "2012-07-08T00:00:00",
          "2012-07-15T00:00:00",
          "2012-07-22T00:00:00",
          "2012-07-29T00:00:00",
          "2012-08-05T00:00:00",
          "2012-08-12T00:00:00",
          "2012-08-19T00:00:00",
          "2012-08-26T00:00:00",
          "2012-09-02T00:00:00",
          "2012-09-09T00:00:00",
          "2012-09-16T00:00:00",
          "2012-09-23T00:00:00",
          "2012-09-30T00:00:00",
          "2012-10-07T00:00:00",
          "2012-10-14T00:00:00",
          "2012-10-21T00:00:00",
          "2012-10-28T00:00:00",
          "2012-11-04T00:00:00",
          "2012-11-11T00:00:00",
          "2012-11-18T00:00:00",
          "2012-11-25T00:00:00",
          "2012-12-02T00:00:00",
          "2012-12-09T00:00:00",
          "2012-12-16T00:00:00",
          "2012-12-23T00:00:00",
          "2012-12-30T00:00:00",
          "2013-01-06T00:00:00",
          "2013-01-13T00:00:00",
          "2013-01-20T00:00:00",
          "2013-01-27T00:00:00",
          "2013-02-03T00:00:00",
          "2013-02-10T00:00:00",
          "2013-02-17T00:00:00",
          "2013-02-24T00:00:00",
          "2013-03-03T00:00:00",
          "2013-03-10T00:00:00",
          "2013-03-17T00:00:00",
          "2013-03-24T00:00:00",
          "2013-03-31T00:00:00",
          "2013-04-07T00:00:00",
          "2013-04-14T00:00:00",
          "2013-04-21T00:00:00",
          "2013-04-28T00:00:00",
          "2013-05-05T00:00:00",
          "2013-05-12T00:00:00",
          "2013-05-19T00:00:00",
          "2013-05-26T00:00:00",
          "2013-06-02T00:00:00",
          "2013-06-09T00:00:00",
          "2013-06-16T00:00:00",
          "2013-06-23T00:00:00",
          "2013-06-30T00:00:00",
          "2013-07-07T00:00:00",
          "2013-07-14T00:00:00",
          "2013-07-21T00:00:00",
          "2013-07-28T00:00:00",
          "2013-08-04T00:00:00",
          "2013-08-11T00:00:00",
          "2013-08-18T00:00:00",
          "2013-08-25T00:00:00",
          "2013-09-01T00:00:00",
          "2013-09-08T00:00:00",
          "2013-09-15T00:00:00",
          "2013-09-22T00:00:00",
          "2013-09-29T00:00:00",
          "2013-10-06T00:00:00",
          "2013-10-13T00:00:00",
          "2013-10-20T00:00:00",
          "2013-10-27T00:00:00",
          "2013-11-03T00:00:00",
          "2013-11-10T00:00:00",
          "2013-11-17T00:00:00",
          "2013-11-24T00:00:00",
          "2013-12-01T00:00:00",
          "2013-12-08T00:00:00",
          "2013-12-15T00:00:00",
          "2013-12-22T00:00:00"
         ],
         "y": [
          0.5288375616073608,
          0.541720449924469,
          0.5262678861618042,
          0.533955991268158,
          0.5030496120452881,
          0.5644826889038086,
          0.5893929600715637,
          0.522232174873352,
          0.492644339799881,
          0.47590404748916626,
          0.4879904091358185,
          0.45095622539520264,
          0.4305988550186157,
          0.4167167544364929,
          0.42114031314849854,
          0.4126763641834259,
          0.43132907152175903,
          0.41907548904418945,
          0.39355382323265076,
          0.37746307253837585,
          0.3724399209022522,
          0.3295988142490387,
          0.33020350337028503,
          0.3509269952774048,
          0.35123851895332336,
          0.33313360810279846,
          0.32694002985954285,
          0.33648812770843506,
          0.33659520745277405,
          0.33147022128105164,
          0.3233732581138611,
          0.32344138622283936,
          0.3241891860961914,
          0.32031673192977905,
          0.3207285702228546,
          0.33277758955955505,
          0.32574883103370667,
          0.33512023091316223,
          0.35627883672714233,
          0.3770741820335388,
          0.37942928075790405,
          0.3988679051399231,
          0.40431714057922363,
          0.4274137616157532,
          0.44794341921806335,
          0.45134231448173523,
          0.447724312543869,
          0.4564525783061981,
          0.49229174852371216,
          0.5073488354682922,
          0.512747585773468,
          0.48194923996925354,
          0.4722457528114319,
          0.46584805846214294,
          0.4711137115955353,
          0.5382393002510071,
          0.5260159969329834,
          0.471151739358902,
          0.49764516949653625,
          0.4832665026187897,
          0.4899747669696808,
          0.48482081294059753,
          0.45097559690475464,
          0.4926569163799286,
          0.4824638366699219,
          0.48163875937461853,
          0.4474160373210907,
          0.40680021047592163,
          0.3691192865371704,
          0.35144975781440735,
          0.3437838852405548,
          0.3440144956111908,
          0.3555527329444885,
          0.3491806089878082,
          0.3450402319431305,
          0.32010823488235474,
          0.3408151865005493,
          0.32837650179862976,
          0.32381483912467957,
          0.3209863007068634,
          0.3152351379394531,
          0.31535884737968445,
          0.31834372878074646,
          0.3176893889904022,
          0.3085298240184784,
          0.31467199325561523,
          0.31873440742492676,
          0.3157019317150116,
          0.3277517557144165,
          0.3538472056388855,
          0.354097455739975,
          0.3466198146343231,
          0.3565657138824463,
          0.3739354908466339,
          0.377657026052475,
          0.36995378136634827,
          0.39555734395980835,
          0.41953009366989136,
          0.4261915385723114,
          0.4500652551651001,
          0.44640040397644043,
          0.44758230447769165,
          0.45341408252716064,
          0.45659175515174866
         ]
        },
        {
         "mode": "lines",
         "name": "Test",
         "type": "scatter",
         "x": [
          "2013-12-29T00:00:00",
          "2014-01-05T00:00:00",
          "2014-01-12T00:00:00",
          "2014-01-19T00:00:00",
          "2014-01-26T00:00:00",
          "2014-02-02T00:00:00",
          "2014-02-09T00:00:00",
          "2014-02-16T00:00:00",
          "2014-02-23T00:00:00",
          "2014-03-02T00:00:00"
         ],
         "y": [
          0.46702083945274353,
          0.4685191512107849,
          0.4458824396133423,
          0.4421766698360443,
          0.4499896764755249,
          0.46100252866744995,
          0.4496959149837494,
          0.4545620381832123,
          0.4241374731063843,
          0.4090067148208618
         ]
        },
        {
         "mode": "lines",
         "name": "Test Predictions",
         "type": "scatter",
         "x": [
          "2013-12-29T00:00:00",
          "2014-01-05T00:00:00",
          "2014-01-12T00:00:00",
          "2014-01-19T00:00:00",
          "2014-01-26T00:00:00",
          "2014-02-02T00:00:00",
          "2014-02-09T00:00:00",
          "2014-02-16T00:00:00",
          "2014-02-23T00:00:00",
          "2014-03-02T00:00:00"
         ],
         "y": [
          0.44782555477045666,
          0.45141952352479053,
          0.44644885116266225,
          0.4785896377145027,
          0.4595272017179249,
          0.4614211935653017,
          0.48412731671272097,
          0.4460976718685502,
          0.4353554990089989,
          0.4256121755284914
         ]
        },
        {
         "mode": "lines",
         "name": "Train Predictions",
         "type": "scatter",
         "x": [
          "2012-01-01T00:00:00",
          "2012-01-08T00:00:00",
          "2012-01-15T00:00:00",
          "2012-01-22T00:00:00",
          "2012-01-29T00:00:00",
          "2012-02-05T00:00:00",
          "2012-02-12T00:00:00",
          "2012-02-19T00:00:00",
          "2012-02-26T00:00:00",
          "2012-03-04T00:00:00",
          "2012-03-11T00:00:00",
          "2012-03-18T00:00:00",
          "2012-03-25T00:00:00",
          "2012-04-01T00:00:00",
          "2012-04-08T00:00:00",
          "2012-04-15T00:00:00",
          "2012-04-22T00:00:00",
          "2012-04-29T00:00:00",
          "2012-05-06T00:00:00",
          "2012-05-13T00:00:00",
          "2012-05-20T00:00:00",
          "2012-05-27T00:00:00",
          "2012-06-03T00:00:00",
          "2012-06-10T00:00:00",
          "2012-06-17T00:00:00",
          "2012-06-24T00:00:00",
          "2012-07-01T00:00:00",
          "2012-07-08T00:00:00",
          "2012-07-15T00:00:00",
          "2012-07-22T00:00:00",
          "2012-07-29T00:00:00",
          "2012-08-05T00:00:00",
          "2012-08-12T00:00:00",
          "2012-08-19T00:00:00",
          "2012-08-26T00:00:00",
          "2012-09-02T00:00:00",
          "2012-09-09T00:00:00",
          "2012-09-16T00:00:00",
          "2012-09-23T00:00:00",
          "2012-09-30T00:00:00",
          "2012-10-07T00:00:00",
          "2012-10-14T00:00:00",
          "2012-10-21T00:00:00",
          "2012-10-28T00:00:00",
          "2012-11-04T00:00:00",
          "2012-11-11T00:00:00",
          "2012-11-18T00:00:00",
          "2012-11-25T00:00:00",
          "2012-12-02T00:00:00",
          "2012-12-09T00:00:00",
          "2012-12-16T00:00:00",
          "2012-12-23T00:00:00",
          "2012-12-30T00:00:00",
          "2013-01-06T00:00:00",
          "2013-01-13T00:00:00",
          "2013-01-20T00:00:00",
          "2013-01-27T00:00:00",
          "2013-02-03T00:00:00",
          "2013-02-10T00:00:00",
          "2013-02-17T00:00:00",
          "2013-02-24T00:00:00",
          "2013-03-03T00:00:00",
          "2013-03-10T00:00:00",
          "2013-03-17T00:00:00",
          "2013-03-24T00:00:00",
          "2013-03-31T00:00:00",
          "2013-04-07T00:00:00",
          "2013-04-14T00:00:00",
          "2013-04-21T00:00:00",
          "2013-04-28T00:00:00",
          "2013-05-05T00:00:00",
          "2013-05-12T00:00:00",
          "2013-05-19T00:00:00",
          "2013-05-26T00:00:00",
          "2013-06-02T00:00:00",
          "2013-06-09T00:00:00",
          "2013-06-16T00:00:00",
          "2013-06-23T00:00:00",
          "2013-06-30T00:00:00",
          "2013-07-07T00:00:00",
          "2013-07-14T00:00:00",
          "2013-07-21T00:00:00",
          "2013-07-28T00:00:00",
          "2013-08-04T00:00:00",
          "2013-08-11T00:00:00",
          "2013-08-18T00:00:00",
          "2013-08-25T00:00:00",
          "2013-09-01T00:00:00",
          "2013-09-08T00:00:00",
          "2013-09-15T00:00:00",
          "2013-09-22T00:00:00",
          "2013-09-29T00:00:00",
          "2013-10-06T00:00:00",
          "2013-10-13T00:00:00",
          "2013-10-20T00:00:00",
          "2013-10-27T00:00:00",
          "2013-11-03T00:00:00",
          "2013-11-10T00:00:00",
          "2013-11-17T00:00:00",
          "2013-11-24T00:00:00",
          "2013-12-01T00:00:00",
          "2013-12-08T00:00:00",
          "2013-12-15T00:00:00",
          "2013-12-22T00:00:00"
         ],
         "y": [
          0.5288282378887424,
          0.5330816902076578,
          0.5357554634364086,
          0.5641550204824755,
          0.512688297203874,
          0.5051229938804388,
          0.592260383779684,
          0.5430943929636697,
          0.5096566671042817,
          0.48161889065376756,
          0.4648421869355251,
          0.4887323009223982,
          0.4365074030363412,
          0.42395833070770944,
          0.4016815236292246,
          0.39691140464270924,
          0.4033670581218133,
          0.4155404160750785,
          0.4003807325549205,
          0.38460796733172464,
          0.38048037879637425,
          0.34686550590900134,
          0.32776360708890107,
          0.3275372590199924,
          0.36121264890196586,
          0.3355768872933133,
          0.32752905599986215,
          0.3302161873188112,
          0.3334724838611509,
          0.33365960447325693,
          0.3283349067724993,
          0.3226726240817381,
          0.318767563495948,
          0.32473336850064105,
          0.3221446861046343,
          0.3248011269679033,
          0.3347429311964084,
          0.343158166079305,
          0.34508060900912413,
          0.3629737555322892,
          0.38342989338423883,
          0.3986086663284643,
          0.4038555386442475,
          0.4130595345761452,
          0.45203664628651646,
          0.4619496413301305,
          0.45299090756257326,
          0.46446157424120943,
          0.4730250877050306,
          0.5013886388241123,
          0.5134616112182776,
          0.49726193182890727,
          0.47269619621965825,
          0.4760357100984046,
          0.46071851727520946,
          0.5050301800714453,
          0.5168009995262582,
          0.5281840383773255,
          0.4943367013520351,
          0.4585536634584987,
          0.4716292993470602,
          0.47900906287625045,
          0.47355169235196154,
          0.4516612148756587,
          0.4768719860506056,
          0.4750234710322696,
          0.46426112879787,
          0.42167544280897296,
          0.3976234614814643,
          0.35560779975606127,
          0.3357717527212717,
          0.3359693475586096,
          0.34676442554726167,
          0.3311379138777859,
          0.3472363700950222,
          0.34225418809811153,
          0.32949059227896127,
          0.3256183282476674,
          0.3228519819502073,
          0.3270596801635485,
          0.3181095860815095,
          0.3124858260484341,
          0.3123759272150721,
          0.31765399185876714,
          0.31309868438636645,
          0.30904772069752406,
          0.3164677344471325,
          0.32278164271430193,
          0.3175664266893872,
          0.34526813487171415,
          0.36436418326407277,
          0.3607513840648823,
          0.3524622075968415,
          0.374589392157622,
          0.37861135763128895,
          0.38582295886296236,
          0.3912664535159088,
          0.4079255665691525,
          0.4210624877633517,
          0.4421238411693807,
          0.46640585898258036,
          0.45464928424106354,
          0.45297498524189,
          0.4397203784959206
         ]
        }
       ],
       "layout": {
        "template": {
         "data": {
          "bar": [
           {
            "error_x": {
             "color": "#2a3f5f"
            },
            "error_y": {
             "color": "#2a3f5f"
            },
            "marker": {
             "line": {
              "color": "#E5ECF6",
              "width": 0.5
             }
            },
            "type": "bar"
           }
          ],
          "barpolar": [
           {
            "marker": {
             "line": {
              "color": "#E5ECF6",
              "width": 0.5
             }
            },
            "type": "barpolar"
           }
          ],
          "carpet": [
           {
            "aaxis": {
             "endlinecolor": "#2a3f5f",
             "gridcolor": "white",
             "linecolor": "white",
             "minorgridcolor": "white",
             "startlinecolor": "#2a3f5f"
            },
            "baxis": {
             "endlinecolor": "#2a3f5f",
             "gridcolor": "white",
             "linecolor": "white",
             "minorgridcolor": "white",
             "startlinecolor": "#2a3f5f"
            },
            "type": "carpet"
           }
          ],
          "choropleth": [
           {
            "colorbar": {
             "outlinewidth": 0,
             "ticks": ""
            },
            "type": "choropleth"
           }
          ],
          "contour": [
           {
            "colorbar": {
             "outlinewidth": 0,
             "ticks": ""
            },
            "colorscale": [
             [
              0,
              "#0d0887"
             ],
             [
              0.1111111111111111,
              "#46039f"
             ],
             [
              0.2222222222222222,
              "#7201a8"
             ],
             [
              0.3333333333333333,
              "#9c179e"
             ],
             [
              0.4444444444444444,
              "#bd3786"
             ],
             [
              0.5555555555555556,
              "#d8576b"
             ],
             [
              0.6666666666666666,
              "#ed7953"
             ],
             [
              0.7777777777777778,
              "#fb9f3a"
             ],
             [
              0.8888888888888888,
              "#fdca26"
             ],
             [
              1,
              "#f0f921"
             ]
            ],
            "type": "contour"
           }
          ],
          "contourcarpet": [
           {
            "colorbar": {
             "outlinewidth": 0,
             "ticks": ""
            },
            "type": "contourcarpet"
           }
          ],
          "heatmap": [
           {
            "colorbar": {
             "outlinewidth": 0,
             "ticks": ""
            },
            "colorscale": [
             [
              0,
              "#0d0887"
             ],
             [
              0.1111111111111111,
              "#46039f"
             ],
             [
              0.2222222222222222,
              "#7201a8"
             ],
             [
              0.3333333333333333,
              "#9c179e"
             ],
             [
              0.4444444444444444,
              "#bd3786"
             ],
             [
              0.5555555555555556,
              "#d8576b"
             ],
             [
              0.6666666666666666,
              "#ed7953"
             ],
             [
              0.7777777777777778,
              "#fb9f3a"
             ],
             [
              0.8888888888888888,
              "#fdca26"
             ],
             [
              1,
              "#f0f921"
             ]
            ],
            "type": "heatmap"
           }
          ],
          "heatmapgl": [
           {
            "colorbar": {
             "outlinewidth": 0,
             "ticks": ""
            },
            "colorscale": [
             [
              0,
              "#0d0887"
             ],
             [
              0.1111111111111111,
              "#46039f"
             ],
             [
              0.2222222222222222,
              "#7201a8"
             ],
             [
              0.3333333333333333,
              "#9c179e"
             ],
             [
              0.4444444444444444,
              "#bd3786"
             ],
             [
              0.5555555555555556,
              "#d8576b"
             ],
             [
              0.6666666666666666,
              "#ed7953"
             ],
             [
              0.7777777777777778,
              "#fb9f3a"
             ],
             [
              0.8888888888888888,
              "#fdca26"
             ],
             [
              1,
              "#f0f921"
             ]
            ],
            "type": "heatmapgl"
           }
          ],
          "histogram": [
           {
            "marker": {
             "colorbar": {
              "outlinewidth": 0,
              "ticks": ""
             }
            },
            "type": "histogram"
           }
          ],
          "histogram2d": [
           {
            "colorbar": {
             "outlinewidth": 0,
             "ticks": ""
            },
            "colorscale": [
             [
              0,
              "#0d0887"
             ],
             [
              0.1111111111111111,
              "#46039f"
             ],
             [
              0.2222222222222222,
              "#7201a8"
             ],
             [
              0.3333333333333333,
              "#9c179e"
             ],
             [
              0.4444444444444444,
              "#bd3786"
             ],
             [
              0.5555555555555556,
              "#d8576b"
             ],
             [
              0.6666666666666666,
              "#ed7953"
             ],
             [
              0.7777777777777778,
              "#fb9f3a"
             ],
             [
              0.8888888888888888,
              "#fdca26"
             ],
             [
              1,
              "#f0f921"
             ]
            ],
            "type": "histogram2d"
           }
          ],
          "histogram2dcontour": [
           {
            "colorbar": {
             "outlinewidth": 0,
             "ticks": ""
            },
            "colorscale": [
             [
              0,
              "#0d0887"
             ],
             [
              0.1111111111111111,
              "#46039f"
             ],
             [
              0.2222222222222222,
              "#7201a8"
             ],
             [
              0.3333333333333333,
              "#9c179e"
             ],
             [
              0.4444444444444444,
              "#bd3786"
             ],
             [
              0.5555555555555556,
              "#d8576b"
             ],
             [
              0.6666666666666666,
              "#ed7953"
             ],
             [
              0.7777777777777778,
              "#fb9f3a"
             ],
             [
              0.8888888888888888,
              "#fdca26"
             ],
             [
              1,
              "#f0f921"
             ]
            ],
            "type": "histogram2dcontour"
           }
          ],
          "mesh3d": [
           {
            "colorbar": {
             "outlinewidth": 0,
             "ticks": ""
            },
            "type": "mesh3d"
           }
          ],
          "parcoords": [
           {
            "line": {
             "colorbar": {
              "outlinewidth": 0,
              "ticks": ""
             }
            },
            "type": "parcoords"
           }
          ],
          "pie": [
           {
            "automargin": true,
            "type": "pie"
           }
          ],
          "scatter": [
           {
            "marker": {
             "colorbar": {
              "outlinewidth": 0,
              "ticks": ""
             }
            },
            "type": "scatter"
           }
          ],
          "scatter3d": [
           {
            "line": {
             "colorbar": {
              "outlinewidth": 0,
              "ticks": ""
             }
            },
            "marker": {
             "colorbar": {
              "outlinewidth": 0,
              "ticks": ""
             }
            },
            "type": "scatter3d"
           }
          ],
          "scattercarpet": [
           {
            "marker": {
             "colorbar": {
              "outlinewidth": 0,
              "ticks": ""
             }
            },
            "type": "scattercarpet"
           }
          ],
          "scattergeo": [
           {
            "marker": {
             "colorbar": {
              "outlinewidth": 0,
              "ticks": ""
             }
            },
            "type": "scattergeo"
           }
          ],
          "scattergl": [
           {
            "marker": {
             "colorbar": {
              "outlinewidth": 0,
              "ticks": ""
             }
            },
            "type": "scattergl"
           }
          ],
          "scattermapbox": [
           {
            "marker": {
             "colorbar": {
              "outlinewidth": 0,
              "ticks": ""
             }
            },
            "type": "scattermapbox"
           }
          ],
          "scatterpolar": [
           {
            "marker": {
             "colorbar": {
              "outlinewidth": 0,
              "ticks": ""
             }
            },
            "type": "scatterpolar"
           }
          ],
          "scatterpolargl": [
           {
            "marker": {
             "colorbar": {
              "outlinewidth": 0,
              "ticks": ""
             }
            },
            "type": "scatterpolargl"
           }
          ],
          "scatterternary": [
           {
            "marker": {
             "colorbar": {
              "outlinewidth": 0,
              "ticks": ""
             }
            },
            "type": "scatterternary"
           }
          ],
          "surface": [
           {
            "colorbar": {
             "outlinewidth": 0,
             "ticks": ""
            },
            "colorscale": [
             [
              0,
              "#0d0887"
             ],
             [
              0.1111111111111111,
              "#46039f"
             ],
             [
              0.2222222222222222,
              "#7201a8"
             ],
             [
              0.3333333333333333,
              "#9c179e"
             ],
             [
              0.4444444444444444,
              "#bd3786"
             ],
             [
              0.5555555555555556,
              "#d8576b"
             ],
             [
              0.6666666666666666,
              "#ed7953"
             ],
             [
              0.7777777777777778,
              "#fb9f3a"
             ],
             [
              0.8888888888888888,
              "#fdca26"
             ],
             [
              1,
              "#f0f921"
             ]
            ],
            "type": "surface"
           }
          ],
          "table": [
           {
            "cells": {
             "fill": {
              "color": "#EBF0F8"
             },
             "line": {
              "color": "white"
             }
            },
            "header": {
             "fill": {
              "color": "#C8D4E3"
             },
             "line": {
              "color": "white"
             }
            },
            "type": "table"
           }
          ]
         },
         "layout": {
          "annotationdefaults": {
           "arrowcolor": "#2a3f5f",
           "arrowhead": 0,
           "arrowwidth": 1
          },
          "autotypenumbers": "strict",
          "coloraxis": {
           "colorbar": {
            "outlinewidth": 0,
            "ticks": ""
           }
          },
          "colorscale": {
           "diverging": [
            [
             0,
             "#8e0152"
            ],
            [
             0.1,
             "#c51b7d"
            ],
            [
             0.2,
             "#de77ae"
            ],
            [
             0.3,
             "#f1b6da"
            ],
            [
             0.4,
             "#fde0ef"
            ],
            [
             0.5,
             "#f7f7f7"
            ],
            [
             0.6,
             "#e6f5d0"
            ],
            [
             0.7,
             "#b8e186"
            ],
            [
             0.8,
             "#7fbc41"
            ],
            [
             0.9,
             "#4d9221"
            ],
            [
             1,
             "#276419"
            ]
           ],
           "sequential": [
            [
             0,
             "#0d0887"
            ],
            [
             0.1111111111111111,
             "#46039f"
            ],
            [
             0.2222222222222222,
             "#7201a8"
            ],
            [
             0.3333333333333333,
             "#9c179e"
            ],
            [
             0.4444444444444444,
             "#bd3786"
            ],
            [
             0.5555555555555556,
             "#d8576b"
            ],
            [
             0.6666666666666666,
             "#ed7953"
            ],
            [
             0.7777777777777778,
             "#fb9f3a"
            ],
            [
             0.8888888888888888,
             "#fdca26"
            ],
            [
             1,
             "#f0f921"
            ]
           ],
           "sequentialminus": [
            [
             0,
             "#0d0887"
            ],
            [
             0.1111111111111111,
             "#46039f"
            ],
            [
             0.2222222222222222,
             "#7201a8"
            ],
            [
             0.3333333333333333,
             "#9c179e"
            ],
            [
             0.4444444444444444,
             "#bd3786"
            ],
            [
             0.5555555555555556,
             "#d8576b"
            ],
            [
             0.6666666666666666,
             "#ed7953"
            ],
            [
             0.7777777777777778,
             "#fb9f3a"
            ],
            [
             0.8888888888888888,
             "#fdca26"
            ],
            [
             1,
             "#f0f921"
            ]
           ]
          },
          "colorway": [
           "#636efa",
           "#EF553B",
           "#00cc96",
           "#ab63fa",
           "#FFA15A",
           "#19d3f3",
           "#FF6692",
           "#B6E880",
           "#FF97FF",
           "#FECB52"
          ],
          "font": {
           "color": "#2a3f5f"
          },
          "geo": {
           "bgcolor": "white",
           "lakecolor": "white",
           "landcolor": "#E5ECF6",
           "showlakes": true,
           "showland": true,
           "subunitcolor": "white"
          },
          "hoverlabel": {
           "align": "left"
          },
          "hovermode": "closest",
          "mapbox": {
           "style": "light"
          },
          "paper_bgcolor": "white",
          "plot_bgcolor": "#E5ECF6",
          "polar": {
           "angularaxis": {
            "gridcolor": "white",
            "linecolor": "white",
            "ticks": ""
           },
           "bgcolor": "#E5ECF6",
           "radialaxis": {
            "gridcolor": "white",
            "linecolor": "white",
            "ticks": ""
           }
          },
          "scene": {
           "xaxis": {
            "backgroundcolor": "#E5ECF6",
            "gridcolor": "white",
            "gridwidth": 2,
            "linecolor": "white",
            "showbackground": true,
            "ticks": "",
            "zerolinecolor": "white"
           },
           "yaxis": {
            "backgroundcolor": "#E5ECF6",
            "gridcolor": "white",
            "gridwidth": 2,
            "linecolor": "white",
            "showbackground": true,
            "ticks": "",
            "zerolinecolor": "white"
           },
           "zaxis": {
            "backgroundcolor": "#E5ECF6",
            "gridcolor": "white",
            "gridwidth": 2,
            "linecolor": "white",
            "showbackground": true,
            "ticks": "",
            "zerolinecolor": "white"
           }
          },
          "shapedefaults": {
           "line": {
            "color": "#2a3f5f"
           }
          },
          "ternary": {
           "aaxis": {
            "gridcolor": "white",
            "linecolor": "white",
            "ticks": ""
           },
           "baxis": {
            "gridcolor": "white",
            "linecolor": "white",
            "ticks": ""
           },
           "bgcolor": "#E5ECF6",
           "caxis": {
            "gridcolor": "white",
            "linecolor": "white",
            "ticks": ""
           }
          },
          "title": {
           "x": 0.05
          },
          "xaxis": {
           "automargin": true,
           "gridcolor": "white",
           "linecolor": "white",
           "ticks": "",
           "title": {
            "standoff": 15
           },
           "zerolinecolor": "white",
           "zerolinewidth": 2
          },
          "yaxis": {
           "automargin": true,
           "gridcolor": "white",
           "linecolor": "white",
           "ticks": "",
           "title": {
            "standoff": 15
           },
           "zerolinecolor": "white",
           "zerolinewidth": 2
          }
         }
        },
        "title": {
         "text": "Exponential Smoothing Performance on Variable Tariff Data"
        },
        "xaxis": {
         "title": {
          "text": "Date-Time"
         }
        },
        "yaxis": {
         "title": {
          "text": "Power, KW"
         }
        }
       }
      }
     },
     "metadata": {},
     "output_type": "display_data"
    }
   ],
   "source": [
    "fig = go.Figure()\n",
    "fig.add_trace(go.Line(x=ToU_train.index, y=ToU_train, mode='lines', name=\"Train\"))\n",
    "fig.add_trace(go.Line(x=ToU_test.index, y=ToU_test, mode='lines', name=\"Test\"))\n",
    "fig.add_trace(go.Line(x=ToU_test.index, y=ToU_pred_test, mode='lines', name=\"Test Predictions\"))\n",
    "fig.add_trace(go.Line(x=ToU_train.index, y=ToU_pred_train, mode='lines', name=\"Train Predictions\"))\n",
    "fig.update_xaxes(title_text = 'Date-Time')\n",
    "fig.update_yaxes(title_text = 'Power, KW')\n",
    "fig.update_layout(title = 'Exponential Smoothing Performance on Variable Tariff Data')\n",
    "fig.show()"
   ]
  },
  {
   "cell_type": "markdown",
   "metadata": {},
   "source": [
    "For the variable tariff, the train and test MAPEs are significantly improved from both the standard tariff model, and the equivalent SARIMA model. The test errors are vastly reduced, this could be attributed to the fact that there is slightly less variance in the variable tariff data than there is in the standard tariff data, however without more seasonal cycles and a cross validation, it is difficult to tell whether this is the case, or the improvement is by chance given the small test set."
   ]
  }
 ],
 "metadata": {
  "kernelspec": {
   "display_name": "Python 3.8.13 ('timeseries')",
   "language": "python",
   "name": "python3"
  },
  "language_info": {
   "codemirror_mode": {
    "name": "ipython",
    "version": 3
   },
   "file_extension": ".py",
   "mimetype": "text/x-python",
   "name": "python",
   "nbconvert_exporter": "python",
   "pygments_lexer": "ipython3",
   "version": "3.8.13"
  },
  "orig_nbformat": 4,
  "vscode": {
   "interpreter": {
    "hash": "bfb2380aab582a7fe3779ab50675a7173aa24967d2493654c977dbf0df3f8b30"
   }
  }
 },
 "nbformat": 4,
 "nbformat_minor": 2
}
